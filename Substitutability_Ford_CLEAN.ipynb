{
  "cells": [
    {
      "cell_type": "code",
      "execution_count": null,
      "metadata": {
        "id": "R3nDipI99TdR"
      },
      "outputs": [],
      "source": [
        "\"\"\"\n",
        "I am working with the Ford Motor Company Bill of Lading dataset from"
      ]
    },
    {
      "cell_type": "code",
      "execution_count": 1,
      "metadata": {
        "executionInfo": {
          "elapsed": 2290,
          "status": "ok",
          "timestamp": 1741716062840,
          "user": {
            "displayName": "Chill Pill",
            "userId": "01927933884064651779"
          },
          "user_tz": 0
        },
        "id": "KbwMUBAZETXi"
      },
      "outputs": [],
      "source": [
        "import pandas as pd\n",
        "import numpy as np\n",
        "import matplotlib.pyplot as plt"
      ]
    },
    {
      "cell_type": "markdown",
      "metadata": {
        "id": "F536YhZhIFq8"
      },
      "source": [
        "**Part A: Computing Sikgt for Ford Motor Company**"
      ]
    },
    {
      "cell_type": "markdown",
      "metadata": {
        "id": "nyqD3uxzIeM_"
      },
      "source": [
        "Ford Motor Company-10-19-2024: 01-01-2015 to 30-09-2021\n",
        "Ford Motor Company-10-19-2024 (1): 30-09-2021 to 30-09-2024\n"
      ]
    },
    {
      "cell_type": "code",
      "execution_count": 2,
      "metadata": {
        "colab": {
          "base_uri": "https://localhost:8080/",
          "height": 0
        },
        "executionInfo": {
          "elapsed": 21959,
          "status": "ok",
          "timestamp": 1741716084797,
          "user": {
            "displayName": "Chill Pill",
            "userId": "01927933884064651779"
          },
          "user_tz": 0
        },
        "id": "JwH_NyOEJh0K",
        "outputId": "d5d284bc-29fb-47a5-be9a-62150cd2a8f7"
      },
      "outputs": [
        {
          "output_type": "stream",
          "name": "stdout",
          "text": [
            "Mounted at /content/drive\n"
          ]
        }
      ],
      "source": [
        "from google.colab import drive\n",
        "drive.mount('/content/drive')"
      ]
    },
    {
      "cell_type": "code",
      "execution_count": 3,
      "metadata": {
        "id": "nLAhMmKKH7KO",
        "executionInfo": {
          "status": "ok",
          "timestamp": 1741716084816,
          "user_tz": 0,
          "elapsed": 19,
          "user": {
            "displayName": "Chill Pill",
            "userId": "01927933884064651779"
          }
        }
      },
      "outputs": [],
      "source": [
        "#step 1 is to merge the two datasets"
      ]
    },
    {
      "cell_type": "code",
      "execution_count": 4,
      "metadata": {
        "executionInfo": {
          "elapsed": 19700,
          "status": "ok",
          "timestamp": 1741716104562,
          "user": {
            "displayName": "Chill Pill",
            "userId": "01927933884064651779"
          },
          "user_tz": 0
        },
        "id": "_Z9rMPxHH7Nf"
      },
      "outputs": [],
      "source": [
        "file_path = '/content/drive/My Drive/DISS DATA/Ford Motor Company-10-19-2024.xlsx'\n",
        "df1 = pd.read_excel(file_path)\n",
        "file_path = '/content/drive/My Drive/DISS DATA/Ford Motor Company-10-19-2024 (1).xlsx'\n",
        "df2 = pd.read_excel(file_path)"
      ]
    },
    {
      "cell_type": "code",
      "execution_count": 5,
      "metadata": {
        "executionInfo": {
          "elapsed": 5,
          "status": "ok",
          "timestamp": 1741716104566,
          "user": {
            "displayName": "Chill Pill",
            "userId": "01927933884064651779"
          },
          "user_tz": 0
        },
        "id": "f5J4lxc1H7QD"
      },
      "outputs": [],
      "source": [
        "# Concatenate both datasets\n",
        "df = pd.concat([df1, df2], ignore_index=True)"
      ]
    },
    {
      "cell_type": "code",
      "execution_count": 6,
      "metadata": {
        "id": "RZnY7PmmH7df",
        "executionInfo": {
          "status": "ok",
          "timestamp": 1741716104566,
          "user_tz": 0,
          "elapsed": 2,
          "user": {
            "displayName": "Chill Pill",
            "userId": "01927933884064651779"
          }
        }
      },
      "outputs": [],
      "source": [
        "#print(df_merged.head())"
      ]
    },
    {
      "cell_type": "code",
      "execution_count": 7,
      "metadata": {
        "executionInfo": {
          "elapsed": 115,
          "status": "ok",
          "timestamp": 1741716104680,
          "user": {
            "displayName": "Chill Pill",
            "userId": "01927933884064651779"
          },
          "user_tz": 0
        },
        "id": "0bG85HGVH7f5",
        "colab": {
          "base_uri": "https://localhost:8080/",
          "height": 0
        },
        "outputId": "1cd35c5a-6ec3-46bb-8f8b-24922a8e7df9"
      },
      "outputs": [
        {
          "output_type": "stream",
          "name": "stdout",
          "text": [
            "datetime64[ns]\n"
          ]
        }
      ],
      "source": [
        "# Step 2: Convert \"Arrival Date\" to a proper datetime\n",
        "df['Arrival Date'] = pd.to_datetime(df['Arrival Date'], errors='coerce')\n",
        "\n",
        "# Drop any rows without a valid date\n",
        "df = df.dropna(subset=['Arrival Date'])\n",
        "\n",
        "print(df['Arrival Date'].dtypes)"
      ]
    },
    {
      "cell_type": "code",
      "execution_count": 8,
      "metadata": {
        "id": "NbpgQKVbH7ks",
        "colab": {
          "base_uri": "https://localhost:8080/",
          "height": 0
        },
        "executionInfo": {
          "status": "ok",
          "timestamp": 1741716104715,
          "user_tz": 0,
          "elapsed": 34,
          "user": {
            "displayName": "Chill Pill",
            "userId": "01927933884064651779"
          }
        },
        "outputId": "b6e03ff2-fb73-4d9b-f71a-6e14de288143"
      },
      "outputs": [
        {
          "output_type": "stream",
          "name": "stdout",
          "text": [
            "['Ford Motor Company' 'Ford Motor Company S A'\n",
            " 'Ford Motor Company Brasil Ltda' 'Ford Motor Company C/O Fapco Inc'\n",
            " 'Ford Motor Company Sa Exel Inc' 'Ford Motor Company Sa De Cv'\n",
            " 'Ford Motor Company C/O Exel Inc' 'Ford Motor Company Thailand Limited'\n",
            " 'Ford Motor Company Inc' 'Ford Motor Company Sa C / O Exel Inc'\n",
            " 'Ford Motor Company Torin Inc'\n",
            " 'Gz7Wd Ford Motor Company Hearn Industrial Services Inc'\n",
            " 'Ford Motor Company 1500 Enterprise'\n",
            " 'Ford Camacari Brasil Ford Motor Company'\n",
            " 'Ford Motor Company C/O C/O Exel Inc'\n",
            " 'Ford Motor Company Sa C/O Exel Inc'\n",
            " 'Ford Camacari Pto Plant Gl0Aa Ford Motor Company'\n",
            " 'Ford Motor Company Canada Ltd' 'Ford Motor Company Sa'\n",
            " 'Ford Motor Company Etxqc /' 'Ap05A Ford Motor Company'\n",
            " 'Artiflex G438A On Behalf Of Ford Motor Company'\n",
            " 'Ford Motor Company On Behalf Of Pak Rite Industries Inc'\n",
            " 'Artiflex Ae2Da On Behalf Of Ford Motor Company'\n",
            " 'Ford Motor Company C/O Pak Rite Industries Inc'\n",
            " 'Ford Motor Company C O Exel Inc' 'Ford Motor Company C/O'\n",
            " 'Ford Motor Company C/O Dsv Air' 'Ford Motor Company Brazil Ltda'\n",
            " 'Ford Motor Company C/O Pak Rite Ind Inc'\n",
            " 'Ford Motor Company Of Australia Ltd' 'Ford Motor Company Co Exel Inc'\n",
            " 'C/O Ford Motor Company Pak Rite Industries Inc'\n",
            " 'Ford Motor Company Exel Inc' 'Al3Dp Ford Motor Company C/O'\n",
            " 'Ford Motor Company C/O Hearn Industrial Services Inc'\n",
            " 'Ford Motor Company Dearborn Tool Die Inc' 'Ford Motor Company S/A De Cv'\n",
            " 'D3Qzm Ford Motor Company' 'Ford Motor Company C O Pak Rite Ind Inc'\n",
            " 'Ternes Packaging P7Aka C/O Ford Motor Company'\n",
            " 'Ford Motor Company Brasilltda'\n",
            " 'Ford Box 2003 Livonia Ap Ford Motor Company'\n",
            " 'Ford Motor Company C/O Penske' 'Ford Motor Company A Delaware Corp'\n",
            " 'Ford Motor Company C/O Dakkota Integrated Systems Llc'\n",
            " 'Ford Motor Company Buchanan Dtk3A Fapco Inc'\n",
            " 'Ford Camacari Brasil Bcmla Ford Motor Company'\n",
            " 'Ford Motor Company C/O Penske Logistika S A' 'Tdm Ford Motor Company'\n",
            " 'Ford Motor Company C/O Venchurs Inc'\n",
            " 'Ford Motor Company Plf30A Pak Rite Ind Inc'\n",
            " 'Ford Motor Company 8301 Enterprise'\n",
            " 'Ford Motor Company C/O Exel41873 Ecorse' 'Ford Motor Company C/O P'\n",
            " 'Ford Motor Company C/O Penske Logistika Co'\n",
            " 'Ford Motor Company C/O Versa Techno Logies Llc'\n",
            " 'Beijing China Ford Motor Company'\n",
            " 'Ford Motor Company 5333 8301 Enterprise'\n",
            " 'Allen Park Test Laboratories Ford Motor Company'\n",
            " 'Ford Motor Company C/Openske Logistika S A'\n",
            " 'Ford Motor Company Of Newzealand Limited'\n",
            " 'Ford Motor Company C/O Zf Lemforder Co'\n",
            " 'Ford Motor Company C/O Penske Logitstika S A'\n",
            " 'Ford Motor Company C/O Magna Powertrain Changzhou Co'\n",
            " 'Ford Motor Company O/B' 'Exel C/O Ford Motor Company'\n",
            " 'Ford Motor Company Mexico S A'\n",
            " 'Ford Motor Company Kansas City C/O Exel Inc'\n",
            " 'Ford Motor Company Chile Spa' 'Excel C/O Ford Motor Company'\n",
            " 'Ford Motor Company C/O Uti' 'Ford Motor Company C/O Exel 41873 Ecorse'\n",
            " 'Ford Motor Company Of Australia Limited'\n",
            " 'Ford Motor Company Kansas City O/B Exel Inc'\n",
            " 'Ford Motor Company C/O Ceva'\n",
            " 'Servicio Integral Automotor S De R L De C V Y/O Ford Motor Company S A'\n",
            " 'Ford Motor Company C/O Cli Inc' 'Ford Motor Company Na Mp&L Operatio'\n",
            " 'Ford Motor Company P025A Pak Ite Industries Inc'\n",
            " 'Ford Motor Company Butcher Engineering Enterprises'\n",
            " 'Ce4Bm Ford Motor Company' 'Ford Motor Company Na Mp&L Operat'\n",
            " 'Ford Motor Company Of Australia Pty'\n",
            " 'Ford Motor Company C/O Vision Link International Llc'\n",
            " 'Ford Motor Company Hearn Industrial Services Inc'\n",
            " 'Ford Motor Company Hearn Industri Services Inc'\n",
            " 'Ford Motor Company Ford Customer Service Division Co'\n",
            " 'Ford Motor Company Dakkota Integrated Systems Llc'\n",
            " 'Ford Motor Company Fapco Inc'\n",
            " 'Ford Motor Company Pak Rite Industries Inc'\n",
            " 'Ford Motor Company 8500 Enterprise' 'Ford Motor Company Gsdb Code Co'\n",
            " 'Dst On Dehalf Of Ford Motor Company' 'Ford Motor Company Chile Ltda'\n",
            " 'Ford Motor Company Chileltda' 'Fm1Bh Ford Motor Company 1500 Enterprise'\n",
            " 'Ford Motor Company Llc'\n",
            " 'Ford Motor Company Vision Link International Llc'\n",
            " 'Ford Motor Company Al3Dp C/O Exel Inc' 'Ford Motor Company C/O Dhl'\n",
            " 'Ford Motor Company Co' 'Ap03A Plant Ford Motor Company']\n"
          ]
        }
      ],
      "source": [
        "print(df['Company Name'].unique())"
      ]
    },
    {
      "cell_type": "code",
      "execution_count": 9,
      "metadata": {
        "id": "5DIvUL60H7nD",
        "executionInfo": {
          "status": "ok",
          "timestamp": 1741716104745,
          "user_tz": 0,
          "elapsed": 28,
          "user": {
            "displayName": "Chill Pill",
            "userId": "01927933884064651779"
          }
        }
      },
      "outputs": [],
      "source": [
        "#This includes subsidiaries, third party suppliers (that are integrated)"
      ]
    },
    {
      "cell_type": "code",
      "execution_count": 10,
      "metadata": {
        "executionInfo": {
          "elapsed": 5,
          "status": "ok",
          "timestamp": 1741716104748,
          "user": {
            "displayName": "Chill Pill",
            "userId": "01927933884064651779"
          },
          "user_tz": 0
        },
        "id": "jmYd00vdH7pb"
      },
      "outputs": [],
      "source": [
        "# ========== 3. DEFINE QUARTER COLUMN ==========\n",
        "df['Quarter'] = df['Arrival Date'].dt.to_period('Q')"
      ]
    },
    {
      "cell_type": "code",
      "execution_count": 11,
      "metadata": {
        "executionInfo": {
          "elapsed": 75,
          "status": "ok",
          "timestamp": 1741716104819,
          "user": {
            "displayName": "Chill Pill",
            "userId": "01927933884064651779"
          },
          "user_tz": 0
        },
        "id": "8rbcUfcSH7ru"
      },
      "outputs": [],
      "source": [
        "# ========== 3. SUM TOTAL VOLUME PER (QUARTER, HS CODE) ==========\n",
        "# We'll call the columns \"Quantity\" or \"Volume\" depending on your dataset.\n",
        "# Modify if you use \"Weight\" or something else.\n",
        "\n",
        "group_total = (df\n",
        "   .groupby(['Quarter', 'HS Code'], as_index=False)\n",
        "   .agg(TotalVolume=('Quantity', 'sum'),FullDescription=('HS Code Full Description', 'first'))\n",
        ")"
      ]
    },
    {
      "cell_type": "code",
      "execution_count": 12,
      "metadata": {
        "id": "-kxw55Z4H7uE",
        "colab": {
          "base_uri": "https://localhost:8080/",
          "height": 0
        },
        "executionInfo": {
          "status": "ok",
          "timestamp": 1741716104835,
          "user_tz": 0,
          "elapsed": 4,
          "user": {
            "displayName": "Chill Pill",
            "userId": "01927933884064651779"
          }
        },
        "outputId": "367b1333-8bbc-4f19-86cc-7287aa2a9a5e"
      },
      "outputs": [
        {
          "output_type": "stream",
          "name": "stdout",
          "text": [
            "     Quarter   HS Code  TotalVolume  \\\n",
            "0     2015Q1   30613.0         26.0   \n",
            "1     2015Q1   40390.0        222.0   \n",
            "2     2015Q1   40510.0         30.0   \n",
            "3     2015Q1   40590.0         56.0   \n",
            "4     2015Q1   91091.0         20.0   \n",
            "...      ...       ...          ...   \n",
            "4732  2024Q3  930610.0        762.0   \n",
            "4733  2024Q3  940190.0         19.0   \n",
            "4734  2024Q3  940350.0         54.0   \n",
            "4735  2024Q3  960321.0          3.0   \n",
            "4736  2024Q3  981800.0        400.0   \n",
            "\n",
            "                                        FullDescription  \n",
            "0     Fish and crustaceans, molluscs and other aquat...  \n",
            "1     Dairy produce; birds eggs; natural honey; edib...  \n",
            "2     Dairy produce; birds eggs; natural honey; edib...  \n",
            "3     Dairy produce; birds eggs; natural honey; edib...  \n",
            "4     Coffee, tea, mat\u00e9 and spices ; Ginger, saffron...  \n",
            "...                                                 ...  \n",
            "4732  Arms and ammunition; parts and accessories the...  \n",
            "4733  Furniture; bedding, mattresses, mattress suppo...  \n",
            "4734  Furniture; bedding, mattresses, mattress suppo...  \n",
            "4735  Miscellaneous manufactured articles ; Brooms, ...  \n",
            "4736                  Special classification provisions  \n",
            "\n",
            "[4737 rows x 4 columns]\n"
          ]
        }
      ],
      "source": [
        "print(group_total.head(500000))"
      ]
    },
    {
      "cell_type": "markdown",
      "metadata": {
        "id": "bd9RbeauOXr8"
      },
      "source": [
        "The code below is just used for visualisation -  what products were shipped in each quarter"
      ]
    },
    {
      "cell_type": "code",
      "execution_count": 13,
      "metadata": {
        "id": "Ue0KPT_RH7xh",
        "colab": {
          "base_uri": "https://localhost:8080/",
          "height": 0
        },
        "executionInfo": {
          "status": "ok",
          "timestamp": 1741716104842,
          "user_tz": 0,
          "elapsed": 6,
          "user": {
            "displayName": "Chill Pill",
            "userId": "01927933884064651779"
          }
        },
        "outputId": "d5fe6cd6-56bc-461f-b472-e08832723c0a"
      },
      "outputs": [
        {
          "output_type": "stream",
          "name": "stdout",
          "text": [
            "HS Code\n",
            "80810.0       29.0\n",
            "170240.0    1224.0\n",
            "170490.0     201.0\n",
            "200811.0      96.0\n",
            "290341.0      11.0\n",
            "             ...  \n",
            "920999.0       1.0\n",
            "940350.0    2623.0\n",
            "950320.0       7.0\n",
            "950629.0     527.0\n",
            "981800.0     217.0\n",
            "Name: TotalVolume, Length: 71, dtype: float64\n"
          ]
        }
      ],
      "source": [
        "# Filter for rows where the Quarter is '2015Q1'\n",
        "filtered_df = group_total[group_total['Quarter'] == '2018Q1']\n",
        "\n",
        "# Group by HS Code and sum the Quantity column\n",
        "hs_code_quantity = filtered_df.groupby('HS Code')['TotalVolume'].sum()\n",
        "\n",
        "# Display the result\n",
        "print(hs_code_quantity)"
      ]
    },
    {
      "cell_type": "code",
      "execution_count": 14,
      "metadata": {
        "executionInfo": {
          "elapsed": 33,
          "status": "ok",
          "timestamp": 1741716104875,
          "user": {
            "displayName": "Chill Pill",
            "userId": "01927933884064651779"
          },
          "user_tz": 0
        },
        "id": "yM86qJUUOWo-"
      },
      "outputs": [],
      "source": [
        "# ========== 4. SUPPLIER-LEVEL VOLUME PER (QUARTER, HS CODE, SUPPLIER) ==========\n",
        "group_supplier = (df\n",
        "   .groupby(['Quarter', 'HS Code', 'Supplier Name'], as_index=False)\n",
        "   .agg(SupplierVolume=('Quantity', 'sum'))\n",
        ")\n"
      ]
    },
    {
      "cell_type": "code",
      "execution_count": 15,
      "metadata": {
        "colab": {
          "base_uri": "https://localhost:8080/",
          "height": 0
        },
        "executionInfo": {
          "elapsed": 14,
          "status": "ok",
          "timestamp": 1741716104881,
          "user": {
            "displayName": "Chill Pill",
            "userId": "01927933884064651779"
          },
          "user_tz": 0
        },
        "id": "xWx3znkWOnlA",
        "outputId": "f2b22617-df42-4414-8ef8-af992b7133a4"
      },
      "outputs": [
        {
          "output_type": "stream",
          "name": "stdout",
          "text": [
            "     Quarter   HS Code                         Supplier Name  SupplierVolume\n",
            "0     2015Q1   30613.0           Zf Sistemas De Direcao Ltda            26.0\n",
            "1     2015Q1   40390.0               Ford Otomotiv Sanayi As           202.0\n",
            "2     2015Q1   40390.0                  Mahle Metal Leve S/A            20.0\n",
            "3     2015Q1   40510.0   Faurecia Valencia Modulos De Puerta            30.0\n",
            "4     2015Q1   40590.0            Faurecia Modulos De Puerta            42.0\n",
            "...      ...       ...                                   ...             ...\n",
            "1995  2017Q1  700910.0                    Fico Mirrors R1Amc           192.0\n",
            "1996  2017Q1  720221.0                Ford Motor Company S A           288.0\n",
            "1997  2017Q1  720229.0  Robert Bosch Direcao Automotiva Ltda            55.0\n",
            "1998  2017Q1  731822.0    Zhejiang Wanfeng Auto Wheel Co Ltd            75.0\n",
            "1999  2017Q1  820730.0              Rayhoo Motor Dies Co Ltd             2.0\n",
            "\n",
            "[2000 rows x 4 columns]\n"
          ]
        }
      ],
      "source": [
        "print(group_supplier.head(2000))"
      ]
    },
    {
      "cell_type": "code",
      "execution_count": 16,
      "metadata": {
        "executionInfo": {
          "elapsed": 43,
          "status": "ok",
          "timestamp": 1741716104920,
          "user": {
            "displayName": "Chill Pill",
            "userId": "01927933884064651779"
          },
          "user_tz": 0
        },
        "id": "xlgRGgpOOnnF"
      },
      "outputs": [],
      "source": [
        "# ========== 5. MERGE & COMPUTE s_{k}^g(t) ==========\n",
        "merged = pd.merge(\n",
        "    group_supplier,         # has SupplierVolume\n",
        "    group_total,            # has TotalVolume\n",
        "    on=['Quarter','HS Code'],\n",
        "    how='left'\n",
        ")"
      ]
    },
    {
      "cell_type": "code",
      "execution_count": 17,
      "metadata": {
        "executionInfo": {
          "elapsed": 10,
          "status": "ok",
          "timestamp": 1741716104924,
          "user": {
            "displayName": "Chill Pill",
            "userId": "01927933884064651779"
          },
          "user_tz": 0
        },
        "id": "PjBLYTb2Onph"
      },
      "outputs": [],
      "source": [
        "# s_{k}^g(t) = SupplierVolume / TotalVolume\n",
        "merged['s_k^g(t)'] = merged['SupplierVolume'] / merged['TotalVolume']"
      ]
    },
    {
      "cell_type": "code",
      "execution_count": 18,
      "metadata": {
        "colab": {
          "base_uri": "https://localhost:8080/",
          "height": 0
        },
        "executionInfo": {
          "elapsed": 12,
          "status": "ok",
          "timestamp": 1741716104926,
          "user": {
            "displayName": "Chill Pill",
            "userId": "01927933884064651779"
          },
          "user_tz": 0
        },
        "id": "ICRFA984Onr6",
        "outputId": "1d0a8967-1648-4789-a5c7-6e9635930554"
      },
      "outputs": [
        {
          "output_type": "stream",
          "name": "stdout",
          "text": [
            "     Quarter   HS Code                                      Supplier Name  \\\n",
            "0     2015Q1   30613.0                        Zf Sistemas De Direcao Ltda   \n",
            "1     2015Q1   40390.0                            Ford Otomotiv Sanayi As   \n",
            "2     2015Q1   40390.0                               Mahle Metal Leve S/A   \n",
            "3     2015Q1   40510.0                Faurecia Valencia Modulos De Puerta   \n",
            "4     2015Q1   40590.0                         Faurecia Modulos De Puerta   \n",
            "...      ...       ...                                                ...   \n",
            "8097  2024Q3  940190.0                      Vibracoustic Thailand Limited   \n",
            "8098  2024Q3  940350.0                    Guru Nanak Auto Enterprises Ltd   \n",
            "8099  2024Q3  960321.0                     Summit Plastics Nanjing Co Ltd   \n",
            "8100  2024Q3  981800.0  Eberspaecher Automotive Technology Tianjin Branch   \n",
            "8101  2024Q3  981800.0                               Ford Otomotiv Sanayi   \n",
            "\n",
            "      s_k^g(t)  \n",
            "0      1.00000  \n",
            "1      0.90991  \n",
            "2      0.09009  \n",
            "3      1.00000  \n",
            "4      0.75000  \n",
            "...        ...  \n",
            "8097   1.00000  \n",
            "8098   1.00000  \n",
            "8099   1.00000  \n",
            "8100   0.00750  \n",
            "8101   0.99250  \n",
            "\n",
            "[8102 rows x 4 columns]\n"
          ]
        }
      ],
      "source": [
        "print(merged[['Quarter', 'HS Code', 'Supplier Name', 's_k^g(t)']])\n",
        " #this is per product sikg(t) - treating all Ford Motor subitiaries as i"
      ]
    },
    {
      "cell_type": "markdown",
      "metadata": {
        "id": "ziYUnFlQPKkE"
      },
      "source": [
        "## **Part B: Creating wgg' for all products (927 different products imported marked by HS code) **"
      ]
    },
    {
      "cell_type": "markdown",
      "metadata": {
        "id": "sUiRz6imPmg4"
      },
      "source": [
        "Note: In your analysis mention that the amount of unique products per importer are around 900-1000 which is a good indication of the product variation required in the business and we can infer on the power of the local supply chain of a company given the variability of it's internaitonal imports. i.e if a firm imports more externally it could be that it ischeaper (which carries a tarrif cost OR that it's local supply chain and production capabilities are more resilient and cover more stuff)"
      ]
    },
    {
      "cell_type": "code",
      "execution_count": 19,
      "metadata": {
        "executionInfo": {
          "elapsed": 31,
          "status": "ok",
          "timestamp": 1741716104957,
          "user": {
            "displayName": "Chill Pill",
            "userId": "01927933884064651779"
          },
          "user_tz": 0
        },
        "id": "1RSZq7X-OnuR"
      },
      "outputs": [],
      "source": [
        "###########################\n",
        "# 1) LOAD AND PREP DATA   #\n",
        "###########################\n",
        "\n",
        "# Assume your DataFrame is `df` with columns:\n",
        "#   'HS Code' and 'HS code Full Description'\n",
        "# First, get a unique list of (HS Code, Description).\n",
        "df_codes = df[['HS Code','HS Code Full Description']].drop_duplicates(subset=['HS Code'])\n",
        "\n",
        "# Build a dictionary: {HS_code: description_text}.\n",
        "desc_dict = dict(zip(df_codes['HS Code'], df_codes['HS Code Full Description']))"
      ]
    },
    {
      "cell_type": "code",
      "execution_count": 20,
      "metadata": {
        "colab": {
          "base_uri": "https://localhost:8080/",
          "height": 0
        },
        "executionInfo": {
          "elapsed": 4,
          "status": "ok",
          "timestamp": 1741716104962,
          "user": {
            "displayName": "Chill Pill",
            "userId": "01927933884064651779"
          },
          "user_tz": 0
        },
        "id": "gSq_2kjEOnwh",
        "outputId": "72c0edae-2143-4ffb-ebd6-b75b46a562c8"
      },
      "outputs": [
        {
          "output_type": "stream",
          "name": "stdout",
          "text": [
            "927\n"
          ]
        }
      ],
      "source": [
        "print(len(desc_dict)) #this means there are 917 unique products imported by tesla HS code wise. Note all HS code descriptions correspond to the HS code and are not product specific"
      ]
    },
    {
      "cell_type": "code",
      "execution_count": 21,
      "metadata": {
        "executionInfo": {
          "elapsed": 17547,
          "status": "ok",
          "timestamp": 1741716122510,
          "user": {
            "displayName": "Chill Pill",
            "userId": "01927933884064651779"
          },
          "user_tz": 0
        },
        "id": "N5RlRY13Onyy"
      },
      "outputs": [],
      "source": [
        "import torch\n",
        "from transformers import AutoTokenizer, AutoModel"
      ]
    },
    {
      "cell_type": "code",
      "execution_count": 22,
      "metadata": {
        "colab": {
          "base_uri": "https://localhost:8080/",
          "height": 1013,
          "referenced_widgets": [
            "0938257448cd4f879adb74de8190374d",
            "105fe42cdbfe424eb0b1b62474b8b016",
            "ec5b78eb5d32412a8cf92754c443459d",
            "cd0c7c26f0eb4d1ca0cd4b85753c9b85",
            "69784fe63efa4f6ca9e53f3346d74073",
            "edfaf099a7ae405499ed6a6ee1f35ba9",
            "1e354b6c4b8948f4be10982f63f3ca62",
            "40ff465816f045a7acc13a93c0d15878",
            "ae125eae680c4c6bbbeda31350af5dfc",
            "e8ce7f928e4b496bbb726d8f1cfc487a",
            "33885bc37fea4fdeac4c53dd95f86b33",
            "b818dcd7532e46ad8df2d8a864d909ed",
            "52d40bc7f4a4438db7145c9cb1726e42",
            "9f5c10c80ed5403da62d4a63900ddbd8",
            "9a20d3a802d74fc584ec7f4eafb2a18b",
            "ab877800fee547b385ce77c17f9a5d64",
            "b4736505be0d408cb36a987534da06f5",
            "871cf03a04444d80af2280d12e1a348a",
            "11dfae50dc3d40a0a89b0fc404d02f66",
            "3abeef36062b41f39b1390357a122a3f",
            "bf2f9c1e971c4983a0289857c2a83c54",
            "cf56f43e155c4619884814b1a85042d1",
            "d412d8562a1e4c239f4ae5a0b0ce13e3",
            "f772e54e2a8c4d9caafa096d547d72fd",
            "587ed730821e4daa8b2ac2dfa5f2d3e1",
            "1d4840a210404a8abff824621fad39a1",
            "9bb155a8c55440ac9ddfa40892b8bcfa",
            "e8b727d3777e47b2b43dcb1b67d47ff8",
            "4f0e1e14ed0542c8bc5347947298b351",
            "4f88bbcf1c8641dfa18c72bfb3aca8fd",
            "ab4122654030456a881a5551d9f473dc",
            "a1fcf21bd2f247f3aa0d5249260eab05",
            "f8f67b185e854b8da38babd63a9575dd",
            "a3d716455e154875b3f3c25c7aae85dd",
            "a1491dd9720c4186a44b3236db3beb13",
            "5be388f8e7994e4a87faf9b130ca7bc7",
            "14331fc01aed47cc925fdf6e41ba29bf",
            "3322f6b0d06943eda72f01464e667e06",
            "bb1861380a8f4824a3e39102e6a1cb51",
            "4d0343124b7f4ae086115f3f7d2f2ca5",
            "5a5e6f78b0924abda2fb5db8479c9ee2",
            "6460f3dc86424cb1bbe0bba02b5cf64e",
            "73279150d0f44e8594560d47a1ad6cf8",
            "1c3e166ea1fc44a3b9729faa3f38daa4",
            "7c82bedd227f43c394bce1cce1ab8f03",
            "3236f8178a6243d794dc7068e04a2de2",
            "f7ebb7d5220949fab102e665e133706e",
            "29ab4ba8bc484bd98190c426ebfb23a1",
            "2bfe51ff33874061bf3ccef80f4aeb99",
            "ac16ca93a82648ba8faf148a7869dad5",
            "4670d9b0e70c4ce7a5232284dc29b62a",
            "a676043e16d34c18860a276f2f8a89db",
            "d904d5c955914ad98471b145edd4ae80",
            "702175c57a5c4c369d3c7ba32fdabcb4",
            "8dfda3bd7b3c4a1bb48a5445cb451129"
          ]
        },
        "executionInfo": {
          "elapsed": 17089,
          "status": "ok",
          "timestamp": 1741716139600,
          "user": {
            "displayName": "Chill Pill",
            "userId": "01927933884064651779"
          },
          "user_tz": 0
        },
        "id": "NtGUEiA5On1a",
        "outputId": "7b867856-8cbc-45b8-b665-5409a332b252"
      },
      "outputs": [
        {
          "output_type": "stream",
          "name": "stderr",
          "text": [
            "/usr/local/lib/python3.11/dist-packages/huggingface_hub/utils/_auth.py:94: UserWarning: \n",
            "The secret `HF_TOKEN` does not exist in your Colab secrets.\n",
            "To authenticate with the Hugging Face Hub, create a token in your settings tab (https://huggingface.co/settings/tokens), set it as secret in your Google Colab and restart your session.\n",
            "You will be able to reuse this secret in all of your notebooks.\n",
            "Please note that authentication is recommended but still optional to access public models or datasets.\n",
            "  warnings.warn(\n"
          ]
        },
        {
          "output_type": "display_data",
          "data": {
            "text/plain": [
              "tokenizer_config.json:   0%|          | 0.00/48.0 [00:00<?, ?B/s]"
            ],
            "application/vnd.jupyter.widget-view+json": {
              "version_major": 2,
              "version_minor": 0,
              "model_id": "0938257448cd4f879adb74de8190374d"
            }
          },
          "metadata": {}
        },
        {
          "output_type": "display_data",
          "data": {
            "text/plain": [
              "config.json:   0%|          | 0.00/570 [00:00<?, ?B/s]"
            ],
            "application/vnd.jupyter.widget-view+json": {
              "version_major": 2,
              "version_minor": 0,
              "model_id": "b818dcd7532e46ad8df2d8a864d909ed"
            }
          },
          "metadata": {}
        },
        {
          "output_type": "display_data",
          "data": {
            "text/plain": [
              "vocab.txt:   0%|          | 0.00/232k [00:00<?, ?B/s]"
            ],
            "application/vnd.jupyter.widget-view+json": {
              "version_major": 2,
              "version_minor": 0,
              "model_id": "d412d8562a1e4c239f4ae5a0b0ce13e3"
            }
          },
          "metadata": {}
        },
        {
          "output_type": "display_data",
          "data": {
            "text/plain": [
              "tokenizer.json:   0%|          | 0.00/466k [00:00<?, ?B/s]"
            ],
            "application/vnd.jupyter.widget-view+json": {
              "version_major": 2,
              "version_minor": 0,
              "model_id": "a3d716455e154875b3f3c25c7aae85dd"
            }
          },
          "metadata": {}
        },
        {
          "output_type": "display_data",
          "data": {
            "text/plain": [
              "model.safetensors:   0%|          | 0.00/440M [00:00<?, ?B/s]"
            ],
            "application/vnd.jupyter.widget-view+json": {
              "version_major": 2,
              "version_minor": 0,
              "model_id": "7c82bedd227f43c394bce1cce1ab8f03"
            }
          },
          "metadata": {}
        },
        {
          "output_type": "execute_result",
          "data": {
            "text/plain": [
              "BertModel(\n",
              "  (embeddings): BertEmbeddings(\n",
              "    (word_embeddings): Embedding(30522, 768, padding_idx=0)\n",
              "    (position_embeddings): Embedding(512, 768)\n",
              "    (token_type_embeddings): Embedding(2, 768)\n",
              "    (LayerNorm): LayerNorm((768,), eps=1e-12, elementwise_affine=True)\n",
              "    (dropout): Dropout(p=0.1, inplace=False)\n",
              "  )\n",
              "  (encoder): BertEncoder(\n",
              "    (layer): ModuleList(\n",
              "      (0-11): 12 x BertLayer(\n",
              "        (attention): BertAttention(\n",
              "          (self): BertSdpaSelfAttention(\n",
              "            (query): Linear(in_features=768, out_features=768, bias=True)\n",
              "            (key): Linear(in_features=768, out_features=768, bias=True)\n",
              "            (value): Linear(in_features=768, out_features=768, bias=True)\n",
              "            (dropout): Dropout(p=0.1, inplace=False)\n",
              "          )\n",
              "          (output): BertSelfOutput(\n",
              "            (dense): Linear(in_features=768, out_features=768, bias=True)\n",
              "            (LayerNorm): LayerNorm((768,), eps=1e-12, elementwise_affine=True)\n",
              "            (dropout): Dropout(p=0.1, inplace=False)\n",
              "          )\n",
              "        )\n",
              "        (intermediate): BertIntermediate(\n",
              "          (dense): Linear(in_features=768, out_features=3072, bias=True)\n",
              "          (intermediate_act_fn): GELUActivation()\n",
              "        )\n",
              "        (output): BertOutput(\n",
              "          (dense): Linear(in_features=3072, out_features=768, bias=True)\n",
              "          (LayerNorm): LayerNorm((768,), eps=1e-12, elementwise_affine=True)\n",
              "          (dropout): Dropout(p=0.1, inplace=False)\n",
              "        )\n",
              "      )\n",
              "    )\n",
              "  )\n",
              "  (pooler): BertPooler(\n",
              "    (dense): Linear(in_features=768, out_features=768, bias=True)\n",
              "    (activation): Tanh()\n",
              "  )\n",
              ")"
            ]
          },
          "metadata": {},
          "execution_count": 22
        }
      ],
      "source": [
        "#1. Setting up the model. I am using BERT for now\n",
        "model_name = \"bert-base-uncased\"\n",
        "tokenizer = AutoTokenizer.from_pretrained(model_name)\n",
        "model = AutoModel.from_pretrained(model_name)\n",
        "model.eval()  # We only need inference"
      ]
    },
    {
      "cell_type": "code",
      "execution_count": 23,
      "metadata": {
        "executionInfo": {
          "elapsed": 6,
          "status": "ok",
          "timestamp": 1741716139607,
          "user": {
            "displayName": "Chill Pill",
            "userId": "01927933884064651779"
          },
          "user_tz": 0
        },
        "id": "9zSUzlZMOn4z"
      },
      "outputs": [],
      "source": [
        "def get_bert_embedding(text):\n",
        "    inputs = tokenizer(text, return_tensors=\"pt\", truncation=True, max_length=128)\n",
        "    with torch.no_grad():\n",
        "        outputs = model(**inputs)\n",
        "    # outputs.last_hidden_state shape: [batch_size, seq_length, hidden_dim]\n",
        "    # We take the [CLS] token at index 0 to represent the entire text\n",
        "    cls_vec = outputs.last_hidden_state[:, 0, :]\n",
        "    return cls_vec.squeeze(0)  # shape: [hidden_dim]\n"
      ]
    },
    {
      "cell_type": "code",
      "execution_count": 24,
      "metadata": {
        "executionInfo": {
          "elapsed": 11,
          "status": "ok",
          "timestamp": 1741716139619,
          "user": {
            "displayName": "Chill Pill",
            "userId": "01927933884064651779"
          },
          "user_tz": 0
        },
        "id": "_2jQlwpQQP98"
      },
      "outputs": [],
      "source": [
        "#this computes dot product and divides by L2 to get the cosine similarity e{-1,1} aka how similary two unique descriptions of hs codes are\n",
        "def cosine_sim(vec1, vec2):\n",
        "    dot_val = torch.dot(vec1, vec2)\n",
        "    norm_val = vec1.norm(p=2) * vec2.norm(p=2)\n",
        "    return (dot_val / norm_val).item()\n"
      ]
    },
    {
      "cell_type": "code",
      "execution_count": 25,
      "metadata": {
        "id": "lsIcR0zfQQAk",
        "executionInfo": {
          "status": "ok",
          "timestamp": 1741716452541,
          "user_tz": 0,
          "elapsed": 312921,
          "user": {
            "displayName": "Chill Pill",
            "userId": "01927933884064651779"
          }
        }
      },
      "outputs": [],
      "source": [
        "hs_codes = list(desc_dict.keys())  # e.g. [370220.0, 590610.0, 853649.0, ...]\n",
        "n = len(hs_codes)\n",
        "\n",
        "# Precompute embeddings for each unique HS Code\n",
        "embeddings = {}\n",
        "for code in hs_codes:\n",
        "    text = str(desc_dict[code])  # in case of NaNs\n",
        "    embeddings[code] = get_bert_embedding(text)\n",
        "\n",
        "# Create an n x n array for pairwise similarities\n",
        "W = np.zeros((n, n), dtype=float)\n",
        "\n",
        "for i in range(n):\n",
        "    for j in range(n):\n",
        "        if i == j:\n",
        "            W[i,j] = 1.0\n",
        "        else:\n",
        "            v1 = embeddings[hs_codes[i]]\n",
        "            v2 = embeddings[hs_codes[j]]\n",
        "            W[i,j] = cosine_sim(v1, v2)"
      ]
    },
    {
      "cell_type": "code",
      "execution_count": 26,
      "metadata": {
        "id": "OQRbC2esQQDP",
        "executionInfo": {
          "status": "ok",
          "timestamp": 1741716452551,
          "user_tz": 0,
          "elapsed": 7,
          "user": {
            "displayName": "Chill Pill",
            "userId": "01927933884064651779"
          }
        },
        "colab": {
          "base_uri": "https://localhost:8080/",
          "height": 0
        },
        "outputId": "8ecf3087-08ee-46ff-a056-ed2128713e87"
      },
      "outputs": [
        {
          "output_type": "stream",
          "name": "stdout",
          "text": [
            "[[1.         0.83649766 0.85491168 0.87306327 0.87846416 0.65860254\n",
            "  0.83453453 0.82953382 0.84685212 0.83801097]\n",
            " [0.83649766 1.         0.89166892 0.82594973 0.90862566 0.71947479\n",
            "  0.84291905 0.84587973 0.82385874 0.80263549]\n",
            " [0.85491168 0.89166892 1.         0.83485895 0.86867934 0.65971696\n",
            "  0.94590276 0.85127968 0.82158816 0.81156766]\n",
            " [0.87306327 0.82594973 0.83485895 1.         0.84910071 0.62566495\n",
            "  0.79994154 0.77900451 0.81141698 0.84142089]\n",
            " [0.87846416 0.90862566 0.86867934 0.84910071 1.         0.70133257\n",
            "  0.86198109 0.85807818 0.88940811 0.88956833]\n",
            " [0.65860254 0.71947479 0.65971696 0.62566495 0.70133257 1.\n",
            "  0.6219973  0.7466771  0.66139305 0.64685541]\n",
            " [0.83453453 0.84291905 0.94590276 0.79994154 0.86198109 0.6219973\n",
            "  1.         0.87836647 0.81866258 0.79517031]\n",
            " [0.82953382 0.84587973 0.85127968 0.77900451 0.85807818 0.7466771\n",
            "  0.87836647 1.         0.82722354 0.80999303]\n",
            " [0.84685212 0.82385874 0.82158816 0.81141698 0.88940811 0.66139305\n",
            "  0.81866258 0.82722354 1.         0.84194523]\n",
            " [0.83801097 0.80263549 0.81156766 0.84142089 0.88956833 0.64685541\n",
            "  0.79517031 0.80999303 0.84194523 1.        ]]\n"
          ]
        }
      ],
      "source": [
        "print(W[:10, :10])\n",
        "#non-normalized"
      ]
    },
    {
      "cell_type": "code",
      "execution_count": 27,
      "metadata": {
        "id": "1uTxNkTBQQFu",
        "executionInfo": {
          "status": "ok",
          "timestamp": 1741716452552,
          "user_tz": 0,
          "elapsed": 2,
          "user": {
            "displayName": "Chill Pill",
            "userId": "01927933884064651779"
          }
        }
      },
      "outputs": [],
      "source": [
        "#normalization {0,1}\n",
        "W_min, W_max = W.min(), W.max()\n",
        "W_norm = (W - W_min)/(W_max - W_min)\n",
        "#This is mix max normalization which is not good since the rows do not sum up to 1 as ALberto wanted"
      ]
    },
    {
      "cell_type": "code",
      "source": [
        "# 3. Convert back to a DataFrame, if desired\n",
        "similarity_df_row_norm = pd.DataFrame(\n",
        "    W_norm,\n",
        "    index=hs_codes,     # same row labels\n",
        "    columns=hs_codes    # same column labels\n",
        ")\n",
        "\n",
        "# Quick check that each row sums to ~1\n",
        "print(similarity_df_row_norm.sum(axis=1))"
      ],
      "metadata": {
        "colab": {
          "base_uri": "https://localhost:8080/",
          "height": 0
        },
        "id": "ToQMBRz1it74",
        "executionInfo": {
          "status": "ok",
          "timestamp": 1741716452570,
          "user_tz": 0,
          "elapsed": 17,
          "user": {
            "displayName": "Chill Pill",
            "userId": "01927933884064651779"
          }
        },
        "outputId": "07c221fa-556d-466b-fc5f-067d34e30458"
      },
      "execution_count": 28,
      "outputs": [
        {
          "output_type": "stream",
          "name": "stdout",
          "text": [
            "730799.0    743.198063\n",
            "870323.0    740.513430\n",
            "841520.0    755.481159\n",
            "441600.0    704.437513\n",
            "870829.0    747.555771\n",
            "               ...    \n",
            "211960.0    570.639939\n",
            "212160.0    570.639939\n",
            "611593.0    698.151722\n",
            "212300.0    570.639939\n",
            "212230.0    570.639939\n",
            "Length: 927, dtype: float64\n"
          ]
        }
      ]
    },
    {
      "cell_type": "code",
      "source": [
        "print(similarity_df_row_norm.head(927))"
      ],
      "metadata": {
        "colab": {
          "base_uri": "https://localhost:8080/",
          "height": 0
        },
        "id": "4fa6Ixtait_K",
        "executionInfo": {
          "status": "ok",
          "timestamp": 1741716452589,
          "user_tz": 0,
          "elapsed": 20,
          "user": {
            "displayName": "Chill Pill",
            "userId": "01927933884064651779"
          }
        },
        "outputId": "185f5637-2424-4867-bce8-47bbfd5fab8a"
      },
      "execution_count": 29,
      "outputs": [
        {
          "output_type": "stream",
          "name": "stdout",
          "text": [
            "          730799.0  870323.0  841520.0  441600.0  870829.0  50900.0   \\\n",
            "730799.0  1.000000  0.809655  0.831092  0.852224  0.858511  0.602555   \n",
            "870323.0  0.809655  1.000000  0.873884  0.797376  0.893625  0.673421   \n",
            "841520.0  0.831092  0.873884  1.000000  0.807748  0.847120  0.603853   \n",
            "441600.0  0.852224  0.797376  0.807748  1.000000  0.824327  0.564210   \n",
            "870829.0  0.858511  0.893625  0.847120  0.824327  1.000000  0.652300   \n",
            "...            ...       ...       ...       ...       ...       ...   \n",
            "211960.0  0.647866  0.683259  0.655439  0.650780  0.620919  0.540770   \n",
            "212160.0  0.647866  0.683259  0.655439  0.650780  0.620919  0.540770   \n",
            "611593.0  0.807766  0.800791  0.799224  0.726496  0.748031  0.583415   \n",
            "212300.0  0.647866  0.683259  0.655439  0.650780  0.620919  0.540770   \n",
            "212230.0  0.647866  0.683259  0.655439  0.650780  0.620919  0.540770   \n",
            "\n",
            "          841590.0  847790.0  950590.0  830249.0  ...  852540.0  520100.0  \\\n",
            "730799.0  0.807370  0.801548  0.821710  0.811417  ...  0.822797  0.819187   \n",
            "870323.0  0.817131  0.820578  0.794941  0.770234  ...  0.862074  0.765846   \n",
            "841520.0  0.937021  0.826864  0.792298  0.780633  ...  0.863847  0.785882   \n",
            "441600.0  0.767098  0.742724  0.780457  0.815387  ...  0.768032  0.815262   \n",
            "870829.0  0.839322  0.834779  0.871252  0.871439  ...  0.854668  0.738208   \n",
            "...            ...       ...       ...       ...  ...       ...       ...   \n",
            "211960.0  0.631271  0.591181  0.637842  0.474657  ...  0.587866  0.715538   \n",
            "212160.0  0.631271  0.591181  0.637842  0.474657  ...  0.587866  0.715538   \n",
            "611593.0  0.765731  0.700709  0.774862  0.685328  ...  0.780603  0.775788   \n",
            "212300.0  0.631271  0.591181  0.637842  0.474657  ...  0.587866  0.715538   \n",
            "212230.0  0.631271  0.591181  0.637842  0.474657  ...  0.587866  0.715538   \n",
            "\n",
            "          830140.0  212140.0  212030.0  211960.0  212160.0  611593.0  \\\n",
            "730799.0  0.839105  0.647866  0.647866  0.647866  0.647866  0.807766   \n",
            "870323.0  0.810634  0.683259  0.683259  0.683259  0.683259  0.800791   \n",
            "841520.0  0.805287  0.655439  0.655439  0.655439  0.655439  0.799224   \n",
            "441600.0  0.851297  0.650780  0.650780  0.650780  0.650780  0.726496   \n",
            "870829.0  0.853761  0.620919  0.620919  0.620919  0.620919  0.748031   \n",
            "...            ...       ...       ...       ...       ...       ...   \n",
            "211960.0  0.570265  1.000000  1.000000  1.000000  1.000000  0.671462   \n",
            "212160.0  0.570265  1.000000  1.000000  1.000000  1.000000  0.671462   \n",
            "611593.0  0.699260  0.671462  0.671462  0.671462  0.671462  1.000000   \n",
            "212300.0  0.570265  1.000000  1.000000  1.000000  1.000000  0.671462   \n",
            "212230.0  0.570265  1.000000  1.000000  1.000000  1.000000  0.671462   \n",
            "\n",
            "          212300.0  212230.0  \n",
            "730799.0  0.647866  0.647866  \n",
            "870323.0  0.683259  0.683259  \n",
            "841520.0  0.655439  0.655439  \n",
            "441600.0  0.650780  0.650780  \n",
            "870829.0  0.620919  0.620919  \n",
            "...            ...       ...  \n",
            "211960.0  1.000000  1.000000  \n",
            "212160.0  1.000000  1.000000  \n",
            "611593.0  0.671462  0.671462  \n",
            "212300.0  1.000000  1.000000  \n",
            "212230.0  1.000000  1.000000  \n",
            "\n",
            "[927 rows x 927 columns]\n"
          ]
        }
      ]
    },
    {
      "cell_type": "code",
      "source": [
        "#Visualise the distribution of similarity of all products with each other\n",
        "import matplotlib.pyplot as plt\n",
        "import seaborn as sns\n",
        "\n",
        "# Select a specific row (change index if needed)\n",
        "row_index = 212230.0  # Example index from your dataset\n",
        "row_values = similarity_df_row_norm.loc[row_index]\n",
        "\n",
        "# Plot the distribution\n",
        "plt.figure(figsize=(10, 5))\n",
        "sns.barplot(x=row_values.index, y=row_values.values, color=\"blue\")\n",
        "\n",
        "# Labels and title\n",
        "plt.xlabel(\"Column Index\")\n",
        "plt.ylabel(\"Normalized Similarity Value\")\n",
        "plt.title(f\"Distribution of Row {row_index} (Values Sum to 1)\")\n",
        "plt.xticks([])  # Remove x-ticks for readability\n",
        "\n",
        "# Show plot\n",
        "plt.show()"
      ],
      "metadata": {
        "colab": {
          "base_uri": "https://localhost:8080/",
          "height": 463
        },
        "id": "uTePqz1ViuGE",
        "executionInfo": {
          "status": "ok",
          "timestamp": 1741716457000,
          "user_tz": 0,
          "elapsed": 4412,
          "user": {
            "displayName": "Chill Pill",
            "userId": "01927933884064651779"
          }
        },
        "outputId": "4ca541c5-75b4-4d0c-a96a-50578a0adcce"
      },
      "execution_count": 30,
      "outputs": [
        {
          "output_type": "display_data",
          "data": {
            "text/plain": [
              "<Figure size 1000x500 with 1 Axes>"
            ],
            "image/png": "[encoded data removed]"
          },
          "metadata": {}
        }
      ]
    },
    {
      "cell_type": "code",
      "source": [
        "# 1) This function is applied row by row - aka you get the Sum of each row which is wgg' for each product\n",
        "#    \"row\" is a Series of length N, each element is w_{g, g'} for a single g but all columns g'.\n",
        "#    row.name is the row label, i.e. the HS code of g itself.\n",
        "#    We do row.drop(row.name) so we exclude w_{g,g} (the self-similarity on the diagonal).\n",
        "#    Then we take the mean of the rest.\n",
        "df_mean_sim = similarity_df_row_norm.apply(\n",
        "    lambda row: row.drop(row.name).mean(),\n",
        "    axis=1\n",
        ")\n",
        "\n",
        "# df_mean_sim is now a Series with index=HS code, and\n",
        "# the value is the average similarity to all other codes.\n",
        "print(df_mean_sim.head(10))"
      ],
      "metadata": {
        "colab": {
          "base_uri": "https://localhost:8080/",
          "height": 0
        },
        "id": "ry548xqsiuOd",
        "executionInfo": {
          "status": "ok",
          "timestamp": 1741716457236,
          "user_tz": 0,
          "elapsed": 235,
          "user": {
            "displayName": "Chill Pill",
            "userId": "01927933884064651779"
          }
        },
        "outputId": "475d6675-b931-4b70-d753-e9b06ce37c62"
      },
      "execution_count": 31,
      "outputs": [
        {
          "output_type": "stream",
          "name": "stdout",
          "text": [
            "730799.0    0.801510\n",
            "870323.0    0.798611\n",
            "841520.0    0.814774\n",
            "441600.0    0.759652\n",
            "870829.0    0.806216\n",
            "50900.0     0.597286\n",
            "841590.0    0.803845\n",
            "847790.0    0.785903\n",
            "950590.0    0.776946\n",
            "830249.0    0.751130\n",
            "dtype: float64\n"
          ]
        }
      ]
    },
    {
      "cell_type": "code",
      "source": [
        "#I am storing this in a new dataframe --> I have the aggregated similarity of each product with all other products | it's HS code. this is wgg' where g' is {geG|g=\\G}\n",
        "df_avg_similarity = pd.DataFrame({\n",
        "    'HS Code': df_mean_sim.index,\n",
        "    'MeanSimilarity': df_mean_sim.values\n",
        "})\n",
        "df_avg_similarity.reset_index(drop=True, inplace=True)\n",
        "print(df_avg_similarity.head(917))\n"
      ],
      "metadata": {
        "colab": {
          "base_uri": "https://localhost:8080/",
          "height": 0
        },
        "id": "oKfLRwapiuRq",
        "executionInfo": {
          "status": "ok",
          "timestamp": 1741716457237,
          "user_tz": 0,
          "elapsed": 82,
          "user": {
            "displayName": "Chill Pill",
            "userId": "01927933884064651779"
          }
        },
        "outputId": "963f5601-b89f-4ec4-8862-0fb12b10b6f0"
      },
      "execution_count": 32,
      "outputs": [
        {
          "output_type": "stream",
          "name": "stdout",
          "text": [
            "      HS Code  MeanSimilarity\n",
            "0    730799.0        0.801510\n",
            "1    870323.0        0.798611\n",
            "2    841520.0        0.814774\n",
            "3    441600.0        0.759652\n",
            "4    870829.0        0.806216\n",
            "..        ...             ...\n",
            "912  848590.0        0.806524\n",
            "913  293229.0        0.733749\n",
            "914  842122.0        0.773914\n",
            "915  210420.0        0.750409\n",
            "916   18500.0        0.559927\n",
            "\n",
            "[917 rows x 2 columns]\n"
          ]
        }
      ]
    },
    {
      "cell_type": "markdown",
      "source": [
        "# **Part C: Computing Xikgt --> Xit which you will merge with dataset and produce a time series dataset**"
      ],
      "metadata": {
        "id": "Ws0w3_OXjTmA"
      }
    },
    {
      "cell_type": "code",
      "source": [
        "# 1) Merge on 'HS Code' to attach each product g's mean similarity\n",
        "df_x = pd.merge(\n",
        "    merged,                  # has s_k^g(t), Quarter, Supplier Name, ...\n",
        "    df_avg_similarity,       # has 'HS Code' + 'MeanSimilarity'\n",
        "    on='HS Code',            # matching column\n",
        "    how='left'               # or 'inner' if you only want matching codes\n",
        ")\n",
        "\n",
        "print(df_x.head(10))"
      ],
      "metadata": {
        "colab": {
          "base_uri": "https://localhost:8080/",
          "height": 0
        },
        "id": "p6yJfIL2jkAJ",
        "executionInfo": {
          "status": "ok",
          "timestamp": 1741716457237,
          "user_tz": 0,
          "elapsed": 4,
          "user": {
            "displayName": "Chill Pill",
            "userId": "01927933884064651779"
          }
        },
        "outputId": "3e2e4fc9-1df7-45cb-ddbb-4f1ccd6375a3"
      },
      "execution_count": 33,
      "outputs": [
        {
          "output_type": "stream",
          "name": "stdout",
          "text": [
            "  Quarter   HS Code                           Supplier Name  SupplierVolume  \\\n",
            "0  2015Q1   30613.0             Zf Sistemas De Direcao Ltda            26.0   \n",
            "1  2015Q1   40390.0                 Ford Otomotiv Sanayi As           202.0   \n",
            "2  2015Q1   40390.0                    Mahle Metal Leve S/A            20.0   \n",
            "3  2015Q1   40510.0     Faurecia Valencia Modulos De Puerta            30.0   \n",
            "4  2015Q1   40590.0              Faurecia Modulos De Puerta            42.0   \n",
            "5  2015Q1   40590.0     Faurecia Valencia Modulos De Puerta            14.0   \n",
            "6  2015Q1   91091.0  Pgi Far East Precision Products Co Ltd            20.0   \n",
            "7  2015Q1  120220.0       Yanfeng Visteon Automotive Co Ltd            71.0   \n",
            "8  2015Q1  120924.0                Ford Otomotiv Sanayi A S            38.0   \n",
            "9  2015Q1  170111.0             Zf Sistemas De Direcao Ltda            60.0   \n",
            "\n",
            "   TotalVolume                                    FullDescription  s_k^g(t)  \\\n",
            "0         26.0  Fish and crustaceans, molluscs and other aquat...   1.00000   \n",
            "1        222.0  Dairy produce; birds eggs; natural honey; edib...   0.90991   \n",
            "2        222.0  Dairy produce; birds eggs; natural honey; edib...   0.09009   \n",
            "3         30.0  Dairy produce; birds eggs; natural honey; edib...   1.00000   \n",
            "4         56.0  Dairy produce; birds eggs; natural honey; edib...   0.75000   \n",
            "5         56.0  Dairy produce; birds eggs; natural honey; edib...   0.25000   \n",
            "6         20.0  Coffee, tea, mat\u00e9 and spices ; Ginger, saffron...   1.00000   \n",
            "7         71.0  Oil seeds and oleaginous fruits; miscellaneous...   1.00000   \n",
            "8         38.0  Oil seeds and oleaginous fruits; miscellaneous...   1.00000   \n",
            "9         60.0  Sugars and sugar confectionery ; Cane or beet ...   1.00000   \n",
            "\n",
            "   MeanSimilarity  \n",
            "0        0.690528  \n",
            "1        0.780492  \n",
            "2        0.780492  \n",
            "3        0.790644  \n",
            "4        0.776608  \n",
            "5        0.776608  \n",
            "6        0.696374  \n",
            "7        0.748748  \n",
            "8        0.734797  \n",
            "9        0.752521  \n"
          ]
        }
      ]
    },
    {
      "cell_type": "code",
      "source": [
        "print(df_x.shape)"
      ],
      "metadata": {
        "colab": {
          "base_uri": "https://localhost:8080/",
          "height": 0
        },
        "id": "2RttWpPljmuQ",
        "executionInfo": {
          "status": "ok",
          "timestamp": 1741716457241,
          "user_tz": 0,
          "elapsed": 6,
          "user": {
            "displayName": "Chill Pill",
            "userId": "01927933884064651779"
          }
        },
        "outputId": "c6f2354c-7c45-4bd2-9d9f-394b7f9fe136"
      },
      "execution_count": 34,
      "outputs": [
        {
          "output_type": "stream",
          "name": "stdout",
          "text": [
            "(8102, 8)\n"
          ]
        }
      ]
    },
    {
      "cell_type": "code",
      "source": [
        "# 2) Multiply to get x_{ik}^g(t)\n",
        "df_x['x_ik^g(t)'] = df_x['s_k^g(t)'] * df_x['MeanSimilarity']\n",
        "\n",
        "# 3) Display the results\n",
        "print(\n",
        "    df_x[\n",
        "      ['Quarter', 'HS Code', 'Supplier Name', 's_k^g(t)', 'MeanSimilarity', 'x_ik^g(t)']\n",
        "    ].head(30000)\n",
        ")\n"
      ],
      "metadata": {
        "colab": {
          "base_uri": "https://localhost:8080/",
          "height": 0
        },
        "id": "FPywsoz6jrBm",
        "executionInfo": {
          "status": "ok",
          "timestamp": 1741716457327,
          "user_tz": 0,
          "elapsed": 86,
          "user": {
            "displayName": "Chill Pill",
            "userId": "01927933884064651779"
          }
        },
        "outputId": "0a1b32b7-17dc-41f1-92dd-9fca57f2c95f"
      },
      "execution_count": 35,
      "outputs": [
        {
          "output_type": "stream",
          "name": "stdout",
          "text": [
            "     Quarter   HS Code                                      Supplier Name  \\\n",
            "0     2015Q1   30613.0                        Zf Sistemas De Direcao Ltda   \n",
            "1     2015Q1   40390.0                            Ford Otomotiv Sanayi As   \n",
            "2     2015Q1   40390.0                               Mahle Metal Leve S/A   \n",
            "3     2015Q1   40510.0                Faurecia Valencia Modulos De Puerta   \n",
            "4     2015Q1   40590.0                         Faurecia Modulos De Puerta   \n",
            "...      ...       ...                                                ...   \n",
            "8097  2024Q3  940190.0                      Vibracoustic Thailand Limited   \n",
            "8098  2024Q3  940350.0                    Guru Nanak Auto Enterprises Ltd   \n",
            "8099  2024Q3  960321.0                     Summit Plastics Nanjing Co Ltd   \n",
            "8100  2024Q3  981800.0  Eberspaecher Automotive Technology Tianjin Branch   \n",
            "8101  2024Q3  981800.0                               Ford Otomotiv Sanayi   \n",
            "\n",
            "      s_k^g(t)  MeanSimilarity  x_ik^g(t)  \n",
            "0      1.00000        0.690528   0.690528  \n",
            "1      0.90991        0.780492   0.710177  \n",
            "2      0.09009        0.780492   0.070315  \n",
            "3      1.00000        0.790644   0.790644  \n",
            "4      0.75000        0.776608   0.582456  \n",
            "...        ...             ...        ...  \n",
            "8097   1.00000        0.795638   0.795638  \n",
            "8098   1.00000        0.792315   0.792315  \n",
            "8099   1.00000        0.791989   0.791989  \n",
            "8100   0.00750        0.598701   0.004490  \n",
            "8101   0.99250        0.598701   0.594211  \n",
            "\n",
            "[8102 rows x 6 columns]\n"
          ]
        }
      ]
    },
    {
      "cell_type": "markdown",
      "source": [
        "**Aggregate across products for each supplier to get Xik(t)**"
      ],
      "metadata": {
        "id": "gQBSbcAUnOSK"
      }
    },
    {
      "cell_type": "code",
      "source": [
        "# 1) Group by quarter & supplier, then average x_{ik}^g(t) across products\n",
        "df_x_agg = (\n",
        "    df_x\n",
        "    .groupby(['Quarter', 'Supplier Name'], as_index=False)\n",
        "    .agg(Aggregated_x_ik=('x_ik^g(t)', 'mean'))  # or 'sum' if you prefer summation\n",
        ")\n",
        "\n",
        "# 2) Inspect the result\n",
        "print(df_x_agg.head(15))"
      ],
      "metadata": {
        "colab": {
          "base_uri": "https://localhost:8080/",
          "height": 0
        },
        "id": "QFdUzE5BnB62",
        "executionInfo": {
          "status": "ok",
          "timestamp": 1741716457328,
          "user_tz": 0,
          "elapsed": 82,
          "user": {
            "displayName": "Chill Pill",
            "userId": "01927933884064651779"
          }
        },
        "outputId": "0832409c-cfd0-45b0-9742-a4a66a24b2f6"
      },
      "execution_count": 36,
      "outputs": [
        {
          "output_type": "stream",
          "name": "stdout",
          "text": [
            "   Quarter                             Supplier Name  Aggregated_x_ik\n",
            "0   2015Q1             Allevard Molas Do Brasil Ltda         0.424465\n",
            "1   2015Q1                           Casting Ros S A         0.254233\n",
            "2   2015Q1              Changan Ford Automobile Corp         0.009861\n",
            "3   2015Q1        Changan Ford Mazda Automobile Corp         0.019722\n",
            "4   2015Q1                  Chinafair Cargo Services         0.620699\n",
            "5   2015Q1       Chinafair Cargo Services Internatio         0.388746\n",
            "6   2015Q1               Chongqing Ante Trade Co Ltd         0.810864\n",
            "7   2015Q1                     Citic Dicastal Co Ltd         0.805038\n",
            "8   2015Q1                  Complex Cold Forming Ltd         0.599704\n",
            "9   2015Q1        Continental Automotive Romania Srl         0.521947\n",
            "10  2015Q1            Continental Automotive Systems         0.227460\n",
            "11  2015Q1             Continental Teves Ag & Co Ohg         0.462396\n",
            "12  2015Q1  Contitech Fluid Automotive Romania S R L         0.088010\n",
            "13  2015Q1                 Cyco Systems Corp Pty Ltd         0.781526\n",
            "14  2015Q1               Dhl Global Forwarding China         0.145692\n"
          ]
        }
      ]
    },
    {
      "cell_type": "markdown",
      "source": [
        "**Quick Graph Visualization**"
      ],
      "metadata": {
        "id": "t7wgJ1x3nYLk"
      }
    },
    {
      "cell_type": "code",
      "source": [
        "import networkx as nx\n",
        "import ipywidgets as widgets\n",
        "from IPython.display import display\n",
        "\n",
        "# 1) Filter by the quarter, then rename columns\n",
        "quarter_of_interest = \"2020Q3\"\n",
        "df_plot = df_x_agg[df_x_agg['Quarter'] == quarter_of_interest].copy()\n",
        "\n",
        "print(\"Before rename, columns are:\", df_plot.columns.tolist())\n",
        "# Suppose we see \"Supplier Name\" and \"Aggregated_x_ik\" in that list.\n",
        "\n",
        "df_plot.rename(\n",
        "    columns={\n",
        "        'Supplier Name': 'Supplier_Name',\n",
        "        'Aggregated_x_ik': 'Aggregated_x_ik'\n",
        "    },\n",
        "    inplace=True\n",
        ")\n",
        "print(\"After rename, columns are:\", df_plot.columns.tolist())\n",
        "\n",
        "# 2) Use .itertuples() with named attributes\n",
        "#    Now we can do row.Supplier_Name, row.Aggregated_x_ik, etc.\n",
        "G = nx.Graph()\n",
        "G.add_node(\"Tesla\", bipartite=0)\n",
        "\n",
        "for row in df_plot.itertuples(index=False):\n",
        "    supplier = row.Supplier_Name  # now a valid attribute\n",
        "    x_ik = row.Aggregated_x_ik\n",
        "\n",
        "    G.add_node(supplier, bipartite=1)\n",
        "    G.add_edge(\"Tesla\", supplier, weight=x_ik)\n",
        "\n",
        "# 3) Layout: Tesla on x=0, suppliers on x=2\n",
        "pos = dict()\n",
        "pos[\"Tesla\"] = (0, 0)\n",
        "for i, sup in enumerate(df_plot['Supplier_Name'].unique()):\n",
        "    pos[sup] = (2, i*1.0)\n",
        "\n",
        "df_temp = df_x_agg.copy()\n",
        "\n",
        "# Rename columns to simpler names so they work well with .itertuples()\n",
        "df_temp.rename(\n",
        "    columns={\n",
        "        \"Supplier Name\": \"Supplier_Name\",\n",
        "        \"Aggregated_x_ik\": \"Aggregated_x_ik\"\n",
        "    },\n",
        "    inplace=True\n",
        ")\n",
        "\n",
        "# Let's see the unique quarters\n",
        "unique_quarters = sorted(df_temp['Quarter'].unique())\n",
        "print(\"Available quarters:\", unique_quarters)\n",
        "\n"
      ],
      "metadata": {
        "colab": {
          "base_uri": "https://localhost:8080/",
          "height": 0
        },
        "id": "5TL0KNEFnB9k",
        "executionInfo": {
          "status": "ok",
          "timestamp": 1741716458166,
          "user_tz": 0,
          "elapsed": 840,
          "user": {
            "displayName": "Chill Pill",
            "userId": "01927933884064651779"
          }
        },
        "outputId": "40c69ee7-e369-4b9a-9abb-b5d39cf23db6"
      },
      "execution_count": 37,
      "outputs": [
        {
          "output_type": "stream",
          "name": "stdout",
          "text": [
            "Before rename, columns are: ['Quarter', 'Supplier Name', 'Aggregated_x_ik']\n",
            "After rename, columns are: ['Quarter', 'Supplier_Name', 'Aggregated_x_ik']\n",
            "Available quarters: [Period('2015Q1', 'Q-DEC'), Period('2015Q2', 'Q-DEC'), Period('2015Q3', 'Q-DEC'), Period('2015Q4', 'Q-DEC'), Period('2016Q1', 'Q-DEC'), Period('2016Q2', 'Q-DEC'), Period('2016Q3', 'Q-DEC'), Period('2016Q4', 'Q-DEC'), Period('2017Q1', 'Q-DEC'), Period('2017Q2', 'Q-DEC'), Period('2017Q3', 'Q-DEC'), Period('2017Q4', 'Q-DEC'), Period('2018Q1', 'Q-DEC'), Period('2018Q2', 'Q-DEC'), Period('2018Q3', 'Q-DEC'), Period('2018Q4', 'Q-DEC'), Period('2019Q1', 'Q-DEC'), Period('2019Q2', 'Q-DEC'), Period('2019Q3', 'Q-DEC'), Period('2019Q4', 'Q-DEC'), Period('2020Q1', 'Q-DEC'), Period('2020Q2', 'Q-DEC'), Period('2020Q3', 'Q-DEC'), Period('2020Q4', 'Q-DEC'), Period('2021Q1', 'Q-DEC'), Period('2021Q2', 'Q-DEC'), Period('2021Q3', 'Q-DEC'), Period('2021Q4', 'Q-DEC'), Period('2022Q1', 'Q-DEC'), Period('2022Q2', 'Q-DEC'), Period('2022Q3', 'Q-DEC'), Period('2022Q4', 'Q-DEC'), Period('2023Q1', 'Q-DEC'), Period('2023Q2', 'Q-DEC'), Period('2023Q3', 'Q-DEC'), Period('2023Q4', 'Q-DEC'), Period('2024Q1', 'Q-DEC'), Period('2024Q2', 'Q-DEC'), Period('2024Q3', 'Q-DEC')]\n"
          ]
        }
      ]
    },
    {
      "cell_type": "code",
      "source": [
        "def plot_quarter_network(quarter_of_interest):\n",
        "    \"\"\"\n",
        "    Given a quarter (string like '2015Q1'),\n",
        "    build a bipartite (Tesla, Suppliers) network\n",
        "    with edges weighted by Aggregated_x_ik.\n",
        "    \"\"\"\n",
        "    # 1) Filter to the chosen quarter\n",
        "    df_plot = df_temp[df_temp['Quarter'] == quarter_of_interest].copy()\n",
        "\n",
        "    # 2) Create a graph; add Tesla as the single \"buyer\" node\n",
        "    G = nx.Graph()\n",
        "    G.add_node(\"Tesla\", bipartite=0)\n",
        "\n",
        "    # 3) Add edges from Tesla -> each supplier with 'weight' = x_ik\n",
        "    for row in df_plot.itertuples(index=False):\n",
        "        supplier = row.Supplier_Name\n",
        "        x_ik = row.Aggregated_x_ik\n",
        "        G.add_node(supplier, bipartite=1)\n",
        "        G.add_edge(\"Tesla\", supplier, weight=x_ik)\n",
        "\n",
        "    # 4) Simple bipartite layout: Tesla on left, suppliers on right\n",
        "    pos = {}\n",
        "    pos[\"Tesla\"] = (0, 0)\n",
        "    for i, sup in enumerate(df_plot['Supplier_Name'].unique()):\n",
        "        pos[sup] = (2, i * 1.0)  # x=2, different y\n",
        "\n",
        "    # 5) Draw the network\n",
        "    plt.figure(figsize=(8,6))\n",
        "    pos = nx.circular_layout(G)\n",
        "    nx.draw_networkx_nodes(G, pos, node_color='lightblue', node_size=800)\n",
        "    nx.draw_networkx_labels(G, pos, font_size=8)\n",
        "    nx.draw_networkx_edges(G, pos)\n",
        "\n",
        "    # 6) Edge labels for the x_ik weight\n",
        "    edge_labels = {(u,v): f\"{data['weight']:.3f}\" for u,v,data in G.edges(data=True)}\n",
        "    nx.draw_networkx_edge_labels(G, pos, edge_labels=edge_labels, font_size=8)\n",
        "\n",
        "    plt.title(f\"Supplier\u2013Ford Motors Company network for {quarter_of_interest}\")\n",
        "    plt.axis(\"off\")\n",
        "    plt.show()\n"
      ],
      "metadata": {
        "id": "DmWFmeQGnCAK",
        "executionInfo": {
          "status": "ok",
          "timestamp": 1741716458167,
          "user_tz": 0,
          "elapsed": 3,
          "user": {
            "displayName": "Chill Pill",
            "userId": "01927933884064651779"
          }
        }
      },
      "execution_count": 38,
      "outputs": []
    },
    {
      "cell_type": "code",
      "source": [
        "# Create a dropdown widget to pick the quarter\n",
        "quarter_dropdown = widgets.Dropdown(\n",
        "    options=unique_quarters,\n",
        "    description='Quarter:',\n",
        "    value=unique_quarters[0]  # default selection\n",
        ")\n",
        "\n",
        "# Use `interact` to tie the function to the widget\n",
        "widgets.interact(plot_quarter_network, quarter_of_interest=quarter_dropdown)"
      ],
      "metadata": {
        "colab": {
          "base_uri": "https://localhost:8080/",
          "height": 675,
          "referenced_widgets": [
            "3b98ccd94a3d476d977ab557d17a9fdb",
            "d9eced1151ac48a5843cb22eaf4f5363",
            "ee1f599841fc45e597b01c91df845d68",
            "2de0fb92c1304eb3ac8935883dee8f55",
            "c64a1ace7434456fb6c2247efb997d5b",
            "efdd33f39a704ba58afa8aa34a3a99ae",
            "228dee792ae24a35babc3255af3d2cd9"
          ]
        },
        "id": "1hJdGB6qnCDN",
        "executionInfo": {
          "status": "ok",
          "timestamp": 1741716460009,
          "user_tz": 0,
          "elapsed": 1844,
          "user": {
            "displayName": "Chill Pill",
            "userId": "01927933884064651779"
          }
        },
        "outputId": "69fa4f3a-cb12-4c6f-ac52-fbe845af8088"
      },
      "execution_count": 39,
      "outputs": [
        {
          "output_type": "display_data",
          "data": {
            "text/plain": [
              "interactive(children=(Dropdown(description='Quarter:', options=(Period('2015Q1', 'Q-DEC'), Period('2015Q2', 'Q\u2026"
            ],
            "application/vnd.jupyter.widget-view+json": {
              "version_major": 2,
              "version_minor": 0,
              "model_id": "3b98ccd94a3d476d977ab557d17a9fdb"
            }
          },
          "metadata": {}
        },
        {
          "output_type": "execute_result",
          "data": {
            "text/plain": [
              "<function __main__.plot_quarter_network(quarter_of_interest)>"
            ],
            "text/html": [
              "<div style=\"max-width:800px; border: 1px solid var(--colab-border-color);\"><style>\n",
              "      pre.function-repr-contents {\n",
              "        overflow-x: auto;\n",
              "        padding: 8px 12px;\n",
              "        max-height: 500px;\n",
              "      }\n",
              "\n",
              "      pre.function-repr-contents.function-repr-contents-collapsed {\n",
              "        cursor: pointer;\n",
              "        max-height: 100px;\n",
              "      }\n",
              "    </style>\n",
              "    <pre style=\"white-space: initial; background:\n",
              "         var(--colab-secondary-surface-color); padding: 8px 12px;\n",
              "         border-bottom: 1px solid var(--colab-border-color);\"><b>plot_quarter_network</b><br/>def plot_quarter_network(quarter_of_interest)</pre><pre class=\"function-repr-contents function-repr-contents-collapsed\" style=\"\"><a class=\"filepath\" style=\"display:none\" href=\"#\">/content/&lt;ipython-input-38-183f55ff2cae&gt;</a>Given a quarter (string like &#x27;2015Q1&#x27;),\n",
              "build a bipartite (Tesla, Suppliers) network\n",
              "with edges weighted by Aggregated_x_ik.</pre></div>"
            ]
          },
          "metadata": {},
          "execution_count": 39
        }
      ]
    },
    {
      "cell_type": "markdown",
      "source": [
        "## **Part D: Get Xit and RUn regressions**"
      ],
      "metadata": {
        "id": "78_ocZHuoJmk"
      }
    },
    {
      "cell_type": "code",
      "source": [
        "###############################################\n",
        "# A) AGGREGATE X_ik(t) INTO X(t) PER QUARTER #\n",
        "###############################################\n",
        "\n",
        "# Suppose your DataFrame \"df_x_agg\" has columns:\n",
        "#  ['Quarter', 'Supplier Name', 'Aggregated_x_ik']\n",
        "#  from the step where you group by (Quarter, Supplier)\n",
        "#  and average x_{ik}^g(t) across products.\n",
        "\n",
        "# 1) For each Quarter, average across all suppliers:\n",
        "df_quarter_x = (\n",
        "    df_x_agg\n",
        "    .groupby('Quarter', as_index=False)\n",
        "    .agg(Xit=('Aggregated_x_ik', 'mean'))  # call it \"X\" for x(t)\n",
        ")\n",
        "\n",
        "print(df_quarter_x.head(40))"
      ],
      "metadata": {
        "colab": {
          "base_uri": "https://localhost:8080/",
          "height": 0
        },
        "id": "XpdsU_u_nCFx",
        "executionInfo": {
          "status": "ok",
          "timestamp": 1741716460015,
          "user_tz": 0,
          "elapsed": 6,
          "user": {
            "displayName": "Chill Pill",
            "userId": "01927933884064651779"
          }
        },
        "outputId": "a39383e1-f871-4e25-bca3-0f3bda90b444"
      },
      "execution_count": 40,
      "outputs": [
        {
          "output_type": "stream",
          "name": "stdout",
          "text": [
            "   Quarter       Xit\n",
            "0   2015Q1  0.420235\n",
            "1   2015Q2  0.331019\n",
            "2   2015Q3  0.364465\n",
            "3   2015Q4  0.358387\n",
            "4   2016Q1  0.399273\n",
            "5   2016Q2  0.377414\n",
            "6   2016Q3  0.460752\n",
            "7   2016Q4  0.448988\n",
            "8   2017Q1  0.439749\n",
            "9   2017Q2  0.450154\n",
            "10  2017Q3  0.540642\n",
            "11  2017Q4  0.540463\n",
            "12  2018Q1  0.587294\n",
            "13  2018Q2  0.498881\n",
            "14  2018Q3  0.448769\n",
            "15  2018Q4  0.520208\n",
            "16  2019Q1  0.412696\n",
            "17  2019Q2  0.467995\n",
            "18  2019Q3  0.473701\n",
            "19  2019Q4  0.562837\n",
            "20  2020Q1  0.550273\n",
            "21  2020Q2  0.560981\n",
            "22  2020Q3  0.376966\n",
            "23  2020Q4  0.327599\n",
            "24  2021Q1  0.356880\n",
            "25  2021Q2  0.345963\n",
            "26  2021Q3  0.328268\n",
            "27  2021Q4  0.373936\n",
            "28  2022Q1  0.330913\n",
            "29  2022Q2  0.391217\n",
            "30  2022Q3  0.449069\n",
            "31  2022Q4  0.461526\n",
            "32  2023Q1  0.498525\n",
            "33  2023Q2  0.479424\n",
            "34  2023Q3  0.420759\n",
            "35  2023Q4  0.455574\n",
            "36  2024Q1  0.388001\n",
            "37  2024Q2  0.374248\n",
            "38  2024Q3  0.372911\n"
          ]
        }
      ]
    },
    {
      "cell_type": "code",
      "source": [
        "# Export to Excel\n",
        "df_quarter_x.to_excel(\"quarterly_data2.xlsx\", index=False)\n",
        "\n",
        "print(\"Excel file saved as 'quarterly_data.xlsx'.\")"
      ],
      "metadata": {
        "id": "mNt6yZuPnCIY",
        "colab": {
          "base_uri": "https://localhost:8080/"
        },
        "executionInfo": {
          "status": "ok",
          "timestamp": 1741717045742,
          "user_tz": 0,
          "elapsed": 22,
          "user": {
            "displayName": "Chill Pill",
            "userId": "01927933884064651779"
          }
        },
        "outputId": "0fc28c34-6a3d-4f4e-a4ba-d619c428947c"
      },
      "execution_count": 44,
      "outputs": [
        {
          "output_type": "stream",
          "name": "stdout",
          "text": [
            "Excel file saved as 'quarterly_data.xlsx'.\n"
          ]
        }
      ]
    },
    {
      "cell_type": "code",
      "source": [],
      "metadata": {
        "id": "YGE8VzHQnCNG",
        "executionInfo": {
          "status": "ok",
          "timestamp": 1741716460019,
          "user_tz": 0,
          "elapsed": 1,
          "user": {
            "displayName": "Chill Pill",
            "userId": "01927933884064651779"
          }
        }
      },
      "execution_count": 40,
      "outputs": []
    }
  ],
  "metadata": {
    "colab": {
      "provenance": [],
      "authorship_tag": "ABX9TyO8NsFa7ytVT48THmcGP1UH"
    },
    "kernelspec": {
      "display_name": "Python 3",
      "name": "python3"
    },
    "language_info": {
      "name": "python"
    }
  },
  "nbformat": 4,
  "nbformat_minor": 0
}