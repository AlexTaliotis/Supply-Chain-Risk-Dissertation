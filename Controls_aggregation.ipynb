{
  "nbformat": 4,
  "nbformat_minor": 0,
  "metadata": {
    "colab": {
      "provenance": [],
      "authorship_tag": "ABX9TyP3i8fsE0i17HyYV5yXK2wh",
      "include_colab_link": true
    },
    "kernelspec": {
      "name": "python3",
      "display_name": "Python 3"
    },
    "language_info": {
      "name": "python"
    }
  },
  "cells": [
    {
      "cell_type": "markdown",
      "metadata": {
        "id": "view-in-github",
        "colab_type": "text"
      },
      "source": [
        "<a href=\"https://colab.research.google.com/github/AlexTaliotis/Supply-Chain-Risk-Dissertation/blob/main/Controls_aggregation.ipynb\" target=\"_parent\"><img src=\"https://colab.research.google.com/assets/colab-badge.svg\" alt=\"Open In Colab\"/></a>"
      ]
    },
    {
      "cell_type": "code",
      "execution_count": null,
      "metadata": {
        "colab": {
          "base_uri": "https://localhost:8080/"
        },
        "id": "wBQMpx0W5JRG",
        "outputId": "73ef9b25-7d13-40a8-a151-f90f8efb61c5"
      },
      "outputs": [
        {
          "output_type": "stream",
          "name": "stdout",
          "text": [
            "Mounted at /content/drive\n"
          ]
        }
      ],
      "source": [
        "from google.colab import drive\n",
        "drive.mount('/content/drive')"
      ]
    },
    {
      "cell_type": "code",
      "source": [
        "import pandas as pd\n",
        "import numpy as np\n",
        "import matplotlib.pyplot as plt"
      ],
      "metadata": {
        "id": "RZGKjc5_5Ror"
      },
      "execution_count": null,
      "outputs": []
    },
    {
      "cell_type": "markdown",
      "source": [
        "PPI: Producer Price Index by Industry: Iron and Steel Mills and Ferroalloy Manufacturing (PCU33113311)"
      ],
      "metadata": {
        "id": "eNlarAsv7u5H"
      }
    },
    {
      "cell_type": "code",
      "source": [
        "file_path = '/content/drive/My Drive/DISS DATA/PPI_Iron and steel manufacturing1.xlsx'\n",
        "df = pd.read_excel(file_path)\n",
        "print(df.head())\n"
      ],
      "metadata": {
        "colab": {
          "base_uri": "https://localhost:8080/"
        },
        "id": "4MGsAZCd5Rrx",
        "outputId": "9e36daa3-3619-49aa-ef57-db8c6fd723af"
      },
      "execution_count": null,
      "outputs": [
        {
          "output_type": "stream",
          "name": "stdout",
          "text": [
            "  observation_date  PCU33113311\n",
            "0       2015-01-01        166.0\n",
            "1       2015-02-01        161.2\n",
            "2       2015-03-01        157.7\n",
            "3       2015-04-01        152.6\n",
            "4       2015-05-01        149.3\n"
          ]
        }
      ]
    },
    {
      "cell_type": "code",
      "source": [
        "# 1) Parse dates\n",
        "df['observation_date'] = pd.to_datetime(df['observation_date'])\n",
        "\n",
        "# 2) Set the date as index\n",
        "df.set_index('observation_date', inplace=True)\n",
        "\n",
        "# 3) Resample to quarterly, taking the average of each quarter’s three months\n",
        "df_q = df.resample('Q').mean()\n",
        "\n",
        "# 4) (Optional) convert the index to a PeriodIndex if you prefer\n",
        "df_q.index = df_q.index.to_period('Q')\n",
        "df_q.index.name = 'dateq'\n",
        "\n",
        "print(df_q)"
      ],
      "metadata": {
        "colab": {
          "base_uri": "https://localhost:8080/"
        },
        "id": "gSVLkYok5Ru-",
        "outputId": "e40dc68b-b47e-48d2-e2c4-23d5f97753d5"
      },
      "execution_count": null,
      "outputs": [
        {
          "output_type": "stream",
          "name": "stdout",
          "text": [
            "        PCU33113311\n",
            "dateq              \n",
            "2015Q1   161.633333\n",
            "2015Q2   150.266667\n",
            "2015Q3   146.533333\n",
            "2015Q4   136.600000\n",
            "2016Q1   129.600000\n",
            "2016Q2   137.466667\n",
            "2016Q3   145.500000\n",
            "2016Q4   143.866667\n",
            "2017Q1   152.000000\n",
            "2017Q2   158.200000\n",
            "2017Q3   159.966667\n",
            "2017Q4   156.900000\n",
            "2018Q1   162.066667\n",
            "2018Q2   175.166667\n",
            "2018Q3   186.566667\n",
            "2018Q4   189.966667\n",
            "2019Q1   184.200000\n",
            "2019Q2   175.800000\n",
            "2019Q3   164.233333\n",
            "2019Q4   156.133333\n",
            "2020Q1   153.166667\n",
            "2020Q2   150.733333\n",
            "2020Q3   146.333333\n",
            "2020Q4   152.700000\n",
            "2021Q1   191.066667\n",
            "2021Q2   265.266667\n",
            "2021Q3   321.996000\n",
            "2021Q4   357.155333\n",
            "2022Q1   334.820667\n",
            "2022Q2   343.224333\n",
            "2022Q3   317.732333\n",
            "2022Q4   271.126333\n",
            "2023Q1   262.719000\n",
            "2023Q2   284.432333\n",
            "2023Q3   268.205667\n",
            "2023Q4   246.590000\n",
            "2024Q1   260.484667\n",
            "2024Q2   242.482333\n",
            "2024Q3   227.973333\n",
            "2024Q4   222.023667\n"
          ]
        },
        {
          "output_type": "stream",
          "name": "stderr",
          "text": [
            "<ipython-input-6-837fffb35a74>:8: FutureWarning: 'Q' is deprecated and will be removed in a future version, please use 'QE' instead.\n",
            "  df_q = df.resample('Q').mean()\n"
          ]
        }
      ]
    },
    {
      "cell_type": "code",
      "source": [
        "# 5) Export to Excel\n",
        "df_q.reset_index().to_excel(\"quarterly_data_steel_ppi.xlsx\", index=False)\n",
        "print(\"Excel file saved as 'quarterly_data_steel_ppi.xlsx'.\")"
      ],
      "metadata": {
        "colab": {
          "base_uri": "https://localhost:8080/"
        },
        "id": "SaV-8c4N5Rx4",
        "outputId": "62503c6e-9033-4c76-ba31-f6155c167b55"
      },
      "execution_count": null,
      "outputs": [
        {
          "output_type": "stream",
          "name": "stdout",
          "text": [
            "Excel file saved as 'quarterly_data_steel_ppi.xlsx'.\n"
          ]
        }
      ]
    },
    {
      "cell_type": "markdown",
      "source": [
        "CPI\n"
      ],
      "metadata": {
        "id": "J73v2jz27z7J"
      }
    },
    {
      "cell_type": "code",
      "source": [
        "file_path = '/content/drive/My Drive/DISS DATA/CPI US Controls.xlsx'\n",
        "df = pd.read_excel(file_path)\n",
        "print(df.head())\n"
      ],
      "metadata": {
        "colab": {
          "base_uri": "https://localhost:8080/"
        },
        "id": "GB2YTdgE-GQU",
        "outputId": "fe31849e-d308-4189-9148-2ec83fbdcffb"
      },
      "execution_count": null,
      "outputs": [
        {
          "output_type": "stream",
          "name": "stdout",
          "text": [
            "  observation_date  CPIAUCSL\n",
            "0       2015-01-01   234.747\n",
            "1       2015-02-01   235.342\n",
            "2       2015-03-01   235.976\n",
            "3       2015-04-01   236.222\n",
            "4       2015-05-01   237.001\n"
          ]
        }
      ]
    },
    {
      "cell_type": "code",
      "source": [
        "# 2) Parse dates and set as the index\n",
        "df['observation_date'] = pd.to_datetime(df['observation_date'])\n",
        "df.set_index('observation_date', inplace=True)\n",
        "\n",
        "# 3) Resample to quarterly (taking the average of each quarter’s three months)\n",
        "df_q = df.resample('Q').mean()\n",
        "\n",
        "# 4) (Optional) convert the index to a PeriodIndex for easier merging\n",
        "df_q.index = df_q.index.to_period('Q')\n",
        "df_q.index.name = 'dateq'\n",
        "\n",
        "# 5) Export to Excel\n",
        "df_q.reset_index().to_excel(\"quarterly_data_cpi.xlsx\", index=False)\n",
        "print(\"Excel file saved as 'quarterly_data_cpi.xlsx'.\")"
      ],
      "metadata": {
        "colab": {
          "base_uri": "https://localhost:8080/"
        },
        "id": "Yfel4qQj-RJd",
        "outputId": "b8fbb7ad-d5fa-4f4d-dc31-f3287b636a7a"
      },
      "execution_count": null,
      "outputs": [
        {
          "output_type": "stream",
          "name": "stdout",
          "text": [
            "Excel file saved as 'quarterly_data_cpi.xlsx'.\n"
          ]
        },
        {
          "output_type": "stream",
          "name": "stderr",
          "text": [
            "<ipython-input-9-26ad776771d4>:6: FutureWarning: 'Q' is deprecated and will be removed in a future version, please use 'QE' instead.\n",
            "  df_q = df.resample('Q').mean()\n"
          ]
        }
      ]
    },
    {
      "cell_type": "code",
      "source": [
        "print(df_q)"
      ],
      "metadata": {
        "colab": {
          "base_uri": "https://localhost:8080/"
        },
        "id": "unbpqkMV-YDi",
        "outputId": "e2c99a31-bcc8-40e5-843e-920f3eb55891"
      },
      "execution_count": null,
      "outputs": [
        {
          "output_type": "stream",
          "name": "stdout",
          "text": [
            "          CPIAUCSL\n",
            "dateq             \n",
            "2015Q1  235.355000\n",
            "2015Q2  236.960000\n",
            "2015Q3  237.855000\n",
            "2015Q4  237.837000\n",
            "2016Q1  237.689333\n",
            "2016Q2  239.590333\n",
            "2016Q3  240.607333\n",
            "2016Q4  242.134667\n",
            "2017Q1  243.838667\n",
            "2017Q2  244.120000\n",
            "2017Q3  245.287000\n",
            "2017Q4  247.238333\n",
            "2018Q1  249.321667\n",
            "2018Q2  250.679000\n",
            "2018Q3  251.686333\n",
            "2018Q4  252.711000\n",
            "2019Q1  253.385667\n",
            "2019Q2  255.247333\n",
            "2019Q3  256.089333\n",
            "2019Q4  257.888000\n",
            "2020Q1  258.817667\n",
            "2020Q2  256.292000\n",
            "2020Q3  259.221667\n",
            "2020Q4  261.091667\n",
            "2021Q1  263.686333\n",
            "2021Q2  268.579667\n",
            "2021Q3  272.886333\n",
            "2021Q4  278.719333\n",
            "2022Q1  284.844667\n",
            "2022Q2  291.651000\n",
            "2022Q3  295.507667\n",
            "2022Q4  298.498333\n",
            "2023Q1  301.191667\n",
            "2023Q2  303.424333\n",
            "2023Q3  306.042333\n",
            "2023Q4  308.158333\n",
            "2024Q1  310.974333\n",
            "2024Q2  313.095667\n",
            "2024Q3  314.182667\n",
            "2024Q4  316.538667\n"
          ]
        }
      ]
    }
  ]
}