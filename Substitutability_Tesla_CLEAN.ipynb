{
  "nbformat": 4,
  "nbformat_minor": 0,
  "metadata": {
    "colab": {
      "provenance": [],
      "mount_file_id": "1GdXOt-cs4MAIId9s5F0bMb8i1iut7pLc",
      "authorship_tag": "ABX9TyMZijXHmA3RKyXIqO43uiyc"
    },
    "kernelspec": {
      "name": "python3",
      "display_name": "Python 3"
    },
    "language_info": {
      "name": "python"
    }
  },
  "cells": [
    {
      "cell_type": "code",
      "execution_count": null,
      "metadata": {
        "id": "PLMh69XLMjdV",
        "colab": {
          "base_uri": "https://localhost:8080/",
          "height": 106
        },
        "executionInfo": {
          "status": "error",
          "timestamp": 1739298000443,
          "user_tz": 0,
          "elapsed": 75,
          "user": {
            "displayName": "Chill Pill",
            "userId": "01927933884064651779"
          }
        },
        "outputId": "f84398ad-1862-4cf9-8837-65bfe090b7be"
      },
      "outputs": [
        {
          "output_type": "error",
          "ename": "SyntaxError",
          "evalue": "incomplete input (<ipython-input-1-73b755fc2324>, line 2)",
          "traceback": [
            "\u001b[0;36m  File \u001b[0;32m\"<ipython-input-1-73b755fc2324>\"\u001b[0;36m, line \u001b[0;32m2\u001b[0m\n\u001b[0;31m    \"\"\"\u001b[0m\n\u001b[0m    ^\u001b[0m\n\u001b[0;31mSyntaxError\u001b[0m\u001b[0;31m:\u001b[0m incomplete input\n"
          ]
        }
      ],
      "source": [
        "#let's outline the plan--> start writing down your diss so that you can actually code it out\n",
        "\"\"\"\n",
        "1. Clear dataset\n",
        "2. Separate t into quarters\n",
        "3. compute xiGK for all firms\n",
        "-> compute sigkt for all products = one by one build up index\n",
        "--> Use large language model to get product descriptions and compute matrix representation dot product\n",
        "---> create a variable for xiGK for all quarters\n",
        "\n",
        "#you will use these variables for the regressions\n",
        "\n",
        "----> repeat this but get xikGt to construct a network\n",
        "\n",
        "4.plot xiGK though time and see how it behaves --> do the same for the firm to supplier specific relationship network including all suppliers xikGt to visualise the network\n",
        "5. Repeat across all firms and combine them into a single graph/regression for agregate results"
      ]
    },
    {
      "cell_type": "markdown",
      "source": [
        "**Part A: Creating Sikgt**"
      ],
      "metadata": {
        "id": "-hRoQjeWdehw"
      }
    },
    {
      "cell_type": "code",
      "source": [
        "import pandas as pd\n",
        "import numpy as np\n",
        "import matplotlib.pyplot as plt"
      ],
      "metadata": {
        "id": "_70EFwfFck_-",
        "executionInfo": {
          "status": "ok",
          "timestamp": 1741716063635,
          "user_tz": 0,
          "elapsed": 671,
          "user": {
            "displayName": "Chill Pill",
            "userId": "01927933884064651779"
          }
        }
      },
      "execution_count": 1,
      "outputs": []
    },
    {
      "cell_type": "code",
      "source": [
        "from google.colab import drive\n",
        "drive.mount('/content/drive')\n"
      ],
      "metadata": {
        "id": "by4WrZmjclLX",
        "colab": {
          "base_uri": "https://localhost:8080/"
        },
        "executionInfo": {
          "status": "ok",
          "timestamp": 1741716083938,
          "user_tz": 0,
          "elapsed": 20305,
          "user": {
            "displayName": "Chill Pill",
            "userId": "01927933884064651779"
          }
        },
        "outputId": "f897dca0-bb18-43f0-9232-7f2c0f2aeaf2"
      },
      "execution_count": 2,
      "outputs": [
        {
          "output_type": "stream",
          "name": "stdout",
          "text": [
            "Drive already mounted at /content/drive; to attempt to forcibly remount, call drive.mount(\"/content/drive\", force_remount=True).\n"
          ]
        }
      ]
    },
    {
      "cell_type": "code",
      "source": [
        "file_path = '/content/drive/My Drive/DISS DATA/Tesla_BoL_Dataset.xlsx'\n",
        "df = pd.read_excel(file_path)\n",
        "print(df.head())"
      ],
      "metadata": {
        "id": "Uq1hPKHKclN9",
        "colab": {
          "base_uri": "https://localhost:8080/"
        },
        "executionInfo": {
          "status": "ok",
          "timestamp": 1741716093217,
          "user_tz": 0,
          "elapsed": 9281,
          "user": {
            "displayName": "Chill Pill",
            "userId": "01927933884064651779"
          }
        },
        "outputId": "5bc0b885-f975-46a8-cf23-11c7bee21ee0"
      },
      "execution_count": 3,
      "outputs": [
        {
          "output_type": "stream",
          "name": "stdout",
          "text": [
            "  Arrival Date Company Name                            Supplier Name  \\\n",
            "0   2024/09/28    Tesla Inc  Panasonic Operational Excellence Co Ltd   \n",
            "1   2024/09/28    Tesla Inc                        Daehyun St Co Ltd   \n",
            "2   2024/09/28    Tesla Inc  Panasonic Operational Excellence Co Ltd   \n",
            "3   2024/09/28    Tesla Inc  Panasonic Operational Excellence Co Ltd   \n",
            "4   2024/09/28    Tesla Inc                    Posco Future M Co Ltd   \n",
            "\n",
            "          Product Description Destination Port Departure Port  \\\n",
            "0       Separator Film Pervio  Los Angeles, Ca          Pusan   \n",
            "1  Single Sided Adhesive Tape  Los Angeles, Ca          Pusan   \n",
            "2       Separator Film Pervio  Los Angeles, Ca          Pusan   \n",
            "3                         NaN  Los Angeles, Ca          Pusan   \n",
            "4                Anode Active  Los Angeles, Ca          Pusan   \n",
            "\n",
            "    Supplier Country  TEU  Weight  Containers Count  ...  \\\n",
            "0  Republic Of Korea  3.0   15123                 2  ...   \n",
            "1  Republic Of Korea  1.5    5565                 1  ...   \n",
            "2  Republic Of Korea  3.0   14803                 2  ...   \n",
            "3  Republic Of Korea  4.5   23993                 3  ...   \n",
            "4  Republic Of Korea  2.0   18648                 1  ...   \n",
            "\n",
            "  Supplier Total Shipments Container Size  Marks & Numbers  \\\n",
            "0                    22072            NaN              NaN   \n",
            "1                      316            NaN  Tesla Dia Korea   \n",
            "2                    22072            NaN              NaN   \n",
            "3                    22072            NaN              NaN   \n",
            "4                      428            NaN     Pallet Korea   \n",
            "\n",
            "                         Product Description Raw Quantity Unit  Voyage  \\\n",
            "0  40 Packages Of Separator Film Pervio Sf5048 I           PKG    003e   \n",
            "1   8 Packages Of Single Sided Adhesive Tape Inv           PKG    003e   \n",
            "2  40 Packages Of Separator Film Pervio Sf5048 I           PKG    003e   \n",
            "3                                 60 Packages Of           PKG    003e   \n",
            "4    56 Package Of Anode Active Material Invoice           PKG    003e   \n",
            "\n",
            "   Company Total Shipments                           HS Code Full Description  \\\n",
            "0                    23244  Photographic or cinematographic goods ; Photog...   \n",
            "1                    23244  Impregnated, coated, covered or laminated text...   \n",
            "2                    23244  Photographic or cinematographic goods ; Photog...   \n",
            "3                    23244  Electrical machinery and equipment and parts t...   \n",
            "4                    23244  Miscellaneous edible preparations ; Yeasts (ac...   \n",
            "\n",
            "    HS Code                                HS Code Description  \n",
            "0  370220.0  Photographic film in rolls, sensitized, unexpo...  \n",
            "1  590610.0       Adhesive tape of a width not exceeding 20 cm  \n",
            "2  370220.0  Photographic film in rolls, sensitized, unexpo...  \n",
            "3  853649.0                                              Other  \n",
            "4  210210.0                                      Active yeasts  \n",
            "\n",
            "[5 rows x 25 columns]\n"
          ]
        }
      ]
    },
    {
      "cell_type": "code",
      "source": [
        "# Convert \"Arrival Date\" to a proper datetime\n",
        "df['Arrival Date'] = pd.to_datetime(df['Arrival Date'], errors='coerce')\n",
        "\n",
        "# Drop any rows without a valid date\n",
        "df = df.dropna(subset=['Arrival Date'])"
      ],
      "metadata": {
        "id": "aEZYzRTGclQR",
        "executionInfo": {
          "status": "ok",
          "timestamp": 1741716093253,
          "user_tz": 0,
          "elapsed": 36,
          "user": {
            "displayName": "Chill Pill",
            "userId": "01927933884064651779"
          }
        }
      },
      "execution_count": 4,
      "outputs": []
    },
    {
      "cell_type": "code",
      "source": [
        "print(df['Arrival Date'].dtypes)\n"
      ],
      "metadata": {
        "id": "tOGpc2dhclS1",
        "colab": {
          "base_uri": "https://localhost:8080/"
        },
        "executionInfo": {
          "status": "ok",
          "timestamp": 1741716093274,
          "user_tz": 0,
          "elapsed": 20,
          "user": {
            "displayName": "Chill Pill",
            "userId": "01927933884064651779"
          }
        },
        "outputId": "efc7bfaa-d703-4303-de70-d97d2e00d541"
      },
      "execution_count": 5,
      "outputs": [
        {
          "output_type": "stream",
          "name": "stdout",
          "text": [
            "datetime64[ns]\n"
          ]
        }
      ]
    },
    {
      "cell_type": "code",
      "source": [
        "# ============================================================\n",
        "# 2. IDENTIFY \"TESLA BRAND\" COMPANIES\n",
        "# ============================================================\n",
        "# Filter for ANY row where the Company Name contains 'tesla' (case-insensitive).\n",
        "# This captures lines for \"Tesla Inc.\", \"Everson Tesla Inc.\", \"Panasonic C/O Tesla Inc.\", etc.\n",
        "df_tesla = df[df['Company Name'].str.contains(\"tesla\", case=False, na=False)]\n",
        "#print(df_tesla['Company Name'])"
      ],
      "metadata": {
        "id": "jRdcllxxclV_",
        "executionInfo": {
          "status": "ok",
          "timestamp": 1741716093287,
          "user_tz": 0,
          "elapsed": 2,
          "user": {
            "displayName": "Chill Pill",
            "userId": "01927933884064651779"
          }
        }
      },
      "execution_count": 6,
      "outputs": []
    },
    {
      "cell_type": "code",
      "source": [
        "df_tesla = df_tesla[df_tesla['Company Name'] != \"Everson Tesla Inc\"]"
      ],
      "metadata": {
        "id": "OZoMXWIlclYa",
        "executionInfo": {
          "status": "ok",
          "timestamp": 1741716093362,
          "user_tz": 0,
          "elapsed": 74,
          "user": {
            "displayName": "Chill Pill",
            "userId": "01927933884064651779"
          }
        }
      },
      "execution_count": 7,
      "outputs": []
    },
    {
      "cell_type": "code",
      "source": [
        "print(df_tesla['Company Name'].unique())"
      ],
      "metadata": {
        "id": "ZHA22SOyclae",
        "colab": {
          "base_uri": "https://localhost:8080/"
        },
        "executionInfo": {
          "status": "ok",
          "timestamp": 1741716093363,
          "user_tz": 0,
          "elapsed": 12,
          "user": {
            "displayName": "Chill Pill",
            "userId": "01927933884064651779"
          }
        },
        "outputId": "56bde494-6eea-41f1-cddb-3cee1d045a22"
      },
      "execution_count": 8,
      "outputs": [
        {
          "output_type": "stream",
          "name": "stdout",
          "text": [
            "['Tesla Inc' 'Panasonic C/O Tesla Inc' 'Zeppelin Systems Co Tesla Inc'\n",
            " 'M/S Tesla Inc' 'Xpo Logistics Wilmer C O Tesla Inc' 'Tesla Inc Branch'\n",
            " 'Nano Tesla Inc' 'Cnee Tesla Inc' 'Panasonic C O Tesla Inc'\n",
            " 'Consignee Tesla Inc' 'Bali Body Tesla Inc']\n"
          ]
        }
      ]
    },
    {
      "cell_type": "code",
      "source": [
        "# ========== 2. DEFINE QUARTER COLUMN ==========\n",
        "df['Quarter'] = df['Arrival Date'].dt.to_period('Q')"
      ],
      "metadata": {
        "id": "gxYgqdyQclfL",
        "executionInfo": {
          "status": "ok",
          "timestamp": 1741716093363,
          "user_tz": 0,
          "elapsed": 6,
          "user": {
            "displayName": "Chill Pill",
            "userId": "01927933884064651779"
          }
        }
      },
      "execution_count": 9,
      "outputs": []
    },
    {
      "cell_type": "code",
      "source": [
        "# ========== 3. SUM TOTAL VOLUME PER (QUARTER, HS CODE) ==========\n",
        "# We'll call the columns \"Quantity\" or \"Volume\" depending on your dataset.\n",
        "# Modify if you use \"Weight\" or something else.\n",
        "\n",
        "group_total = (df\n",
        "   .groupby(['Quarter', 'HS Code'], as_index=False)\n",
        "   .agg(TotalVolume=('Quantity', 'sum'),FullDescription=('HS Code Full Description', 'first'))\n",
        ")"
      ],
      "metadata": {
        "id": "ECagmyhGcliX",
        "executionInfo": {
          "status": "ok",
          "timestamp": 1741716093393,
          "user_tz": 0,
          "elapsed": 33,
          "user": {
            "displayName": "Chill Pill",
            "userId": "01927933884064651779"
          }
        }
      },
      "execution_count": 10,
      "outputs": []
    },
    {
      "cell_type": "code",
      "source": [
        "print(group_total.head(500000))"
      ],
      "metadata": {
        "colab": {
          "base_uri": "https://localhost:8080/"
        },
        "id": "xGPyFvm0fV77",
        "executionInfo": {
          "status": "ok",
          "timestamp": 1741716093416,
          "user_tz": 0,
          "elapsed": 22,
          "user": {
            "displayName": "Chill Pill",
            "userId": "01927933884064651779"
          }
        },
        "outputId": "6ab34a0d-5c09-4800-d7b0-ca07a6e230f1"
      },
      "execution_count": 11,
      "outputs": [
        {
          "output_type": "stream",
          "name": "stdout",
          "text": [
            "     Quarter   HS Code  TotalVolume  \\\n",
            "0     2015Q1  731010.0          4.0   \n",
            "1     2015Q1  740710.0          3.0   \n",
            "2     2015Q1  850300.0         14.0   \n",
            "3     2015Q2  740710.0         24.0   \n",
            "4     2015Q2  850300.0          8.0   \n",
            "...      ...       ...          ...   \n",
            "2172  2024Q3  841581.0          8.0   \n",
            "2173  2024Q3  850650.0         60.0   \n",
            "2174  2024Q3  851030.0         13.0   \n",
            "2175  2024Q3  853649.0         60.0   \n",
            "2176  2024Q3  854311.0      55404.0   \n",
            "\n",
            "                                        FullDescription  \n",
            "0     Articles of iron or steel ; Tanks, casks, drum...  \n",
            "1     Copper and articles thereof ; Copper bars, rod...  \n",
            "2     Electrical machinery and equipment and parts t...  \n",
            "3     Copper and articles thereof ; Copper bars, rod...  \n",
            "4     Electrical machinery and equipment and parts t...  \n",
            "...                                                 ...  \n",
            "2172  Nuclear reactors, boilers, machinery and mecha...  \n",
            "2173  Electrical machinery and equipment and parts t...  \n",
            "2174  Electrical machinery and equipment and parts t...  \n",
            "2175  Electrical machinery and equipment and parts t...  \n",
            "2176  Electrical machinery and equipment and parts t...  \n",
            "\n",
            "[2177 rows x 4 columns]\n"
          ]
        }
      ]
    },
    {
      "cell_type": "code",
      "source": [
        "# Filter for rows where the Quarter is '2015Q1'\n",
        "filtered_df = group_total[group_total['Quarter'] == '2016Q1']\n",
        "\n",
        "# Group by HS Code and sum the Quantity column\n",
        "hs_code_quantity = filtered_df.groupby('HS Code')['TotalVolume'].sum()\n",
        "\n",
        "# Display the result\n",
        "print(hs_code_quantity)"
      ],
      "metadata": {
        "colab": {
          "base_uri": "https://localhost:8080/"
        },
        "id": "u_2IKUTHfV-5",
        "executionInfo": {
          "status": "ok",
          "timestamp": 1741717364859,
          "user_tz": 0,
          "elapsed": 10,
          "user": {
            "displayName": "Chill Pill",
            "userId": "01927933884064651779"
          }
        },
        "outputId": "c9be4d4a-9db7-4b59-90b8-cf06ac127378"
      },
      "execution_count": 70,
      "outputs": [
        {
          "output_type": "stream",
          "name": "stdout",
          "text": [
            "Series([], Name: TotalVolume, dtype: float64)\n"
          ]
        }
      ]
    },
    {
      "cell_type": "code",
      "source": [
        "# ========== 4. SUPPLIER-LEVEL VOLUME PER (QUARTER, HS CODE, SUPPLIER) ==========\n",
        "group_supplier = (df\n",
        "   .groupby(['Quarter', 'HS Code', 'Supplier Name'], as_index=False)\n",
        "   .agg(SupplierVolume=('Quantity', 'sum'))\n",
        ")\n"
      ],
      "metadata": {
        "id": "tw74Cbd_fWC5",
        "executionInfo": {
          "status": "ok",
          "timestamp": 1741716093442,
          "user_tz": 0,
          "elapsed": 3,
          "user": {
            "displayName": "Chill Pill",
            "userId": "01927933884064651779"
          }
        }
      },
      "execution_count": 13,
      "outputs": []
    },
    {
      "cell_type": "code",
      "source": [
        "print(group_supplier.head(2000))"
      ],
      "metadata": {
        "colab": {
          "base_uri": "https://localhost:8080/"
        },
        "id": "vDYpUgZAfWFr",
        "executionInfo": {
          "status": "ok",
          "timestamp": 1741716093463,
          "user_tz": 0,
          "elapsed": 20,
          "user": {
            "displayName": "Chill Pill",
            "userId": "01927933884064651779"
          }
        },
        "outputId": "d57273d4-bbe0-40bf-ea4a-3060652fa9ce"
      },
      "execution_count": 14,
      "outputs": [
        {
          "output_type": "stream",
          "name": "stdout",
          "text": [
            "     Quarter   HS Code                                    Supplier Name  \\\n",
            "0     2015Q1  731010.0                   Dissaco Nv As Agent For Iba Sa   \n",
            "1     2015Q1  740710.0                                   Luvata Pori Oy   \n",
            "2     2015Q1  850300.0                    Traktionssysteme Austria Gmbh   \n",
            "3     2015Q1  850300.0                           Zako Turcin Spol S R O   \n",
            "4     2015Q2  740710.0                                   Luvata Pori Oy   \n",
            "...      ...       ...                                              ...   \n",
            "1995  2023Q2  401693.0                      Changchun Elringklinger Ltd   \n",
            "1996  2023Q2  401693.0         Connor Manufacturing Services Jb Sdn Bhd   \n",
            "1997  2023Q2  401693.0                              Daesol Ausys Co Ltd   \n",
            "1998  2023Q2  401695.0              Fong Chen Plastic Technology Ind Su   \n",
            "1999  2023Q2  401695.0  Fong Chen Plastic Technology Ind Su Zhou Co Ltd   \n",
            "\n",
            "      SupplierVolume  \n",
            "0                4.0  \n",
            "1                3.0  \n",
            "2               12.0  \n",
            "3                2.0  \n",
            "4               24.0  \n",
            "...              ...  \n",
            "1995           368.0  \n",
            "1996          1728.0  \n",
            "1997            78.0  \n",
            "1998             4.0  \n",
            "1999            27.0  \n",
            "\n",
            "[2000 rows x 4 columns]\n"
          ]
        }
      ]
    },
    {
      "cell_type": "code",
      "source": [
        "# ========== 5. MERGE & COMPUTE s_{k}^g(t) ==========\n",
        "merged = pd.merge(\n",
        "    group_supplier,         # has SupplierVolume\n",
        "    group_total,            # has TotalVolume\n",
        "    on=['Quarter','HS Code'],\n",
        "    how='left'\n",
        ")"
      ],
      "metadata": {
        "id": "Zeo5P-1sfWIB",
        "executionInfo": {
          "status": "ok",
          "timestamp": 1741716093465,
          "user_tz": 0,
          "elapsed": 1,
          "user": {
            "displayName": "Chill Pill",
            "userId": "01927933884064651779"
          }
        }
      },
      "execution_count": 15,
      "outputs": []
    },
    {
      "cell_type": "code",
      "source": [
        "# s_{k}^g(t) = SupplierVolume / TotalVolume\n",
        "merged['s_k^g(t)'] = merged['SupplierVolume'] / merged['TotalVolume']"
      ],
      "metadata": {
        "id": "NMV66zUBfWKv",
        "executionInfo": {
          "status": "ok",
          "timestamp": 1741716093503,
          "user_tz": 0,
          "elapsed": 18,
          "user": {
            "displayName": "Chill Pill",
            "userId": "01927933884064651779"
          }
        }
      },
      "execution_count": 16,
      "outputs": []
    },
    {
      "cell_type": "code",
      "source": [
        "print(merged[['Quarter', 'HS Code', 'Supplier Name', 's_k^g(t)']])\n",
        " #this is per product"
      ],
      "metadata": {
        "colab": {
          "base_uri": "https://localhost:8080/"
        },
        "id": "C3Qc_q_0fWNZ",
        "executionInfo": {
          "status": "ok",
          "timestamp": 1741716093504,
          "user_tz": 0,
          "elapsed": 18,
          "user": {
            "displayName": "Chill Pill",
            "userId": "01927933884064651779"
          }
        },
        "outputId": "6f765f93-bdc6-418e-9234-bcda6258a93b"
      },
      "execution_count": 17,
      "outputs": [
        {
          "output_type": "stream",
          "name": "stdout",
          "text": [
            "     Quarter   HS Code                            Supplier Name  s_k^g(t)\n",
            "0     2015Q1  731010.0           Dissaco Nv As Agent For Iba Sa  1.000000\n",
            "1     2015Q1  740710.0                           Luvata Pori Oy  1.000000\n",
            "2     2015Q1  850300.0            Traktionssysteme Austria Gmbh  0.857143\n",
            "3     2015Q1  850300.0                   Zako Turcin Spol S R O  0.142857\n",
            "4     2015Q2  740710.0                           Luvata Pori Oy  1.000000\n",
            "...      ...       ...                                      ...       ...\n",
            "5726  2024Q3  841581.0                 Metso Outotec Finland Oy  1.000000\n",
            "5727  2024Q3  850650.0        Asahi Kasei E Materials Korea Inc  1.000000\n",
            "5728  2024Q3  851030.0            Traktionssysteme Austria Gmbh  1.000000\n",
            "5729  2024Q3  853649.0  Panasonic Operational Excellence Co Ltd  1.000000\n",
            "5730  2024Q3  854311.0  Panasonic Operational Excellence Co Ltd  1.000000\n",
            "\n",
            "[5731 rows x 4 columns]\n"
          ]
        }
      ]
    },
    {
      "cell_type": "code",
      "source": [
        "\"\"\"\n",
        "Now that i have sikg(t) where i=Tesla&subsidiaries, k=Supplier Name, g=HS code, t=Quarter you have to compute Wgg' to get the\n",
        "weighted importance of each product --> meaning how unique each product supplier k ships to i is, times how much they offer. this yields\n",
        "xigk(t) for each supplier k for each product they offer. to find the supplier specific substitutability across all products, you first compute xigk(t)\n",
        "which is sikg(t)*Wgg' for all the products, and then you summ across all products for each supplier. Then you can plot a temporal network of the\n",
        "substitutability of each supplier to Tesla(i) as it changes for each quarter. WE WILL PROCEEED BY CALUCATING Wgg' USING COSINE SIMILARITY OF HS CODE\n",
        "DESCRIPTION EMBEDDINGS."
      ],
      "metadata": {
        "id": "Z63yp2aKfWP2",
        "colab": {
          "base_uri": "https://localhost:8080/",
          "height": 106
        },
        "executionInfo": {
          "status": "error",
          "timestamp": 1741716093533,
          "user_tz": 0,
          "elapsed": 33,
          "user": {
            "displayName": "Chill Pill",
            "userId": "01927933884064651779"
          }
        },
        "outputId": "17333156-7027-4f2c-de00-e9d85ba27297"
      },
      "execution_count": 18,
      "outputs": [
        {
          "output_type": "error",
          "ename": "SyntaxError",
          "evalue": "incomplete input (<ipython-input-18-6d026915c8e6>, line 1)",
          "traceback": [
            "\u001b[0;36m  File \u001b[0;32m\"<ipython-input-18-6d026915c8e6>\"\u001b[0;36m, line \u001b[0;32m1\u001b[0m\n\u001b[0;31m    \"\"\"\u001b[0m\n\u001b[0m    ^\u001b[0m\n\u001b[0;31mSyntaxError\u001b[0m\u001b[0;31m:\u001b[0m incomplete input\n"
          ]
        }
      ]
    },
    {
      "cell_type": "markdown",
      "source": [
        "**Part B: Creating wgg' for all products (917 unique HS codes)**"
      ],
      "metadata": {
        "id": "X4ziMso4dpWX"
      }
    },
    {
      "cell_type": "code",
      "source": [
        "###########################\n",
        "# 1) LOAD AND PREP DATA   #\n",
        "###########################\n",
        "\n",
        "# Assume your DataFrame is `df` with columns:\n",
        "#   'HS Code' and 'HS code Full Description'\n",
        "# First, get a unique list of (HS Code, Description).\n",
        "df_codes = df[['HS Code','HS Code Full Description']].drop_duplicates(subset=['HS Code'])\n",
        "\n",
        "# Build a dictionary: {HS_code: description_text}.\n",
        "desc_dict = dict(zip(df_codes['HS Code'], df_codes['HS Code Full Description']))"
      ],
      "metadata": {
        "id": "y5Ds0IOIDJpS",
        "executionInfo": {
          "status": "ok",
          "timestamp": 1741716099608,
          "user_tz": 0,
          "elapsed": 66,
          "user": {
            "displayName": "Chill Pill",
            "userId": "01927933884064651779"
          }
        }
      },
      "execution_count": 19,
      "outputs": []
    },
    {
      "cell_type": "code",
      "source": [
        "print(len(desc_dict)) #this means there are 917 unique products imported by tesla HS code wise. Note all HS code descriptions correspond to the HS code and are not product specific"
      ],
      "metadata": {
        "colab": {
          "base_uri": "https://localhost:8080/"
        },
        "id": "hKmycPOnDJrv",
        "executionInfo": {
          "status": "ok",
          "timestamp": 1741716099627,
          "user_tz": 0,
          "elapsed": 17,
          "user": {
            "displayName": "Chill Pill",
            "userId": "01927933884064651779"
          }
        },
        "outputId": "4480fa8e-7978-456d-dc25-994019fe76e6"
      },
      "execution_count": 20,
      "outputs": [
        {
          "output_type": "stream",
          "name": "stdout",
          "text": [
            "917\n"
          ]
        }
      ]
    },
    {
      "cell_type": "code",
      "source": [
        "import torch\n",
        "from transformers import AutoTokenizer, AutoModel"
      ],
      "metadata": {
        "id": "HGTl90ZffWSE",
        "executionInfo": {
          "status": "ok",
          "timestamp": 1741716113185,
          "user_tz": 0,
          "elapsed": 13559,
          "user": {
            "displayName": "Chill Pill",
            "userId": "01927933884064651779"
          }
        }
      },
      "execution_count": 21,
      "outputs": []
    },
    {
      "cell_type": "code",
      "source": [
        "#1. Setting up the model. I am using BERT for now\n",
        "model_name = \"bert-base-uncased\"\n",
        "tokenizer = AutoTokenizer.from_pretrained(model_name)\n",
        "model = AutoModel.from_pretrained(model_name)\n"
      ],
      "metadata": {
        "id": "1m6B4bswfWUX",
        "executionInfo": {
          "status": "ok",
          "timestamp": 1741716127002,
          "user_tz": 0,
          "elapsed": 13815,
          "user": {
            "displayName": "Chill Pill",
            "userId": "01927933884064651779"
          }
        },
        "colab": {
          "base_uri": "https://localhost:8080/",
          "height": 301,
          "referenced_widgets": [
            "c2addee5e8cf4805b0bc001b4f87b919",
            "fa72741a04a64ebd8da3c6b88f4df161",
            "99620d2916824ff4888349dc3e4fdd78",
            "f3a2cdef4e1f41bfb6ac9f6d341d62b3",
            "84edd5247cf34506a2baf0582269e23a",
            "dbd32ab32b8149f3880c67a479604ea9",
            "2ac2d624b3f14a8f9bcbe171135d9414",
            "5479d3f781014db6a3c04620297a4ac0",
            "5b3464347a2140c1a8a8d5c9dfa3b21f",
            "e223e79e37d94a4ebce50ecd47469777",
            "6e9eb4e551734d63894bcc970a43425a",
            "f2a12b9faa1342ef8cd36032d7271272",
            "f09ddc002c9f41b1bc558b26eaf64db7",
            "c21684aff9dd40ce9a8b00ea14097530",
            "0ca1637ec944424cb300987163d059b1",
            "e8b737c993cd4f82a7099839e95d0d5c",
            "e5a7372b3ddd4982bf511c6fb48a67e7",
            "25450f07215a4a5ebef6529f8c789148",
            "f3f35257c75b416c950c8c3169b99ec4",
            "865feeb3b17e45eeaaf40e1c93499397",
            "c5c5f5605ccc427d8179c7eb09b208c9",
            "24058d6d42c44323b25fa4503e68783b",
            "b85d9c10c3314ac0ad7f692d4c533d51",
            "77df3eaf14df45cd8c3f6784e6781cbd",
            "42562aabecf749fca643faae8ddb7641",
            "f839ac13910140748793fce27c50eed0",
            "a296fcdec2fe44b28dd241b7f0419d41",
            "72af12876b0448cab334057843836d95",
            "c77c724e808943668ebc1af019e0978b",
            "6a65f94567ff4cf682a9db13c916d101",
            "4e783fed79e14e2dacf710a7e97518f0",
            "b128a3562e374af2933333b9fd6108f5",
            "9dc17817263a422b9c1733abc8b64cc5",
            "bd5290ddbd1b45b3abf5155857455476",
            "24fde6a499d94835ba777d7b71263676",
            "2ebb4250375f4b3a97d4512775a7bacc",
            "ae7d2e4181a749e0b78c0d0f68527730",
            "a32c73f8035c4e8bb1e191992ba70ecb",
            "fdbf17f722844a86b08faadb2d5307a9",
            "f91677e6d3ff47cf97d7a7a92a415d17",
            "ec474eff916b4ae59175a83c4b628947",
            "48d4fc3ffe584bdd88d99dbcc15a9cea",
            "bc8675195b8c4179af5c6181224ceb90",
            "a69cf2327b414490a3e251e2700bc404",
            "5087be961c404ff3a439e05ea7e2d43c",
            "8a5b56adf315446aa9650b0ba7e57793",
            "2f5ee52091ec406b950961aa0c70af13",
            "31c97709b911405795c3fd820b039230",
            "23163997e20f43888eb2e8e4ec680d75",
            "80e98664b2ff45adb62e56374b2e412c",
            "8e5f31ffc7db42d8bb385d58881c0ba5",
            "3b00cc9b3fef42d2ad47d2e20178c749",
            "cbac63bba0304508bd4f059ca694b276",
            "46ba805a22474367ac216ce300ab0d4c",
            "4c20b19d594249c888064c500dcb8fad"
          ]
        },
        "outputId": "e40cb29f-0098-4637-f960-418171e9a21b"
      },
      "execution_count": 22,
      "outputs": [
        {
          "output_type": "stream",
          "name": "stderr",
          "text": [
            "/usr/local/lib/python3.11/dist-packages/huggingface_hub/utils/_auth.py:94: UserWarning: \n",
            "The secret `HF_TOKEN` does not exist in your Colab secrets.\n",
            "To authenticate with the Hugging Face Hub, create a token in your settings tab (https://huggingface.co/settings/tokens), set it as secret in your Google Colab and restart your session.\n",
            "You will be able to reuse this secret in all of your notebooks.\n",
            "Please note that authentication is recommended but still optional to access public models or datasets.\n",
            "  warnings.warn(\n"
          ]
        },
        {
          "output_type": "display_data",
          "data": {
            "text/plain": [
              "tokenizer_config.json:   0%|          | 0.00/48.0 [00:00<?, ?B/s]"
            ],
            "application/vnd.jupyter.widget-view+json": {
              "version_major": 2,
              "version_minor": 0,
              "model_id": "c2addee5e8cf4805b0bc001b4f87b919"
            }
          },
          "metadata": {}
        },
        {
          "output_type": "display_data",
          "data": {
            "text/plain": [
              "config.json:   0%|          | 0.00/570 [00:00<?, ?B/s]"
            ],
            "application/vnd.jupyter.widget-view+json": {
              "version_major": 2,
              "version_minor": 0,
              "model_id": "f2a12b9faa1342ef8cd36032d7271272"
            }
          },
          "metadata": {}
        },
        {
          "output_type": "display_data",
          "data": {
            "text/plain": [
              "vocab.txt:   0%|          | 0.00/232k [00:00<?, ?B/s]"
            ],
            "application/vnd.jupyter.widget-view+json": {
              "version_major": 2,
              "version_minor": 0,
              "model_id": "b85d9c10c3314ac0ad7f692d4c533d51"
            }
          },
          "metadata": {}
        },
        {
          "output_type": "display_data",
          "data": {
            "text/plain": [
              "tokenizer.json:   0%|          | 0.00/466k [00:00<?, ?B/s]"
            ],
            "application/vnd.jupyter.widget-view+json": {
              "version_major": 2,
              "version_minor": 0,
              "model_id": "bd5290ddbd1b45b3abf5155857455476"
            }
          },
          "metadata": {}
        },
        {
          "output_type": "display_data",
          "data": {
            "text/plain": [
              "model.safetensors:   0%|          | 0.00/440M [00:00<?, ?B/s]"
            ],
            "application/vnd.jupyter.widget-view+json": {
              "version_major": 2,
              "version_minor": 0,
              "model_id": "5087be961c404ff3a439e05ea7e2d43c"
            }
          },
          "metadata": {}
        }
      ]
    },
    {
      "cell_type": "code",
      "source": [
        "model.eval()  # We only need inference"
      ],
      "metadata": {
        "colab": {
          "base_uri": "https://localhost:8080/"
        },
        "id": "udbKWUpZ_YLu",
        "executionInfo": {
          "status": "ok",
          "timestamp": 1741716127056,
          "user_tz": 0,
          "elapsed": 53,
          "user": {
            "displayName": "Chill Pill",
            "userId": "01927933884064651779"
          }
        },
        "outputId": "6610c23b-d0d3-4549-e196-f9cce1a93031"
      },
      "execution_count": 23,
      "outputs": [
        {
          "output_type": "execute_result",
          "data": {
            "text/plain": [
              "BertModel(\n",
              "  (embeddings): BertEmbeddings(\n",
              "    (word_embeddings): Embedding(30522, 768, padding_idx=0)\n",
              "    (position_embeddings): Embedding(512, 768)\n",
              "    (token_type_embeddings): Embedding(2, 768)\n",
              "    (LayerNorm): LayerNorm((768,), eps=1e-12, elementwise_affine=True)\n",
              "    (dropout): Dropout(p=0.1, inplace=False)\n",
              "  )\n",
              "  (encoder): BertEncoder(\n",
              "    (layer): ModuleList(\n",
              "      (0-11): 12 x BertLayer(\n",
              "        (attention): BertAttention(\n",
              "          (self): BertSdpaSelfAttention(\n",
              "            (query): Linear(in_features=768, out_features=768, bias=True)\n",
              "            (key): Linear(in_features=768, out_features=768, bias=True)\n",
              "            (value): Linear(in_features=768, out_features=768, bias=True)\n",
              "            (dropout): Dropout(p=0.1, inplace=False)\n",
              "          )\n",
              "          (output): BertSelfOutput(\n",
              "            (dense): Linear(in_features=768, out_features=768, bias=True)\n",
              "            (LayerNorm): LayerNorm((768,), eps=1e-12, elementwise_affine=True)\n",
              "            (dropout): Dropout(p=0.1, inplace=False)\n",
              "          )\n",
              "        )\n",
              "        (intermediate): BertIntermediate(\n",
              "          (dense): Linear(in_features=768, out_features=3072, bias=True)\n",
              "          (intermediate_act_fn): GELUActivation()\n",
              "        )\n",
              "        (output): BertOutput(\n",
              "          (dense): Linear(in_features=3072, out_features=768, bias=True)\n",
              "          (LayerNorm): LayerNorm((768,), eps=1e-12, elementwise_affine=True)\n",
              "          (dropout): Dropout(p=0.1, inplace=False)\n",
              "        )\n",
              "      )\n",
              "    )\n",
              "  )\n",
              "  (pooler): BertPooler(\n",
              "    (dense): Linear(in_features=768, out_features=768, bias=True)\n",
              "    (activation): Tanh()\n",
              "  )\n",
              ")"
            ]
          },
          "metadata": {},
          "execution_count": 23
        }
      ]
    },
    {
      "cell_type": "code",
      "source": [
        "def get_bert_embedding(text):\n",
        "    inputs = tokenizer(text, return_tensors=\"pt\", truncation=True, max_length=128)\n",
        "    with torch.no_grad():\n",
        "        outputs = model(**inputs)\n",
        "    # outputs.last_hidden_state shape: [batch_size, seq_length, hidden_dim]\n",
        "    # We take the [CLS] token at index 0 to represent the entire text\n",
        "    cls_vec = outputs.last_hidden_state[:, 0, :]\n",
        "    return cls_vec.squeeze(0)  # shape: [hidden_dim]\n"
      ],
      "metadata": {
        "id": "jMPc3q5N_Ybg",
        "executionInfo": {
          "status": "ok",
          "timestamp": 1741716127059,
          "user_tz": 0,
          "elapsed": 1,
          "user": {
            "displayName": "Chill Pill",
            "userId": "01927933884064651779"
          }
        }
      },
      "execution_count": 24,
      "outputs": []
    },
    {
      "cell_type": "code",
      "source": [
        "#this computes dot product and divides by L2 to get the cosine similarity e{-1,1} aka how similary two unique descriptions of hs codes are\n",
        "def cosine_sim(vec1, vec2):\n",
        "    dot_val = torch.dot(vec1, vec2)\n",
        "    norm_val = vec1.norm(p=2) * vec2.norm(p=2)\n",
        "    return (dot_val / norm_val).item()\n"
      ],
      "metadata": {
        "id": "WgkwUOOh_YeC",
        "executionInfo": {
          "status": "ok",
          "timestamp": 1741716127061,
          "user_tz": 0,
          "elapsed": 1,
          "user": {
            "displayName": "Chill Pill",
            "userId": "01927933884064651779"
          }
        }
      },
      "execution_count": 25,
      "outputs": []
    },
    {
      "cell_type": "code",
      "source": [
        "hs_codes = list(desc_dict.keys())  # e.g. [370220.0, 590610.0, 853649.0, ...]\n",
        "n = len(hs_codes)\n",
        "\n",
        "# Precompute embeddings for each unique HS Code\n",
        "embeddings = {}\n",
        "for code in hs_codes:\n",
        "    text = str(desc_dict[code])  # in case of NaNs\n",
        "    embeddings[code] = get_bert_embedding(text)\n",
        "\n",
        "# Create an n x n array for pairwise similarities\n",
        "W = np.zeros((n, n), dtype=float)\n",
        "\n",
        "for i in range(n):\n",
        "    for j in range(n):\n",
        "        if i == j:\n",
        "            W[i,j] = 1.0\n",
        "        else:\n",
        "            v1 = embeddings[hs_codes[i]]\n",
        "            v2 = embeddings[hs_codes[j]]\n",
        "            W[i,j] = cosine_sim(v1, v2)\n"
      ],
      "metadata": {
        "id": "eBNPOrtA_Yg0",
        "executionInfo": {
          "status": "ok",
          "timestamp": 1741716406886,
          "user_tz": 0,
          "elapsed": 279824,
          "user": {
            "displayName": "Chill Pill",
            "userId": "01927933884064651779"
          }
        }
      },
      "execution_count": 26,
      "outputs": []
    },
    {
      "cell_type": "code",
      "source": [
        "print(W[:10, :10])\n",
        "#non-normalized"
      ],
      "metadata": {
        "colab": {
          "base_uri": "https://localhost:8080/"
        },
        "id": "6VGD1eDD_Yj2",
        "executionInfo": {
          "status": "ok",
          "timestamp": 1741716406888,
          "user_tz": 0,
          "elapsed": 17,
          "user": {
            "displayName": "Chill Pill",
            "userId": "01927933884064651779"
          }
        },
        "outputId": "98c59b80-0a1e-40ed-d91e-67c35b33b389"
      },
      "execution_count": 27,
      "outputs": [
        {
          "output_type": "stream",
          "name": "stdout",
          "text": [
            "[[1.         0.84674609 0.85259837 0.78366131 0.7981109  0.78033501\n",
            "  0.81795686 0.82383519 0.85810536 0.80357081]\n",
            " [0.84674609 1.         0.85494196 0.87860185 0.78940856 0.8299222\n",
            "  0.85580146 0.88033849 0.87890923 0.8505398 ]\n",
            " [0.85259837 0.85494196 1.         0.81248319 0.85560161 0.81271142\n",
            "  0.90073049 0.8249495  0.88585848 0.85857254]\n",
            " [0.78366131 0.87860185 0.81248319 1.         0.81634486 0.82181376\n",
            "  0.84740216 0.80748838 0.85907197 0.86023384]\n",
            " [0.7981109  0.78940856 0.85560161 0.81634486 1.         0.79876292\n",
            "  0.82879722 0.77252394 0.89340287 0.90415448]\n",
            " [0.78033501 0.8299222  0.81271142 0.82181376 0.79876292 1.\n",
            "  0.80724978 0.79543078 0.84371543 0.82672977]\n",
            " [0.81795686 0.85580146 0.90073049 0.84740216 0.82879722 0.80724978\n",
            "  1.         0.8034023  0.8670482  0.88264638]\n",
            " [0.82383519 0.88033849 0.8249495  0.80748838 0.77252394 0.79543078\n",
            "  0.8034023  1.         0.85492331 0.80897641]\n",
            " [0.85810536 0.87890923 0.88585848 0.85907197 0.89340287 0.84371543\n",
            "  0.8670482  0.85492331 1.         0.89192319]\n",
            " [0.80357081 0.8505398  0.85857254 0.86023384 0.90415448 0.82672977\n",
            "  0.88264638 0.80897641 0.89192319 1.        ]]\n"
          ]
        }
      ]
    },
    {
      "cell_type": "code",
      "source": [
        "#normalization {0,1}\n",
        "W_min, W_max = W.min(), W.max()\n",
        "W_norm = (W - W_min)/(W_max - W_min)\n",
        "#This is mix max normalization which is not good since the rows do not sum up to 1 as ALberto wanted"
      ],
      "metadata": {
        "id": "Z8wA21JOJVGi",
        "executionInfo": {
          "status": "ok",
          "timestamp": 1741716406888,
          "user_tz": 0,
          "elapsed": 6,
          "user": {
            "displayName": "Chill Pill",
            "userId": "01927933884064651779"
          }
        }
      },
      "execution_count": 28,
      "outputs": []
    },
    {
      "cell_type": "code",
      "source": [
        "\"\"\"\n",
        "# 1. Calculate row sums\n",
        "row_sums = W.sum(axis=1, keepdims=True)\n",
        "# shape of row_sums is (n, 1), one sum per row\n",
        "\n",
        "\n",
        "# 2. Divide each row by its sum\n",
        "W_row_norm = W / row_sums\n",
        "# Now each row i sums to 1,\n",
        "# i.e. sum_j W_row_norm[i,j] = 1\n",
        "\n",
        "#print(W_row_norm.sum(axis=1, keepdims=True)[:10, :10])"
      ],
      "metadata": {
        "colab": {
          "base_uri": "https://localhost:8080/",
          "height": 106
        },
        "id": "E8cgAesV-2GP",
        "executionInfo": {
          "status": "error",
          "timestamp": 1741716406889,
          "user_tz": 0,
          "elapsed": 6,
          "user": {
            "displayName": "Chill Pill",
            "userId": "01927933884064651779"
          }
        },
        "outputId": "a2ecd673-4026-42fd-d88a-c18af7ece740"
      },
      "execution_count": 29,
      "outputs": [
        {
          "output_type": "error",
          "ename": "SyntaxError",
          "evalue": "incomplete input (<ipython-input-29-9a3cc3bac0b1>, line 1)",
          "traceback": [
            "\u001b[0;36m  File \u001b[0;32m\"<ipython-input-29-9a3cc3bac0b1>\"\u001b[0;36m, line \u001b[0;32m1\u001b[0m\n\u001b[0;31m    \"\"\"\u001b[0m\n\u001b[0m    ^\u001b[0m\n\u001b[0;31mSyntaxError\u001b[0m\u001b[0;31m:\u001b[0m incomplete input\n"
          ]
        }
      ]
    },
    {
      "cell_type": "code",
      "source": [
        "\n",
        "# 3. Convert back to a DataFrame, if desired\n",
        "similarity_df_row_norm = pd.DataFrame(\n",
        "    W_norm,\n",
        "    index=hs_codes,     # same row labels\n",
        "    columns=hs_codes    # same column labels\n",
        ")\n",
        "\n",
        "# Quick check that each row sums to ~1\n",
        "print(similarity_df_row_norm.sum(axis=1))"
      ],
      "metadata": {
        "id": "Zh7UWuxlVxSd",
        "executionInfo": {
          "status": "ok",
          "timestamp": 1741716423376,
          "user_tz": 0,
          "elapsed": 111,
          "user": {
            "displayName": "Chill Pill",
            "userId": "01927933884064651779"
          }
        },
        "colab": {
          "base_uri": "https://localhost:8080/"
        },
        "outputId": "76b4d634-0db7-4152-8365-85d88132aeaa"
      },
      "execution_count": 30,
      "outputs": [
        {
          "output_type": "stream",
          "name": "stdout",
          "text": [
            "370220.0    702.486961\n",
            "590610.0    735.462034\n",
            "853649.0    749.583100\n",
            "210210.0    718.187821\n",
            "284190.0    706.416691\n",
            "               ...    \n",
            "950619.0    690.850595\n",
            "860610.0    741.169834\n",
            "841199.0    726.026108\n",
            "902214.0    712.458744\n",
            "860799.0    751.204881\n",
            "Length: 917, dtype: float64\n"
          ]
        }
      ]
    },
    {
      "cell_type": "code",
      "source": [
        "print(similarity_df_row_norm.head(917))"
      ],
      "metadata": {
        "colab": {
          "base_uri": "https://localhost:8080/"
        },
        "id": "MWWUBYHyVyja",
        "executionInfo": {
          "status": "ok",
          "timestamp": 1741716423386,
          "user_tz": 0,
          "elapsed": 9,
          "user": {
            "displayName": "Chill Pill",
            "userId": "01927933884064651779"
          }
        },
        "outputId": "cf69c6bd-d855-4f4e-9627-f7c1447aa97a"
      },
      "execution_count": 31,
      "outputs": [
        {
          "output_type": "stream",
          "name": "stdout",
          "text": [
            "          370220.0  590610.0  853649.0  210210.0  284190.0  392690.0  \\\n",
            "370220.0  1.000000  0.819108  0.826016  0.744646  0.761702  0.740720   \n",
            "590610.0  0.819108  1.000000  0.828782  0.856709  0.751430  0.799250   \n",
            "853649.0  0.826016  0.828782  1.000000  0.778666  0.829561  0.778935   \n",
            "210210.0  0.744646  0.856709  0.778666  1.000000  0.783224  0.789679   \n",
            "284190.0  0.761702  0.751430  0.829561  0.783224  1.000000  0.762472   \n",
            "...            ...       ...       ...       ...       ...       ...   \n",
            "950619.0  0.746762  0.774190  0.813701  0.791916  0.729601  0.806947   \n",
            "860610.0  0.796189  0.824315  0.875943  0.799429  0.825347  0.751655   \n",
            "841199.0  0.763288  0.785430  0.871292  0.790060  0.827401  0.793948   \n",
            "902214.0  0.819344  0.792645  0.875301  0.787589  0.791459  0.693920   \n",
            "860799.0  0.811359  0.822227  0.897061  0.798128  0.845700  0.827346   \n",
            "\n",
            "          841370.0  741022.0  380190.0  391231.0  ...  852320.0  901910.0  \\\n",
            "370220.0  0.785127  0.792065  0.832516  0.768146  ...  0.751924  0.697377   \n",
            "590610.0  0.829796  0.858758  0.857071  0.823586  ...  0.750033  0.630817   \n",
            "853649.0  0.882828  0.793381  0.865274  0.833067  ...  0.790871  0.756622   \n",
            "210210.0  0.819882  0.772771  0.833657  0.835028  ...  0.742678  0.626955   \n",
            "284190.0  0.797922  0.731501  0.874179  0.886869  ...  0.762511  0.626927   \n",
            "...            ...       ...       ...       ...  ...       ...       ...   \n",
            "950619.0  0.794796  0.737677  0.796251  0.773921  ...  0.822822  0.721421   \n",
            "860610.0  0.852738  0.796758  0.833473  0.859029  ...  0.807250  0.622247   \n",
            "841199.0  0.918880  0.745611  0.844175  0.830990  ...  0.796174  0.678550   \n",
            "902214.0  0.829254  0.766836  0.811344  0.792953  ...  0.803771  0.712660   \n",
            "860799.0  0.869621  0.797363  0.875927  0.853494  ...  0.807378  0.704949   \n",
            "\n",
            "          702000.0  776300.0  761410.0  950619.0  860610.0  841199.0  \\\n",
            "370220.0  0.636835  0.210165  0.700762  0.746762  0.796189  0.763288   \n",
            "590610.0  0.775268  0.434104  0.825621  0.774190  0.824315  0.785430   \n",
            "853649.0  0.677289  0.263430  0.812435  0.813701  0.875943  0.871292   \n",
            "210210.0  0.784126  0.477492  0.746486  0.791916  0.799429  0.790060   \n",
            "284190.0  0.697040  0.320370  0.669343  0.729601  0.825347  0.827401   \n",
            "...            ...       ...       ...       ...       ...       ...   \n",
            "950619.0  0.656010  0.316139  0.750928  1.000000  0.771861  0.787529   \n",
            "860610.0  0.810222  0.457010  0.785018  0.771861  1.000000  0.828067   \n",
            "841199.0  0.660054  0.230301  0.724925  0.787529  0.828067  1.000000   \n",
            "902214.0  0.690288  0.304572  0.721737  0.793589  0.866754  0.800267   \n",
            "860799.0  0.732702  0.309954  0.771636  0.814880  0.916503  0.889601   \n",
            "\n",
            "          902214.0  860799.0  \n",
            "370220.0  0.819344  0.811359  \n",
            "590610.0  0.792645  0.822227  \n",
            "853649.0  0.875301  0.897061  \n",
            "210210.0  0.787589  0.798128  \n",
            "284190.0  0.791459  0.845700  \n",
            "...            ...       ...  \n",
            "950619.0  0.793589  0.814880  \n",
            "860610.0  0.866754  0.916503  \n",
            "841199.0  0.800267  0.889601  \n",
            "902214.0  1.000000  0.843822  \n",
            "860799.0  0.843822  1.000000  \n",
            "\n",
            "[917 rows x 917 columns]\n"
          ]
        }
      ]
    },
    {
      "cell_type": "code",
      "source": [
        "\n",
        "import matplotlib.pyplot as plt\n",
        "import seaborn as sns\n",
        "\n",
        "# Select a specific row (change index if needed)\n",
        "row_index = 902214.0  # Example index from your dataset\n",
        "row_values = similarity_df_row_norm.loc[row_index]\n",
        "\n",
        "# Plot the distribution\n",
        "plt.figure(figsize=(10, 5))\n",
        "sns.barplot(x=row_values.index, y=row_values.values, color=\"blue\")\n",
        "\n",
        "# Labels and title\n",
        "plt.xlabel(\"Column Index\")\n",
        "plt.ylabel(\"Normalized Similarity Value\")\n",
        "plt.title(f\"Distribution of Row {row_index} (Values Sum to 1)\")\n",
        "plt.xticks([])  # Remove x-ticks for readability\n",
        "\n",
        "# Show plot\n",
        "plt.show()\n"
      ],
      "metadata": {
        "colab": {
          "base_uri": "https://localhost:8080/",
          "height": 463
        },
        "id": "ZUwtNtHbDZr9",
        "executionInfo": {
          "status": "ok",
          "timestamp": 1741716428137,
          "user_tz": 0,
          "elapsed": 4749,
          "user": {
            "displayName": "Chill Pill",
            "userId": "01927933884064651779"
          }
        },
        "outputId": "5014de82-c4aa-471e-fc71-99bf2dd9d0e7"
      },
      "execution_count": 32,
      "outputs": [
        {
          "output_type": "display_data",
          "data": {
            "text/plain": [
              "<Figure size 1000x500 with 1 Axes>"
            ],
            "image/png": "[encoded data removed]"
          },
          "metadata": {}
        }
      ]
    },
    {
      "cell_type": "code",
      "source": [
        "#this yields a large matrix nxn with all the similarities. I want the sum of wgg' for product g against all other products excluding g."
      ],
      "metadata": {
        "id": "EgApPqN2_Ymr",
        "executionInfo": {
          "status": "ok",
          "timestamp": 1741716428138,
          "user_tz": 0,
          "elapsed": 32,
          "user": {
            "displayName": "Chill Pill",
            "userId": "01927933884064651779"
          }
        }
      },
      "execution_count": 33,
      "outputs": []
    },
    {
      "cell_type": "code",
      "source": [
        "#Step 1: for each product g exctract wgg' -  this is the row for each product. (I am not sure how to know which product is assigned to which HS code in matrix form)"
      ],
      "metadata": {
        "id": "ScUOGQdE_Yra",
        "executionInfo": {
          "status": "ok",
          "timestamp": 1741716428139,
          "user_tz": 0,
          "elapsed": 3,
          "user": {
            "displayName": "Chill Pill",
            "userId": "01927933884064651779"
          }
        }
      },
      "execution_count": 34,
      "outputs": []
    },
    {
      "cell_type": "code",
      "source": [
        "# 1) This function is applied row by row\n",
        "#    \"row\" is a Series of length N, each element is w_{g, g'} for a single g but all columns g'.\n",
        "#    row.name is the row label, i.e. the HS code of g itself.\n",
        "#    We do row.drop(row.name) so we exclude w_{g,g} (the self-similarity on the diagonal).\n",
        "#    Then we take the mean of the rest.\n",
        "df_mean_sim = similarity_df_row_norm.apply(\n",
        "    lambda row: row.drop(row.name).mean(),\n",
        "    axis=1\n",
        ")\n",
        "\n",
        "# df_mean_sim is now a Series with index=HS code, and\n",
        "# the value is the average similarity to all other codes.\n",
        "print(df_mean_sim.head(10))\n"
      ],
      "metadata": {
        "colab": {
          "base_uri": "https://localhost:8080/"
        },
        "id": "rSTAyA4n_YvC",
        "executionInfo": {
          "status": "ok",
          "timestamp": 1741716428370,
          "user_tz": 0,
          "elapsed": 233,
          "user": {
            "displayName": "Chill Pill",
            "userId": "01927933884064651779"
          }
        },
        "outputId": "9e46a03e-5bf2-4cbb-8e08-e284690f150e"
      },
      "execution_count": 35,
      "outputs": [
        {
          "output_type": "stream",
          "name": "stdout",
          "text": [
            "370220.0    0.765815\n",
            "590610.0    0.801814\n",
            "853649.0    0.817230\n",
            "210210.0    0.782956\n",
            "284190.0    0.770106\n",
            "392690.0    0.758435\n",
            "841370.0    0.811883\n",
            "741022.0    0.770562\n",
            "380190.0    0.816951\n",
            "391231.0    0.806573\n",
            "dtype: float64\n"
          ]
        }
      ]
    },
    {
      "cell_type": "code",
      "source": [
        "#I am storing this in a new dataframe --> I have the aggregated similarity of each product with all other products | it's HS code. this is wgg' where g' is {geG|g=\\G}\n",
        "df_avg_similarity = pd.DataFrame({\n",
        "    'HS Code': df_mean_sim.index,\n",
        "    'MeanSimilarity': df_mean_sim.values\n",
        "})\n",
        "df_avg_similarity.reset_index(drop=True, inplace=True)\n",
        "print(df_avg_similarity.head(917))\n"
      ],
      "metadata": {
        "colab": {
          "base_uri": "https://localhost:8080/"
        },
        "id": "WeX71UIOYD-W",
        "executionInfo": {
          "status": "ok",
          "timestamp": 1741716428383,
          "user_tz": 0,
          "elapsed": 22,
          "user": {
            "displayName": "Chill Pill",
            "userId": "01927933884064651779"
          }
        },
        "outputId": "5ae2911b-7b14-4058-ea4a-648644ff369e"
      },
      "execution_count": 36,
      "outputs": [
        {
          "output_type": "stream",
          "name": "stdout",
          "text": [
            "      HS Code  MeanSimilarity\n",
            "0    370220.0        0.765815\n",
            "1    590610.0        0.801814\n",
            "2    853649.0        0.817230\n",
            "3    210210.0        0.782956\n",
            "4    284190.0        0.770106\n",
            "..        ...             ...\n",
            "912  950619.0        0.753112\n",
            "913  860610.0        0.808046\n",
            "914  841199.0        0.791513\n",
            "915  902214.0        0.776702\n",
            "916  860799.0        0.819001\n",
            "\n",
            "[917 rows x 2 columns]\n"
          ]
        }
      ]
    },
    {
      "cell_type": "code",
      "source": [
        "\"\"\"\n",
        "I have succesfully created all wgg' for all g's (917 unique products HS code wise)\n",
        "I am now going to compute xikgt across all quarters. where xigkt=sikt*wgg'and plot in a table to see. I can create temporal networks out of this computation.\n",
        "\"\"\"\n"
      ],
      "metadata": {
        "id": "U3-uRCD_YI1n",
        "executionInfo": {
          "status": "ok",
          "timestamp": 1741716428396,
          "user_tz": 0,
          "elapsed": 14,
          "user": {
            "displayName": "Chill Pill",
            "userId": "01927933884064651779"
          }
        },
        "colab": {
          "base_uri": "https://localhost:8080/",
          "height": 53
        },
        "outputId": "bdce26b8-fcc1-4143-c2e9-84072bc705a5"
      },
      "execution_count": 37,
      "outputs": [
        {
          "output_type": "execute_result",
          "data": {
            "text/plain": [
              "\"\\nI have succesfully created all wgg' for all g's (917 unique products HS code wise)\\nI am now going to compute xikgt across all quarters. where xigkt=sikt*wgg'and plot in a table to see. I can create temporal networks out of this computation.\\n\""
            ],
            "application/vnd.google.colaboratory.intrinsic+json": {
              "type": "string"
            }
          },
          "metadata": {},
          "execution_count": 37
        }
      ]
    },
    {
      "cell_type": "markdown",
      "source": [
        "**Part C: Computing Xikgt for all quarters and plotting a temporal network**"
      ],
      "metadata": {
        "id": "-Hn_DWFvdyMI"
      }
    },
    {
      "cell_type": "code",
      "source": [
        "# 1) Merge on 'HS Code' to attach each product g's mean similarity\n",
        "df_x = pd.merge(\n",
        "    merged,                  # has s_k^g(t), Quarter, Supplier Name, ...\n",
        "    df_avg_similarity,       # has 'HS Code' + 'MeanSimilarity'\n",
        "    on='HS Code',            # matching column\n",
        "    how='left'               # or 'inner' if you only want matching codes\n",
        ")\n",
        "\n",
        "print(df_x.head(10))\n"
      ],
      "metadata": {
        "colab": {
          "base_uri": "https://localhost:8080/"
        },
        "id": "Tc6lK_-Jd6Hm",
        "executionInfo": {
          "status": "ok",
          "timestamp": 1741716428485,
          "user_tz": 0,
          "elapsed": 77,
          "user": {
            "displayName": "Chill Pill",
            "userId": "01927933884064651779"
          }
        },
        "outputId": "d640641d-f327-4762-9c0c-edcab99f726a"
      },
      "execution_count": 38,
      "outputs": [
        {
          "output_type": "stream",
          "name": "stdout",
          "text": [
            "  Quarter   HS Code                   Supplier Name  SupplierVolume  \\\n",
            "0  2015Q1  731010.0  Dissaco Nv As Agent For Iba Sa             4.0   \n",
            "1  2015Q1  740710.0                  Luvata Pori Oy             3.0   \n",
            "2  2015Q1  850300.0   Traktionssysteme Austria Gmbh            12.0   \n",
            "3  2015Q1  850300.0          Zako Turcin Spol S R O             2.0   \n",
            "4  2015Q2  740710.0                  Luvata Pori Oy            24.0   \n",
            "5  2015Q2  850300.0   Traktionssysteme Austria Gmbh             8.0   \n",
            "6  2015Q2  871493.0       Tesla Engineering Limited             2.0   \n",
            "7  2015Q3  740710.0                  Luvata Pori Oy            18.0   \n",
            "8  2015Q3  850300.0          Zako Turcin Spol S R O             1.0   \n",
            "9  2015Q4  740710.0                  Luvata Pori Oy             5.0   \n",
            "\n",
            "   TotalVolume                                    FullDescription  s_k^g(t)  \\\n",
            "0          4.0  Articles of iron or steel ; Tanks, casks, drum...  1.000000   \n",
            "1          3.0  Copper and articles thereof ; Copper bars, rod...  1.000000   \n",
            "2         14.0  Electrical machinery and equipment and parts t...  0.857143   \n",
            "3         14.0  Electrical machinery and equipment and parts t...  0.142857   \n",
            "4         24.0  Copper and articles thereof ; Copper bars, rod...  1.000000   \n",
            "5          8.0  Electrical machinery and equipment and parts t...  1.000000   \n",
            "6          2.0  Vehicles other than railway or tramway rolling...  1.000000   \n",
            "7         18.0  Copper and articles thereof ; Copper bars, rod...  1.000000   \n",
            "8          1.0  Electrical machinery and equipment and parts t...  1.000000   \n",
            "9          5.0  Copper and articles thereof ; Copper bars, rod...  1.000000   \n",
            "\n",
            "   MeanSimilarity  \n",
            "0        0.767992  \n",
            "1        0.771778  \n",
            "2        0.780612  \n",
            "3        0.780612  \n",
            "4        0.771778  \n",
            "5        0.780612  \n",
            "6        0.809444  \n",
            "7        0.771778  \n",
            "8        0.780612  \n",
            "9        0.771778  \n"
          ]
        }
      ]
    },
    {
      "cell_type": "code",
      "source": [
        "print(df_x.shape)\n"
      ],
      "metadata": {
        "colab": {
          "base_uri": "https://localhost:8080/"
        },
        "id": "Wwp0kRpad6SP",
        "executionInfo": {
          "status": "ok",
          "timestamp": 1741716428491,
          "user_tz": 0,
          "elapsed": 47,
          "user": {
            "displayName": "Chill Pill",
            "userId": "01927933884064651779"
          }
        },
        "outputId": "1997c593-358d-40e5-fac0-44a49c962286"
      },
      "execution_count": 39,
      "outputs": [
        {
          "output_type": "stream",
          "name": "stdout",
          "text": [
            "(5731, 8)\n"
          ]
        }
      ]
    },
    {
      "cell_type": "code",
      "source": [
        "# 2) Multiply to get x_{ik}^g(t)\n",
        "df_x['x_ik^g(t)'] = df_x['s_k^g(t)'] * df_x['MeanSimilarity']\n"
      ],
      "metadata": {
        "id": "Pz3b3lcVd6U0",
        "executionInfo": {
          "status": "ok",
          "timestamp": 1741716428492,
          "user_tz": 0,
          "elapsed": 30,
          "user": {
            "displayName": "Chill Pill",
            "userId": "01927933884064651779"
          }
        }
      },
      "execution_count": 40,
      "outputs": []
    },
    {
      "cell_type": "code",
      "source": [
        "# 3) Display the results\n",
        "print(\n",
        "    df_x[\n",
        "      ['Quarter', 'HS Code', 'Supplier Name', 's_k^g(t)', 'MeanSimilarity', 'x_ik^g(t)']\n",
        "    ].head(30000)\n",
        ")\n"
      ],
      "metadata": {
        "colab": {
          "base_uri": "https://localhost:8080/"
        },
        "id": "OBlr__mPd6b6",
        "executionInfo": {
          "status": "ok",
          "timestamp": 1741716428498,
          "user_tz": 0,
          "elapsed": 35,
          "user": {
            "displayName": "Chill Pill",
            "userId": "01927933884064651779"
          }
        },
        "outputId": "c5966eb1-33f1-43cf-87c2-6a7a7486af74"
      },
      "execution_count": 41,
      "outputs": [
        {
          "output_type": "stream",
          "name": "stdout",
          "text": [
            "     Quarter   HS Code                            Supplier Name  s_k^g(t)  \\\n",
            "0     2015Q1  731010.0           Dissaco Nv As Agent For Iba Sa  1.000000   \n",
            "1     2015Q1  740710.0                           Luvata Pori Oy  1.000000   \n",
            "2     2015Q1  850300.0            Traktionssysteme Austria Gmbh  0.857143   \n",
            "3     2015Q1  850300.0                   Zako Turcin Spol S R O  0.142857   \n",
            "4     2015Q2  740710.0                           Luvata Pori Oy  1.000000   \n",
            "...      ...       ...                                      ...       ...   \n",
            "5726  2024Q3  841581.0                 Metso Outotec Finland Oy  1.000000   \n",
            "5727  2024Q3  850650.0        Asahi Kasei E Materials Korea Inc  1.000000   \n",
            "5728  2024Q3  851030.0            Traktionssysteme Austria Gmbh  1.000000   \n",
            "5729  2024Q3  853649.0  Panasonic Operational Excellence Co Ltd  1.000000   \n",
            "5730  2024Q3  854311.0  Panasonic Operational Excellence Co Ltd  1.000000   \n",
            "\n",
            "      MeanSimilarity  x_ik^g(t)  \n",
            "0           0.767992   0.767992  \n",
            "1           0.771778   0.771778  \n",
            "2           0.780612   0.669096  \n",
            "3           0.780612   0.111516  \n",
            "4           0.771778   0.771778  \n",
            "...              ...        ...  \n",
            "5726        0.797322   0.797322  \n",
            "5727        0.787760   0.787760  \n",
            "5728        0.825779   0.825779  \n",
            "5729        0.817230   0.817230  \n",
            "5730        0.725186   0.725186  \n",
            "\n",
            "[5731 rows x 6 columns]\n"
          ]
        }
      ]
    },
    {
      "cell_type": "code",
      "source": [
        "\"\"\"\n",
        "I have computed x_ik^g(t) for each quarter. NOte wgg' is not time defined so we should include an assumption there. AKA we assume in the short run\n",
        "firm i can replace suppliers from it's current set of suppliers easilly.\n",
        "Now let's plot it as a network just for fun"
      ],
      "metadata": {
        "id": "XqSxhMMQguWl",
        "executionInfo": {
          "status": "error",
          "timestamp": 1741716428522,
          "user_tz": 0,
          "elapsed": 38,
          "user": {
            "displayName": "Chill Pill",
            "userId": "01927933884064651779"
          }
        },
        "colab": {
          "base_uri": "https://localhost:8080/",
          "height": 106
        },
        "outputId": "70686d4c-1a98-41bc-9255-0eb0a42cf79d"
      },
      "execution_count": 42,
      "outputs": [
        {
          "output_type": "error",
          "ename": "SyntaxError",
          "evalue": "incomplete input (<ipython-input-42-b51421ae3e92>, line 1)",
          "traceback": [
            "\u001b[0;36m  File \u001b[0;32m\"<ipython-input-42-b51421ae3e92>\"\u001b[0;36m, line \u001b[0;32m1\u001b[0m\n\u001b[0;31m    \"\"\"\u001b[0m\n\u001b[0m    ^\u001b[0m\n\u001b[0;31mSyntaxError\u001b[0m\u001b[0;31m:\u001b[0m incomplete input\n"
          ]
        }
      ]
    },
    {
      "cell_type": "code",
      "source": [
        "#We first fing the relationship xik(t) by aggregating the substitutabilityu scores across all products of a supplier for a given quarter t.\n",
        "\"\"\"\n",
        "Code explanation:\n",
        "What it does: For each (Quarter, Supplier Name) pair, it takes all rows of different HS codes and computes the mean of x_ik^g(t).\n",
        "The resulting column 'Aggregated_x_ik' is your  in notation."
      ],
      "metadata": {
        "id": "5VjnW9N75WVJ",
        "executionInfo": {
          "status": "aborted",
          "timestamp": 1741716428798,
          "user_tz": 0,
          "elapsed": 0,
          "user": {
            "displayName": "Chill Pill",
            "userId": "01927933884064651779"
          }
        }
      },
      "execution_count": null,
      "outputs": []
    },
    {
      "cell_type": "code",
      "source": [
        "# 1) Group by quarter & supplier, then average x_{ik}^g(t) across products\n",
        "df_x_agg = (\n",
        "    df_x\n",
        "    .groupby(['Quarter', 'Supplier Name'], as_index=False)\n",
        "    .agg(Aggregated_x_ik=('x_ik^g(t)', 'mean'))  # or 'sum' if you prefer summation\n",
        ")\n",
        "\n",
        "# 2) Inspect the result\n",
        "print(df_x_agg.head(15))"
      ],
      "metadata": {
        "colab": {
          "base_uri": "https://localhost:8080/"
        },
        "id": "I4QuWPxX5WYP",
        "executionInfo": {
          "status": "ok",
          "timestamp": 1741716445946,
          "user_tz": 0,
          "elapsed": 24,
          "user": {
            "displayName": "Chill Pill",
            "userId": "01927933884064651779"
          }
        },
        "outputId": "53f8d829-06f4-4879-b4f0-a57d6ae971b0"
      },
      "execution_count": 43,
      "outputs": [
        {
          "output_type": "stream",
          "name": "stdout",
          "text": [
            "   Quarter                   Supplier Name  Aggregated_x_ik\n",
            "0   2015Q1  Dissaco Nv As Agent For Iba Sa         0.767992\n",
            "1   2015Q1                  Luvata Pori Oy         0.771778\n",
            "2   2015Q1   Traktionssysteme Austria Gmbh         0.669096\n",
            "3   2015Q1          Zako Turcin Spol S R O         0.111516\n",
            "4   2015Q2                  Luvata Pori Oy         0.771778\n",
            "5   2015Q2       Tesla Engineering Limited         0.809444\n",
            "6   2015Q2   Traktionssysteme Austria Gmbh         0.780612\n",
            "7   2015Q3                  Luvata Pori Oy         0.771778\n",
            "8   2015Q3          Zako Turcin Spol S R O         0.780612\n",
            "9   2015Q4                  Luvata Pori Oy         0.771778\n",
            "10  2016Q2                  Luvata Pori Oy         0.771778\n",
            "11  2016Q3                          Iba Sa         0.767992\n",
            "12  2016Q3                  Luvata Pori Oy         0.771778\n",
            "13  2016Q3   Traktionssysteme Austria Gmbh         0.780612\n",
            "14  2016Q4                          Iba Sa         0.767992\n"
          ]
        }
      ]
    },
    {
      "cell_type": "code",
      "source": [
        "#let's now visualise the network. the edges are the xik(t) for each quarter. suppliers keK are the nodes all of which ship to tesla"
      ],
      "metadata": {
        "id": "UhxXeDh85WbA",
        "executionInfo": {
          "status": "ok",
          "timestamp": 1741716445948,
          "user_tz": 0,
          "elapsed": 3,
          "user": {
            "displayName": "Chill Pill",
            "userId": "01927933884064651779"
          }
        }
      },
      "execution_count": 44,
      "outputs": []
    },
    {
      "cell_type": "code",
      "source": [
        "import networkx as nx"
      ],
      "metadata": {
        "id": "h_anJB6t5Wdq",
        "executionInfo": {
          "status": "ok",
          "timestamp": 1741716446736,
          "user_tz": 0,
          "elapsed": 786,
          "user": {
            "displayName": "Chill Pill",
            "userId": "01927933884064651779"
          }
        }
      },
      "execution_count": 45,
      "outputs": []
    },
    {
      "cell_type": "code",
      "source": [
        "# 1) Filter by the quarter, then rename columns\n",
        "quarter_of_interest = \"2020Q3\"\n",
        "df_plot = df_x_agg[df_x_agg['Quarter'] == quarter_of_interest].copy()\n",
        "\n",
        "print(\"Before rename, columns are:\", df_plot.columns.tolist())\n",
        "# Suppose we see \"Supplier Name\" and \"Aggregated_x_ik\" in that list.\n",
        "\n",
        "df_plot.rename(\n",
        "    columns={\n",
        "        'Supplier Name': 'Supplier_Name',\n",
        "        'Aggregated_x_ik': 'Aggregated_x_ik'\n",
        "    },\n",
        "    inplace=True\n",
        ")\n",
        "print(\"After rename, columns are:\", df_plot.columns.tolist())"
      ],
      "metadata": {
        "colab": {
          "base_uri": "https://localhost:8080/"
        },
        "id": "eRcsiTf_-D3P",
        "executionInfo": {
          "status": "ok",
          "timestamp": 1741716446742,
          "user_tz": 0,
          "elapsed": 4,
          "user": {
            "displayName": "Chill Pill",
            "userId": "01927933884064651779"
          }
        },
        "outputId": "782042e7-e906-4b36-b675-2f7bdda112cc"
      },
      "execution_count": 46,
      "outputs": [
        {
          "output_type": "stream",
          "name": "stdout",
          "text": [
            "Before rename, columns are: ['Quarter', 'Supplier Name', 'Aggregated_x_ik']\n",
            "After rename, columns are: ['Quarter', 'Supplier_Name', 'Aggregated_x_ik']\n"
          ]
        }
      ]
    },
    {
      "cell_type": "code",
      "source": [
        "# 2) Use .itertuples() with named attributes\n",
        "#    Now we can do row.Supplier_Name, row.Aggregated_x_ik, etc.\n",
        "G = nx.Graph()\n",
        "G.add_node(\"Tesla\", bipartite=0)\n",
        "\n",
        "for row in df_plot.itertuples(index=False):\n",
        "    supplier = row.Supplier_Name  # now a valid attribute\n",
        "    x_ik = row.Aggregated_x_ik\n",
        "\n",
        "    G.add_node(supplier, bipartite=1)\n",
        "    G.add_edge(\"Tesla\", supplier, weight=x_ik)\n"
      ],
      "metadata": {
        "id": "yD_lu442-D6r",
        "executionInfo": {
          "status": "ok",
          "timestamp": 1741716446744,
          "user_tz": 0,
          "elapsed": 1,
          "user": {
            "displayName": "Chill Pill",
            "userId": "01927933884064651779"
          }
        }
      },
      "execution_count": 47,
      "outputs": []
    },
    {
      "cell_type": "code",
      "source": [
        "# 3) Layout: Tesla on x=0, suppliers on x=2\n",
        "pos = dict()\n",
        "pos[\"Tesla\"] = (0, 0)\n",
        "for i, sup in enumerate(df_plot['Supplier_Name'].unique()):\n",
        "    pos[sup] = (2, i*1.0)"
      ],
      "metadata": {
        "id": "s0mgtMq0-EHf",
        "executionInfo": {
          "status": "ok",
          "timestamp": 1741716446747,
          "user_tz": 0,
          "elapsed": 3,
          "user": {
            "displayName": "Chill Pill",
            "userId": "01927933884064651779"
          }
        }
      },
      "execution_count": 48,
      "outputs": []
    },
    {
      "cell_type": "code",
      "source": [
        "# 4) Draw\n",
        "plt.figure(figsize=(8,6))\n",
        "pos = nx.circular_layout(G)\n",
        "nx.draw_networkx_nodes(G, pos, node_color='lightblue', node_size=800)\n",
        "nx.draw_networkx_labels(G, pos, font_size=8)\n",
        "nx.draw_networkx_edges(G, pos)\n",
        "\n",
        "# Edge labels\n",
        "edge_labels = {(u,v): f\"{data['weight']:.3f}\" for u,v,data in G.edges(data=True)}\n",
        "nx.draw_networkx_edge_labels(G, pos, edge_labels=edge_labels, font_size=8)\n",
        "\n",
        "plt.title(f\"Supplier\u2013Tesla network for {quarter_of_interest}\")\n",
        "plt.axis(\"off\")\n",
        "plt.show()"
      ],
      "metadata": {
        "colab": {
          "base_uri": "https://localhost:8080/",
          "height": 521
        },
        "id": "Cfi5vTJ5FZ1y",
        "executionInfo": {
          "status": "ok",
          "timestamp": 1741716447221,
          "user_tz": 0,
          "elapsed": 475,
          "user": {
            "displayName": "Chill Pill",
            "userId": "01927933884064651779"
          }
        },
        "outputId": "7cfb624f-028f-4d90-9d97-e0effdc0b2ae"
      },
      "execution_count": 49,
      "outputs": [
        {
          "output_type": "display_data",
          "data": {
            "text/plain": [
              "<Figure size 800x600 with 1 Axes>"
            ],
            "image/png": "[encoded data removed]"
          },
          "metadata": {}
        }
      ]
    },
    {
      "cell_type": "code",
      "source": [
        "\"\"\"\n",
        "Cool now let's make it interactive"
      ],
      "metadata": {
        "id": "aI9U6p4qGPJ5",
        "executionInfo": {
          "status": "error",
          "timestamp": 1741716447228,
          "user_tz": 0,
          "elapsed": 4,
          "user": {
            "displayName": "Chill Pill",
            "userId": "01927933884064651779"
          }
        },
        "colab": {
          "base_uri": "https://localhost:8080/",
          "height": 106
        },
        "outputId": "ef7eb421-189d-4b95-897b-80e29aea90b0"
      },
      "execution_count": 50,
      "outputs": [
        {
          "output_type": "error",
          "ename": "SyntaxError",
          "evalue": "incomplete input (<ipython-input-50-af834c1c72f0>, line 1)",
          "traceback": [
            "\u001b[0;36m  File \u001b[0;32m\"<ipython-input-50-af834c1c72f0>\"\u001b[0;36m, line \u001b[0;32m1\u001b[0m\n\u001b[0;31m    \"\"\"\u001b[0m\n\u001b[0m    ^\u001b[0m\n\u001b[0;31mSyntaxError\u001b[0m\u001b[0;31m:\u001b[0m incomplete input\n"
          ]
        }
      ]
    },
    {
      "cell_type": "code",
      "source": [
        "import ipywidgets as widgets\n",
        "from IPython.display import display\n"
      ],
      "metadata": {
        "id": "NTO0Bj2zJilW",
        "executionInfo": {
          "status": "ok",
          "timestamp": 1741716455615,
          "user_tz": 0,
          "elapsed": 44,
          "user": {
            "displayName": "Chill Pill",
            "userId": "01927933884064651779"
          }
        }
      },
      "execution_count": 51,
      "outputs": []
    },
    {
      "cell_type": "code",
      "source": [
        "df_temp = df_x_agg.copy()\n",
        "\n",
        "# Rename columns to simpler names so they work well with .itertuples()\n",
        "df_temp.rename(\n",
        "    columns={\n",
        "        \"Supplier Name\": \"Supplier_Name\",\n",
        "        \"Aggregated_x_ik\": \"Aggregated_x_ik\"\n",
        "    },\n",
        "    inplace=True\n",
        ")\n",
        "\n",
        "# Let's see the unique quarters\n",
        "unique_quarters = sorted(df_temp['Quarter'].unique())\n",
        "print(\"Available quarters:\", unique_quarters)\n"
      ],
      "metadata": {
        "colab": {
          "base_uri": "https://localhost:8080/"
        },
        "id": "Ug_BOO4sJiof",
        "executionInfo": {
          "status": "ok",
          "timestamp": 1741716455625,
          "user_tz": 0,
          "elapsed": 8,
          "user": {
            "displayName": "Chill Pill",
            "userId": "01927933884064651779"
          }
        },
        "outputId": "8271af26-ff9e-43b1-ef85-4b70d02285f1"
      },
      "execution_count": 52,
      "outputs": [
        {
          "output_type": "stream",
          "name": "stdout",
          "text": [
            "Available quarters: [Period('2015Q1', 'Q-DEC'), Period('2015Q2', 'Q-DEC'), Period('2015Q3', 'Q-DEC'), Period('2015Q4', 'Q-DEC'), Period('2016Q2', 'Q-DEC'), Period('2016Q3', 'Q-DEC'), Period('2016Q4', 'Q-DEC'), Period('2017Q1', 'Q-DEC'), Period('2017Q2', 'Q-DEC'), Period('2017Q3', 'Q-DEC'), Period('2017Q4', 'Q-DEC'), Period('2018Q1', 'Q-DEC'), Period('2018Q2', 'Q-DEC'), Period('2018Q3', 'Q-DEC'), Period('2018Q4', 'Q-DEC'), Period('2019Q1', 'Q-DEC'), Period('2019Q2', 'Q-DEC'), Period('2019Q3', 'Q-DEC'), Period('2019Q4', 'Q-DEC'), Period('2020Q1', 'Q-DEC'), Period('2020Q2', 'Q-DEC'), Period('2020Q3', 'Q-DEC'), Period('2020Q4', 'Q-DEC'), Period('2021Q1', 'Q-DEC'), Period('2021Q2', 'Q-DEC'), Period('2021Q3', 'Q-DEC'), Period('2021Q4', 'Q-DEC'), Period('2022Q1', 'Q-DEC'), Period('2022Q2', 'Q-DEC'), Period('2022Q3', 'Q-DEC'), Period('2022Q4', 'Q-DEC'), Period('2023Q1', 'Q-DEC'), Period('2023Q2', 'Q-DEC'), Period('2023Q3', 'Q-DEC'), Period('2023Q4', 'Q-DEC'), Period('2024Q1', 'Q-DEC'), Period('2024Q2', 'Q-DEC'), Period('2024Q3', 'Q-DEC')]\n"
          ]
        }
      ]
    },
    {
      "cell_type": "code",
      "source": [
        "def plot_quarter_network(quarter_of_interest):\n",
        "    \"\"\"\n",
        "    Given a quarter (string like '2015Q1'),\n",
        "    build a bipartite (Tesla, Suppliers) network\n",
        "    with edges weighted by Aggregated_x_ik.\n",
        "    \"\"\"\n",
        "    # 1) Filter to the chosen quarter\n",
        "    df_plot = df_temp[df_temp['Quarter'] == quarter_of_interest].copy()\n",
        "\n",
        "    # 2) Create a graph; add Tesla as the single \"buyer\" node\n",
        "    G = nx.Graph()\n",
        "    G.add_node(\"Tesla\", bipartite=0)\n",
        "\n",
        "    # 3) Add edges from Tesla -> each supplier with 'weight' = x_ik\n",
        "    for row in df_plot.itertuples(index=False):\n",
        "        supplier = row.Supplier_Name\n",
        "        x_ik = row.Aggregated_x_ik\n",
        "        G.add_node(supplier, bipartite=1)\n",
        "        G.add_edge(\"Tesla\", supplier, weight=x_ik)\n",
        "\n",
        "    # 4) Simple bipartite layout: Tesla on left, suppliers on right\n",
        "    pos = {}\n",
        "    pos[\"Tesla\"] = (0, 0)\n",
        "    for i, sup in enumerate(df_plot['Supplier_Name'].unique()):\n",
        "        pos[sup] = (2, i * 1.0)  # x=2, different y\n",
        "\n",
        "    # 5) Draw the network\n",
        "    plt.figure(figsize=(8,6))\n",
        "    pos = nx.circular_layout(G)\n",
        "    nx.draw_networkx_nodes(G, pos, node_color='lightblue', node_size=800)\n",
        "    nx.draw_networkx_labels(G, pos, font_size=8)\n",
        "    nx.draw_networkx_edges(G, pos)\n",
        "\n",
        "    # 6) Edge labels for the x_ik weight\n",
        "    edge_labels = {(u,v): f\"{data['weight']:.3f}\" for u,v,data in G.edges(data=True)}\n",
        "    nx.draw_networkx_edge_labels(G, pos, edge_labels=edge_labels, font_size=8)\n",
        "\n",
        "    plt.title(f\"Supplier\u2013Tesla network for {quarter_of_interest}\")\n",
        "    plt.axis(\"off\")\n",
        "    plt.show()\n"
      ],
      "metadata": {
        "id": "1CrDydacJirN",
        "executionInfo": {
          "status": "ok",
          "timestamp": 1741716455659,
          "user_tz": 0,
          "elapsed": 35,
          "user": {
            "displayName": "Chill Pill",
            "userId": "01927933884064651779"
          }
        }
      },
      "execution_count": 53,
      "outputs": []
    },
    {
      "cell_type": "code",
      "source": [
        "# Create a dropdown widget to pick the quarter\n",
        "quarter_dropdown = widgets.Dropdown(\n",
        "    options=unique_quarters,\n",
        "    description='Quarter:',\n",
        "    value=unique_quarters[0]  # default selection\n",
        ")\n",
        "\n",
        "# Use `interact` to tie the function to the widget\n",
        "widgets.interact(plot_quarter_network, quarter_of_interest=quarter_dropdown)\n"
      ],
      "metadata": {
        "colab": {
          "base_uri": "https://localhost:8080/",
          "height": 675,
          "referenced_widgets": [
            "1f6dda3449fd4493b2837e0f7cdcffc1",
            "5723c1d0b20341698eaef2b2753b1922",
            "234a414dc26440949f1a7320a7188963",
            "9231b307ce124ac498b79dc9088e6f80",
            "9773e0cd3f774b88a3e9a247a876708c",
            "bce281ab8bf240f2adb4d294e4800452",
            "87e9d19dd34a44e7ac903ff0051d96e7"
          ]
        },
        "id": "5ZaJ3AZBJsT2",
        "executionInfo": {
          "status": "ok",
          "timestamp": 1741716455928,
          "user_tz": 0,
          "elapsed": 267,
          "user": {
            "displayName": "Chill Pill",
            "userId": "01927933884064651779"
          }
        },
        "outputId": "5e26c93d-d51f-40da-dc4b-71cc4472528f"
      },
      "execution_count": 54,
      "outputs": [
        {
          "output_type": "display_data",
          "data": {
            "text/plain": [
              "interactive(children=(Dropdown(description='Quarter:', options=(Period('2015Q1', 'Q-DEC'), Period('2015Q2', 'Q\u2026"
            ],
            "application/vnd.jupyter.widget-view+json": {
              "version_major": 2,
              "version_minor": 0,
              "model_id": "1f6dda3449fd4493b2837e0f7cdcffc1"
            }
          },
          "metadata": {}
        },
        {
          "output_type": "execute_result",
          "data": {
            "text/plain": [
              "<function __main__.plot_quarter_network(quarter_of_interest)>"
            ],
            "text/html": [
              "<div style=\"max-width:800px; border: 1px solid var(--colab-border-color);\"><style>\n",
              "      pre.function-repr-contents {\n",
              "        overflow-x: auto;\n",
              "        padding: 8px 12px;\n",
              "        max-height: 500px;\n",
              "      }\n",
              "\n",
              "      pre.function-repr-contents.function-repr-contents-collapsed {\n",
              "        cursor: pointer;\n",
              "        max-height: 100px;\n",
              "      }\n",
              "    </style>\n",
              "    <pre style=\"white-space: initial; background:\n",
              "         var(--colab-secondary-surface-color); padding: 8px 12px;\n",
              "         border-bottom: 1px solid var(--colab-border-color);\"><b>plot_quarter_network</b><br/>def plot_quarter_network(quarter_of_interest)</pre><pre class=\"function-repr-contents function-repr-contents-collapsed\" style=\"\"><a class=\"filepath\" style=\"display:none\" href=\"#\">/content/&lt;ipython-input-53-54f77aa4ffa6&gt;</a>Given a quarter (string like &#x27;2015Q1&#x27;),\n",
              "build a bipartite (Tesla, Suppliers) network\n",
              "with edges weighted by Aggregated_x_ik.</pre></div>"
            ]
          },
          "metadata": {},
          "execution_count": 54
        }
      ]
    },
    {
      "cell_type": "code",
      "source": [
        "\"\"\"\n",
        "Next steps - find controll data & regression data & start regressing for tesla"
      ],
      "metadata": {
        "id": "cxW8AgHwJsXC",
        "executionInfo": {
          "status": "error",
          "timestamp": 1741716455930,
          "user_tz": 0,
          "elapsed": 46,
          "user": {
            "displayName": "Chill Pill",
            "userId": "01927933884064651779"
          }
        },
        "colab": {
          "base_uri": "https://localhost:8080/",
          "height": 106
        },
        "outputId": "d6b3fd05-595c-42a1-9667-484f6da2c932"
      },
      "execution_count": 55,
      "outputs": [
        {
          "output_type": "error",
          "ename": "SyntaxError",
          "evalue": "incomplete input (<ipython-input-55-b12e34f396e5>, line 1)",
          "traceback": [
            "\u001b[0;36m  File \u001b[0;32m\"<ipython-input-55-b12e34f396e5>\"\u001b[0;36m, line \u001b[0;32m1\u001b[0m\n\u001b[0;31m    \"\"\"\u001b[0m\n\u001b[0m    ^\u001b[0m\n\u001b[0;31mSyntaxError\u001b[0m\u001b[0;31m:\u001b[0m incomplete input\n"
          ]
        }
      ]
    },
    {
      "cell_type": "code",
      "source": [
        "import statsmodels.formula.api as smf\n",
        "import statsmodels.api as sm"
      ],
      "metadata": {
        "id": "L4PKBe-AJsaa",
        "executionInfo": {
          "status": "ok",
          "timestamp": 1741716464106,
          "user_tz": 0,
          "elapsed": 2475,
          "user": {
            "displayName": "Chill Pill",
            "userId": "01927933884064651779"
          }
        }
      },
      "execution_count": 56,
      "outputs": []
    },
    {
      "cell_type": "code",
      "source": [
        "#!!!!!!!!!Weight by transaction amount - update: Sikgt is already a weight by transaction amount so no need to weight"
      ],
      "metadata": {
        "id": "VJYtzPP76fm3",
        "executionInfo": {
          "status": "ok",
          "timestamp": 1741716464108,
          "user_tz": 0,
          "elapsed": 6,
          "user": {
            "displayName": "Chill Pill",
            "userId": "01927933884064651779"
          }
        }
      },
      "execution_count": 57,
      "outputs": []
    },
    {
      "cell_type": "code",
      "source": [
        "###############################################\n",
        "# A) AGGREGATE X_ik(t) INTO X(t) PER QUARTER #\n",
        "###############################################\n",
        "\n",
        "# Suppose your DataFrame \"df_x_agg\" has columns:\n",
        "#  ['Quarter', 'Supplier Name', 'Aggregated_x_ik']\n",
        "#  from the step where you group by (Quarter, Supplier)\n",
        "#  and average x_{ik}^g(t) across products.\n",
        "\n",
        "# 1) For each Quarter, average across all suppliers:\n",
        "df_quarter_x = (\n",
        "    df_x_agg\n",
        "    .groupby('Quarter', as_index=False)\n",
        "    .agg(Xit=('Aggregated_x_ik', 'mean'))  # call it \"X\" for x(t)\n",
        ")\n",
        "\n",
        "print(df_quarter_x.head(40))"
      ],
      "metadata": {
        "id": "wWUtPNBfZVtV",
        "executionInfo": {
          "status": "ok",
          "timestamp": 1741716464110,
          "user_tz": 0,
          "elapsed": 7,
          "user": {
            "displayName": "Chill Pill",
            "userId": "01927933884064651779"
          }
        },
        "colab": {
          "base_uri": "https://localhost:8080/"
        },
        "outputId": "39a51a03-ddea-4cd8-98b8-678243a37e08"
      },
      "execution_count": 58,
      "outputs": [
        {
          "output_type": "stream",
          "name": "stdout",
          "text": [
            "   Quarter       Xit\n",
            "0   2015Q1  0.580095\n",
            "1   2015Q2  0.787278\n",
            "2   2015Q3  0.776195\n",
            "3   2015Q4  0.771778\n",
            "4   2016Q2  0.771778\n",
            "5   2016Q3  0.773461\n",
            "6   2016Q4  0.787569\n",
            "7   2017Q1  0.766145\n",
            "8   2017Q2  0.665114\n",
            "9   2017Q3  0.621730\n",
            "10  2017Q4  0.763491\n",
            "11  2018Q1  0.777181\n",
            "12  2018Q2  0.768006\n",
            "13  2018Q3  0.740182\n",
            "14  2018Q4  0.697946\n",
            "15  2019Q1  0.762491\n",
            "16  2019Q2  0.796779\n",
            "17  2019Q3  0.783981\n",
            "18  2019Q4  0.623179\n",
            "19  2020Q1  0.643052\n",
            "20  2020Q2  0.782919\n",
            "21  2020Q3  0.591512\n",
            "22  2020Q4  0.657301\n",
            "23  2021Q1  0.790424\n",
            "24  2021Q2  0.725389\n",
            "25  2021Q3  0.788953\n",
            "26  2021Q4  0.718089\n",
            "27  2022Q1  0.645575\n",
            "28  2022Q2  0.626115\n",
            "29  2022Q3  0.684257\n",
            "30  2022Q4  0.645599\n",
            "31  2023Q1  0.275529\n",
            "32  2023Q2  0.226382\n",
            "33  2023Q3  0.238799\n",
            "34  2023Q4  0.544158\n",
            "35  2024Q1  0.698980\n",
            "36  2024Q2  0.690232\n",
            "37  2024Q3  0.630723\n"
          ]
        }
      ]
    },
    {
      "cell_type": "code",
      "source": [
        "# Export to Excel\n",
        "df_quarter_x.to_excel(\"quarterly_data.xlsx\", index=False)\n",
        "\n",
        "print(\"Excel file saved as 'quarterly_data.xlsx'.\")"
      ],
      "metadata": {
        "colab": {
          "base_uri": "https://localhost:8080/"
        },
        "id": "q-UaUvHMZaVl",
        "executionInfo": {
          "status": "ok",
          "timestamp": 1741717095927,
          "user_tz": 0,
          "elapsed": 41,
          "user": {
            "displayName": "Chill Pill",
            "userId": "01927933884064651779"
          }
        },
        "outputId": "bec55a97-9750-4e42-cabb-c96ae1ffeb2c"
      },
      "execution_count": 63,
      "outputs": [
        {
          "output_type": "stream",
          "name": "stdout",
          "text": [
            "Excel file saved as 'quarterly_data.xlsx'.\n"
          ]
        }
      ]
    },
    {
      "cell_type": "code",
      "source": [
        "file_path = '/content/drive/My Drive/DISS DATA/Gross_Margin_Tesla.xlsx'\n",
        "df = pd.read_excel(file_path)\n",
        "print(df.head())"
      ],
      "metadata": {
        "id": "2qDIBbLmZVuq",
        "executionInfo": {
          "status": "ok",
          "timestamp": 1741716464647,
          "user_tz": 0,
          "elapsed": 542,
          "user": {
            "displayName": "Chill Pill",
            "userId": "01927933884064651779"
          }
        },
        "colab": {
          "base_uri": "https://localhost:8080/"
        },
        "outputId": "8f1ece9c-be98-407a-caf5-94c09d625d11"
      },
      "execution_count": 59,
      "outputs": [
        {
          "output_type": "stream",
          "name": "stdout",
          "text": [
            "  Quarter  Tesla Automtive Cost Of Revenue (in millions of $)  \\\n",
            "0  2024Q4                                              16510    \n",
            "1  2024Q3                                              15990    \n",
            "2  2024Q2                                              16207    \n",
            "3  2024Q1                                              14166    \n",
            "4  2023Q4                                              17498    \n",
            "\n",
            "   Units of cars produced (per quarter)  \\\n",
            "0                                459445   \n",
            "1                                469796   \n",
            "2                                410831   \n",
            "3                                433371   \n",
            "4                                494989   \n",
            "\n",
            "   Tesla Automtive Cost Of Revenue (absolute value)  \\\n",
            "0                                       16510000000   \n",
            "1                                       15990000000   \n",
            "2                                       16207000000   \n",
            "3                                       14166000000   \n",
            "4                                       17498000000   \n",
            "\n",
            "   Cost Per Unit (per quarter, Assumption: 50% is raw materials from rough estimates)  \\\n",
            "0                                       35934.660297                                    \n",
            "1                                       34036.049690                                    \n",
            "2                                       39449.311274                                    \n",
            "3                                       32687.927895                                    \n",
            "4                                       35350.280511                                    \n",
            "\n",
            "   Cost of Raw Materials per Unit Produced (Divide by 2 to get in the assumption)  \n",
            "0                                       17967.330148                               \n",
            "1                                       17018.024845                               \n",
            "2                                       19724.655637                               \n",
            "3                                       16343.963948                               \n",
            "4                                       17675.140256                               \n"
          ]
        }
      ]
    },
    {
      "cell_type": "code",
      "source": [
        "#merge and then run the regression :)"
      ],
      "metadata": {
        "id": "aFWGBnSpZV_Y",
        "executionInfo": {
          "status": "ok",
          "timestamp": 1741716464665,
          "user_tz": 0,
          "elapsed": 1,
          "user": {
            "displayName": "Chill Pill",
            "userId": "01927933884064651779"
          }
        }
      },
      "execution_count": 60,
      "outputs": []
    },
    {
      "cell_type": "code",
      "source": [
        "\"\"\"\n",
        "Alberto's feedback: 1. Divide by units of cars produced to be able to compare variation\n",
        "                    2. FIX NOTATION - his hair goes up when he sees my notation :)\n",
        "                    3. Time Fixed effects will not need controlls for inflation - look on how to do it\n",
        "                    4. Table needs to sum up to 1"
      ],
      "metadata": {
        "id": "D1tS4x2vZWCj",
        "executionInfo": {
          "status": "error",
          "timestamp": 1741716464670,
          "user_tz": 0,
          "elapsed": 4,
          "user": {
            "displayName": "Chill Pill",
            "userId": "01927933884064651779"
          }
        },
        "colab": {
          "base_uri": "https://localhost:8080/",
          "height": 106
        },
        "outputId": "b960d980-0498-400e-d4bb-df997fad7be4"
      },
      "execution_count": 61,
      "outputs": [
        {
          "output_type": "error",
          "ename": "SyntaxError",
          "evalue": "incomplete input (<ipython-input-61-e77fc24430dd>, line 1)",
          "traceback": [
            "\u001b[0;36m  File \u001b[0;32m\"<ipython-input-61-e77fc24430dd>\"\u001b[0;36m, line \u001b[0;32m1\u001b[0m\n\u001b[0;31m    \"\"\"\u001b[0m\n\u001b[0m    ^\u001b[0m\n\u001b[0;31mSyntaxError\u001b[0m\u001b[0;31m:\u001b[0m incomplete input\n"
          ]
        }
      ]
    },
    {
      "cell_type": "code",
      "source": [
        "#Preliminaries - I do this to make everything easier\n",
        "# Choose the relevant columns, e.g.:\n",
        "df_cost = df[[\n",
        "    \"Quarter\",\n",
        "    \"Cost of Raw Materials per Unit Produced (Divide by 2 to get in the assumption)\"\n",
        "]].copy()\n",
        "\n",
        "# Rename the column so we can refer to it easily\n",
        "df_cost.columns = [\"Quarter\", \"cost_per_unit\"]\n",
        "\n",
        "\n",
        "# Convert 'Quarter' to string if needed\n",
        "df_quarter_x[\"Quarter\"] = df_quarter_x[\"Quarter\"].astype(str)\n",
        "df_cost[\"Quarter\"]      = df_cost[\"Quarter\"].astype(str)"
      ],
      "metadata": {
        "id": "TiIP-rmYZWFG",
        "executionInfo": {
          "status": "aborted",
          "timestamp": 1741716464668,
          "user_tz": 0,
          "elapsed": 3192,
          "user": {
            "displayName": "Chill Pill",
            "userId": "01927933884064651779"
          }
        }
      },
      "execution_count": null,
      "outputs": []
    },
    {
      "cell_type": "code",
      "source": [
        "##########################################\n",
        "# 3) MERGE df_quarter_x AND df_cost\n",
        "##########################################\n",
        "df_merged = pd.merge(\n",
        "    df_quarter_x,  # has 'Quarter' and 'Xit'\n",
        "    df_cost,       # has 'Quarter' and 'cost_per_unit'\n",
        "    on='Quarter',\n",
        "    how='inner'    # only keep quarters present in both\n",
        ")\n",
        "\n",
        "print(df_merged.head(41))  # Inspect merged data"
      ],
      "metadata": {
        "id": "wFvQ1UrSZWIh",
        "executionInfo": {
          "status": "aborted",
          "timestamp": 1741716464804,
          "user_tz": 0,
          "elapsed": 3326,
          "user": {
            "displayName": "Chill Pill",
            "userId": "01927933884064651779"
          }
        }
      },
      "execution_count": null,
      "outputs": []
    },
    {
      "cell_type": "code",
      "source": [
        "##########################################\n",
        "# 4) PLOT TIME SERIES\n",
        "##########################################\n",
        "fig, ax1 = plt.subplots(figsize=(8, 5))\n",
        "\n",
        "# Plot Xit (substitutability) on left y-axis\n",
        "ax1.set_xlabel('Quarter')\n",
        "ax1.set_ylabel('Xit (Substitutability)', color='blue')\n",
        "ax1.plot(df_merged['Quarter'], df_merged['Xit'], color='blue', marker='o', label='Xit')\n",
        "ax1.tick_params(axis='y', labelcolor='blue')\n",
        "plt.xticks(rotation=45)\n",
        "\n",
        "# Plot cost on right y-axis\n",
        "ax2 = ax1.twinx()\n",
        "ax2.set_ylabel('Cost per Unit (Raw Materials)', color='red')\n",
        "ax2.plot(df_merged['Quarter'], df_merged['cost_per_unit'], color='red', marker='s', label='Cost')\n",
        "ax2.tick_params(axis='y', labelcolor='red')\n",
        "\n",
        "fig.legend(loc='upper left')\n",
        "fig.tight_layout()\n",
        "plt.show()"
      ],
      "metadata": {
        "id": "YN4DQW9wwrig",
        "executionInfo": {
          "status": "aborted",
          "timestamp": 1741716464807,
          "user_tz": 0,
          "elapsed": 3327,
          "user": {
            "displayName": "Chill Pill",
            "userId": "01927933884064651779"
          }
        }
      },
      "execution_count": null,
      "outputs": []
    },
    {
      "cell_type": "code",
      "source": [
        "##########################################\n",
        "# 5) SIMPLE REGRESSION (NOT CAUSAL)\n",
        "##########################################\n",
        "X = df_merged[['Xit']]        # predictor\n",
        "y = df_merged['cost_per_unit']  # outcome\n",
        "\n",
        "# Add intercept\n",
        "X = sm.add_constant(X)\n",
        "\n",
        "# Fit OLS\n",
        "model = sm.OLS(y, X).fit()\n",
        "print(model.summary())"
      ],
      "metadata": {
        "id": "IyB5OFeexL2w",
        "executionInfo": {
          "status": "aborted",
          "timestamp": 1741716464809,
          "user_tz": 0,
          "elapsed": 3328,
          "user": {
            "displayName": "Chill Pill",
            "userId": "01927933884064651779"
          }
        }
      },
      "execution_count": null,
      "outputs": []
    },
    {
      "cell_type": "code",
      "source": [
        "\"\"\"\n",
        "These results are super interesting! They proove that there likely is a relationship between my model of risk and the cost of production of Tesla!\n",
        "I can isolate the effect by controlling further which would be very interesting. My goal is to increase R2 while keeping the variables positive and significant.\n",
        "Additionally, Boostrapping could be used to increase the power of the test and increase the significance of variables.\n",
        "-Controls to increase R2\n",
        "-Boostrapping to keep significant values\n",
        "-In paper provide hypothesis testing\n",
        "-Add time fixed effefcts on quarters\n"
      ],
      "metadata": {
        "id": "uns_cloEyEJp",
        "executionInfo": {
          "status": "aborted",
          "timestamp": 1741716464809,
          "user_tz": 0,
          "elapsed": 3327,
          "user": {
            "displayName": "Chill Pill",
            "userId": "01927933884064651779"
          }
        }
      },
      "execution_count": null,
      "outputs": []
    },
    {
      "cell_type": "code",
      "source": [
        "#TWO Year Dummies\n",
        "\n",
        "df_merged = df_merged.copy()\n",
        "\n",
        "# 1) Extract the year (int) from '2015Q1'\n",
        "df_merged['Year_int'] = df_merged['Quarter'].str[:4].astype(int)\n",
        "\n",
        "# 2) Create a 2-year \"block\" label, e.g. 2015 -> 1007, 2016 -> 1008, etc.\n",
        "#    One approach: group = (year_int // 2). Then maybe convert to string.\n",
        "df_merged['TwoYearBlock'] = (df_merged['Year_int'] // 2).astype(str)"
      ],
      "metadata": {
        "id": "79gfPgs23WQl",
        "executionInfo": {
          "status": "aborted",
          "timestamp": 1741716464810,
          "user_tz": 0,
          "elapsed": 3326,
          "user": {
            "displayName": "Chill Pill",
            "userId": "01927933884064651779"
          }
        }
      },
      "execution_count": null,
      "outputs": []
    },
    {
      "cell_type": "code",
      "source": [
        "# 3) Get dummies for the 2-year block\n",
        "twoyr_dummies = pd.get_dummies(df_merged['TwoYearBlock'], prefix='Block', drop_first=True)\n"
      ],
      "metadata": {
        "id": "aHxkNQ4d3YyM",
        "executionInfo": {
          "status": "aborted",
          "timestamp": 1741716464824,
          "user_tz": 0,
          "elapsed": 3337,
          "user": {
            "displayName": "Chill Pill",
            "userId": "01927933884064651779"
          }
        }
      },
      "execution_count": null,
      "outputs": []
    },
    {
      "cell_type": "code",
      "source": [
        "twoyr_dummies = twoyr_dummies.astype(int)\n"
      ],
      "metadata": {
        "id": "mhGV8Mls3eu_",
        "executionInfo": {
          "status": "aborted",
          "timestamp": 1741716464826,
          "user_tz": 0,
          "elapsed": 3336,
          "user": {
            "displayName": "Chill Pill",
            "userId": "01927933884064651779"
          }
        }
      },
      "execution_count": null,
      "outputs": []
    },
    {
      "cell_type": "code",
      "source": [
        "print(twoyr_dummies.head(10))"
      ],
      "metadata": {
        "id": "RT_a3TZF3Zk2",
        "executionInfo": {
          "status": "aborted",
          "timestamp": 1741716464827,
          "user_tz": 0,
          "elapsed": 3335,
          "user": {
            "displayName": "Chill Pill",
            "userId": "01927933884064651779"
          }
        }
      },
      "execution_count": null,
      "outputs": []
    },
    {
      "cell_type": "code",
      "source": [
        "\n",
        "# 4) Combine Xit with the 2-year dummies\n",
        "X = pd.concat([df_merged[['Xit']], twoyr_dummies], axis=1)\n",
        "y = df_merged['cost_per_unit']\n",
        "\n",
        "# 5) Add intercept and run regression\n",
        "X = sm.add_constant(X)\n",
        "model = sm.OLS(y, X).fit()\n",
        "print(model.summary())\n"
      ],
      "metadata": {
        "id": "wv5wRECV3BTv",
        "executionInfo": {
          "status": "aborted",
          "timestamp": 1741716464829,
          "user_tz": 0,
          "elapsed": 3335,
          "user": {
            "displayName": "Chill Pill",
            "userId": "01927933884064651779"
          }
        }
      },
      "execution_count": null,
      "outputs": []
    },
    {
      "cell_type": "code",
      "source": [
        "#One year dummies"
      ],
      "metadata": {
        "id": "bdKGX41n3wC6",
        "executionInfo": {
          "status": "aborted",
          "timestamp": 1741716464832,
          "user_tz": 0,
          "elapsed": 3336,
          "user": {
            "displayName": "Chill Pill",
            "userId": "01927933884064651779"
          }
        }
      },
      "execution_count": null,
      "outputs": []
    },
    {
      "cell_type": "code",
      "source": [
        "df_merged = df_merged.copy()\n",
        "\n",
        "# 1) Extract year from a string like '2015Q1'\n",
        "df_merged['Year'] = df_merged['Quarter'].str[:4]\n",
        "\n",
        "# 2) Get dummies for the 'Year' column\n",
        "year_dummies = pd.get_dummies(df_merged['Year'], prefix='Year', drop_first=True)"
      ],
      "metadata": {
        "id": "CTkoXr9X35Vm",
        "executionInfo": {
          "status": "aborted",
          "timestamp": 1741716464836,
          "user_tz": 0,
          "elapsed": 3339,
          "user": {
            "displayName": "Chill Pill",
            "userId": "01927933884064651779"
          }
        }
      },
      "execution_count": null,
      "outputs": []
    },
    {
      "cell_type": "code",
      "source": [
        "year_dummies = year_dummies.astype(int)"
      ],
      "metadata": {
        "id": "yC6z-TSB3_cW",
        "executionInfo": {
          "status": "aborted",
          "timestamp": 1741716464839,
          "user_tz": 0,
          "elapsed": 3340,
          "user": {
            "displayName": "Chill Pill",
            "userId": "01927933884064651779"
          }
        }
      },
      "execution_count": null,
      "outputs": []
    },
    {
      "cell_type": "code",
      "source": [
        "print(year_dummies.head(10))"
      ],
      "metadata": {
        "id": "CbXHUbYw36aS",
        "executionInfo": {
          "status": "aborted",
          "timestamp": 1741716464841,
          "user_tz": 0,
          "elapsed": 3341,
          "user": {
            "displayName": "Chill Pill",
            "userId": "01927933884064651779"
          }
        }
      },
      "execution_count": null,
      "outputs": []
    },
    {
      "cell_type": "code",
      "source": [
        "\n",
        "\n",
        "# 3) Combine Xit with the year dummies\n",
        "X = pd.concat([df_merged[['Xit']], year_dummies], axis=1)\n",
        "y = df_merged['cost_per_unit']\n",
        "\n",
        "# 4) Add an intercept\n",
        "import statsmodels.api as sm\n",
        "X = sm.add_constant(X)\n",
        "\n",
        "# 5) Fit OLS\n",
        "model = sm.OLS(y, X).fit()\n",
        "print(model.summary())\n"
      ],
      "metadata": {
        "id": "4gJHLhKk3wF5",
        "executionInfo": {
          "status": "aborted",
          "timestamp": 1741716464843,
          "user_tz": 0,
          "elapsed": 3340,
          "user": {
            "displayName": "Chill Pill",
            "userId": "01927933884064651779"
          }
        }
      },
      "execution_count": null,
      "outputs": []
    },
    {
      "cell_type": "code",
      "source": [
        "#Dummies for each quarter --> drop 1 quarter --> try"
      ],
      "metadata": {
        "id": "Dt4HeUr269Z7",
        "executionInfo": {
          "status": "aborted",
          "timestamp": 1741716464845,
          "user_tz": 0,
          "elapsed": 3341,
          "user": {
            "displayName": "Chill Pill",
            "userId": "01927933884064651779"
          }
        }
      },
      "execution_count": null,
      "outputs": []
    }
  ]
}